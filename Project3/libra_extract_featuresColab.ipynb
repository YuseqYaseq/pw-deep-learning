{
  "nbformat": 4,
  "nbformat_minor": 0,
  "metadata": {
    "kernelspec": {
      "display_name": "Python 3",
      "language": "python",
      "name": "python3"
    },
    "language_info": {
      "codemirror_mode": {
        "name": "ipython",
        "version": 3
      },
      "file_extension": ".py",
      "mimetype": "text/x-python",
      "name": "python",
      "nbconvert_exporter": "python",
      "pygments_lexer": "ipython3",
      "version": "3.7.5"
    },
    "colab": {
      "name": "libra_extract_featuresColab.ipynb",
      "provenance": [],
      "collapsed_sections": []
    },
    "accelerator": "GPU"
  },
  "cells": [
    {
      "cell_type": "code",
      "metadata": {
        "id": "Gu56nKLG2eBc",
        "colab_type": "code",
        "colab": {}
      },
      "source": [
        "import os\n",
        "import re\n",
        "import hashlib\n",
        "from pathlib import Path\n",
        "import numpy as np\n",
        "import pandas as pd\n",
        "import librosa\n",
        "import librosa.display\n",
        "import matplotlib.pyplot as plt\n",
        "\n",
        "from sklearn import metrics \n",
        "from sklearn.preprocessing import LabelEncoder\n",
        "from sklearn.model_selection import train_test_split\n",
        "\n",
        "from keras.models import Sequential\n",
        "from keras.layers import Dense, Dropout, Activation, LSTM, Masking\n",
        "from keras.optimizers import Adam\n",
        "from keras.utils import to_categorical, Sequence\n",
        "from keras.callbacks import LearningRateScheduler"
      ],
      "execution_count": 0,
      "outputs": []
    },
    {
      "cell_type": "code",
      "metadata": {
        "id": "_vXUN1wr4AYe",
        "colab_type": "code",
        "colab": {}
      },
      "source": [
        "from google.colab import drive\n",
        "drive.mount('/gdrive')"
      ],
      "execution_count": 0,
      "outputs": []
    },
    {
      "cell_type": "code",
      "metadata": {
        "id": "X832QO43AlBE",
        "colab_type": "code",
        "colab": {}
      },
      "source": [
        "def plot_accuracy(history):\n",
        "  plt.plot(history.history['accuracy'])\n",
        "  plt.plot(history.history['val_accuracy'])\n",
        "  plt.legend(['Train acc', 'Valid acc'], loc='lower right')\n",
        "  plt.show()\n",
        "\n",
        "def plot_loss(history):\n",
        "  color = 'tab:orange'\n",
        "  fig, ax1 = plt.subplots()\n",
        "  ax1.plot(history.history['loss'], color=color)\n",
        "\n",
        "  ax2 = ax1.twinx()  # instantiate a second axes that shares the same x-axis\n",
        "  color = 'tab:blue'\n",
        "  ax2.plot(history.history['val_loss'], color=color)\n",
        "  \n",
        "  fig.tight_layout()\n",
        "  plt.legend(['Train loss', 'Valid loss'], loc='upper right')\n",
        "  plt.show()"
      ],
      "execution_count": 0,
      "outputs": []
    },
    {
      "cell_type": "code",
      "metadata": {
        "id": "UwIyHrbB2eBu",
        "colab_type": "code",
        "colab": {}
      },
      "source": [
        "def which_set(filename, validation_percentage, testing_percentage):\n",
        "    \"\"\"Determines which data partition the file should belong to.\n",
        "\n",
        "    We want to keep files in the same training, validation, or testing sets even\n",
        "    if new ones are added over time. This makes it less likely that testing\n",
        "    samples will accidentally be reused in training when long runs are restarted\n",
        "    for example. To keep this stability, a hash of the filename is taken and used\n",
        "    to determine which set it should belong to. This determination only depends on\n",
        "    the name and the set proportions, so it won't change as other files are added.\n",
        "\n",
        "    It's also useful to associate particular files as related (for example words\n",
        "    spoken by the same person), so anything after '_nohash_' in a filename is\n",
        "    ignored for set determination. This ensures that 'bobby_nohash_0.wav' and\n",
        "    'bobby_nohash_1.wav' are always in the same set, for example.\n",
        "\n",
        "    Args:\n",
        "    filename: File path of the data sample.\n",
        "    validation_percentage: How much of the data set to use for validation.\n",
        "    testing_percentage: How much of the data set to use for testing.\n",
        "\n",
        "    Returns:\n",
        "    String, one of 'train', 'validation', or 'test'.\n",
        "    \"\"\"\n",
        "    validation_percentage *= 100\n",
        "    testing_percentage *= 100\n",
        "    MAX_NUM_WAVS_PER_CLASS = 2**27 - 1  # ~134M\n",
        "    base_name = os.path.basename(filename)\n",
        "    # We want to ignore anything after '_nohash_' in the file name when\n",
        "    # deciding which set to put a wav in, so the data set creator has a way of\n",
        "    # grouping wavs that are close variations of each other.\n",
        "    hash_name = re.sub(r'_nohash_.*$', '', base_name)\n",
        "    # This looks a bit magical, but we need to decide whether this file should\n",
        "    # go into the training, testing, or validation sets, and we want to keep\n",
        "    # existing files in the same set even if more files are subsequently\n",
        "    # added.\n",
        "    # To do that, we need a stable way of deciding based on just the file name\n",
        "    # itself, so we do a hash of that and then use that to generate a\n",
        "    # probability value that we use to assign it.\n",
        "    hash_name_hashed = hashlib.sha1(hash_name.encode('utf-8')).hexdigest()\n",
        "    percentage_hash = ((int(hash_name_hashed, 16) %\n",
        "                      (MAX_NUM_WAVS_PER_CLASS + 1)) *\n",
        "                     (100.0 / MAX_NUM_WAVS_PER_CLASS))\n",
        "    \n",
        "    if percentage_hash < validation_percentage:\n",
        "        result = 'validation'\n",
        "    elif percentage_hash < (testing_percentage + validation_percentage):\n",
        "        result = 'test'\n",
        "    else:\n",
        "        result = 'train'\n",
        "    return result"
      ],
      "execution_count": 0,
      "outputs": []
    },
    {
      "cell_type": "code",
      "metadata": {
        "id": "2HhhGy0k2eB_",
        "colab_type": "code",
        "colab": {}
      },
      "source": [
        "# function for extracting features from the entire dataset\n",
        "def shuffle_in_unison(x, y, seed=None):\n",
        "    assert len(x) == len(y)\n",
        "    if seed is not None:\n",
        "        np.random.seed(seed)\n",
        "    p = np.random.permutation(len(x))\n",
        "    return x[p], y[p]\n",
        "\n",
        "def get_data(path: str, dataset: str, labels: list,\n",
        "                 validation_size: float, test_size: float,\n",
        "                 n_mfcc: int=13, hop_length: int=512, timeseries_length: int=64):\n",
        "    if dataset not in ['train', 'test', 'validation']:\n",
        "        raise RuntimeError(\"Select one of \\'train\\', \\'test\\', \\'validation\\'\")\n",
        "\n",
        "    x = []\n",
        "    y = []\n",
        "    if 'unknown' not in labels:\n",
        "        labels.append('unknown')\n",
        "    no_labels = len(labels)\n",
        "    for root, dirs, files in os.walk(path):\n",
        "        if len(files) > 0:\n",
        "            label = root.split('\\\\')[-1]\n",
        "            x += [Path(root) / file for file in files\n",
        "                       if which_set(file, validation_size, test_size) == dataset]\n",
        "            no = labels.index(label) if label in labels else labels.index('unknown')\n",
        "            y += [no for file in files\n",
        "                       if which_set(file, validation_size, test_size) == dataset]\n",
        "\n",
        "    x = np.array(x)\n",
        "    y = np.array(y)\n",
        "    y = to_categorical(y)\n",
        "    x, y = shuffle_in_unison(x, y, seed=1)\n",
        "\n",
        "    #####\n",
        "    # lets try to load all the data\n",
        "    data = np.zeros((len(x), timeseries_length, n_mfcc+20))\n",
        "    max_mfcc_length = 0\n",
        "\n",
        "    print(\"Loading audio files...\")\n",
        "    for i, file in enumerate(x):\n",
        "        print(f\"\\r{i}/{len(x)}\", end='')\n",
        "        file_path = x[i]\n",
        "        audio, sr = librosa.load(file_path)\n",
        "        mfcc = librosa.feature.mfcc(\n",
        "            y=audio, sr=sr, hop_length=hop_length, n_mfcc=n_mfcc\n",
        "        )\n",
        "        spectral_center = librosa.feature.spectral_centroid(\n",
        "            y=audio, sr=sr, hop_length=hop_length\n",
        "        )\n",
        "        chroma = librosa.feature.chroma_stft(y=audio, sr=sr, hop_length=hop_length)\n",
        "        spectral_contrast = librosa.feature.spectral_contrast(\n",
        "            y=audio, sr=sr, hop_length=hop_length\n",
        "        )\n",
        "        if len(mfcc) > max_mfcc_length:\n",
        "            max_mfcc_length = len(mfcc)\n",
        "        mfcc = mfcc.T[0:timeseries_length, :]\n",
        "        data[i, 0:len(mfcc), 0:n_mfcc] = mfcc\n",
        "        data[i, 0:len(mfcc), n_mfcc:n_mfcc+1] = spectral_center.T[0:timeseries_length, :]\n",
        "        data[i, 0:len(mfcc), n_mfcc+1:n_mfcc+13] = chroma.T[0:timeseries_length, :]\n",
        "        data[i, 0:len(mfcc), n_mfcc+13:n_mfcc+20] = spectral_contrast.T[0:timeseries_length, :]\n",
        "    \n",
        "    #data = data[:, 0:max_mfcc_length, :]\n",
        "    print(f\"\\r{len(x)}/{len(x)}\")\n",
        "    return data, y, max_mfcc_length"
      ],
      "execution_count": 0,
      "outputs": []
    },
    {
      "cell_type": "code",
      "metadata": {
        "id": "8fDqpoM12eCK",
        "colab_type": "code",
        "colab": {}
      },
      "source": [
        "# Extract features from audio files\n",
        "validation_size = 0.1\n",
        "test_size = 0.1\n",
        "labels=['yes', 'no', 'up', 'down', 'left', 'right', 'on', 'off', 'stop', 'go', 'unknown']\n",
        "\n",
        "#train_x, train_y, train_max_mfcc_length = get_data(Path('train/audio'), 'train',\n",
        "#                            labels, validation_size, test_size)\n",
        "#validation_x, validation_y, val_max_mfcc_length = get_data(Path('train/audio'), 'validation',\n",
        "#                                      labels, validation_size, test_size)\n",
        "#test_x, test_y, test_max_mfcc_length = get_data(Path('train/audio'), 'test',\n",
        "#                          labels, validation_size, test_size)\n"
      ],
      "execution_count": 0,
      "outputs": []
    },
    {
      "cell_type": "code",
      "metadata": {
        "id": "LywxnKAM2eCU",
        "colab_type": "code",
        "colab": {}
      },
      "source": [
        "## These np arrays need a lot of time to create so we'll save them in case something goes wrong.\n",
        "#np.save(Path('train/train_x_13mfcc'), train_x)\n",
        "#np.save(Path('train/train_y_13mfcc'), train_y)\n",
        "#np.save(Path('train/validation_x_13mfcc'), validation_x)\n",
        "#np.save(Path('train/validation_y_13mfcc'), validation_y)\n",
        "#np.save(Path('train/test_x_13mfcc'), test_x)\n",
        "#np.save(Path('train/test_y_13mfcc'), test_y)"
      ],
      "execution_count": 0,
      "outputs": []
    },
    {
      "cell_type": "code",
      "metadata": {
        "id": "8ZpwxKZ7mjTZ",
        "colab_type": "code",
        "colab": {}
      },
      "source": [
        "prefix = '/gdrive/My Drive/data/'"
      ],
      "execution_count": 0,
      "outputs": []
    },
    {
      "cell_type": "code",
      "metadata": {
        "id": "Sq26GP-I2eCf",
        "colab_type": "code",
        "colab": {}
      },
      "source": [
        "# In case something goes wrong restore the data\n",
        "train_x = np.load(Path(prefix+'train_x_13mfcc.npy'))\n",
        "train_y = np.load(Path(prefix+'train_y_13mfcc.npy'))\n",
        "validation_x = np.load(Path(prefix+'validation_x_13mfcc.npy'))\n",
        "validation_y = np.load(Path(prefix+'validation_y_13mfcc.npy'))\n",
        "test_x = np.load(Path(prefix+'test_x_13mfcc.npy'))\n",
        "test_y = np.load(Path(prefix+'test_y_13mfcc.npy'))"
      ],
      "execution_count": 0,
      "outputs": []
    },
    {
      "cell_type": "code",
      "metadata": {
        "id": "YO-xfvma2eCv",
        "colab_type": "code",
        "outputId": "c92c33ed-667a-4bd4-9bf8-c3c15693155d",
        "colab": {
          "base_uri": "https://localhost:8080/",
          "height": 34
        }
      },
      "source": [
        "# 'unknown' class is extremely unbalanced\n",
        "_, counts = np.unique(train_y, return_counts=True, axis=0)\n",
        "class_weights = dict(zip(range(11), counts))\n",
        "print(class_weights)"
      ],
      "execution_count": 11,
      "outputs": [
        {
          "output_type": "stream",
          "text": [
            "{0: 32550, 1: 1861, 2: 1885, 3: 1839, 4: 1864, 5: 1852, 6: 1839, 7: 1842, 8: 1843, 9: 1853, 10: 1860}\n"
          ],
          "name": "stdout"
        }
      ]
    },
    {
      "cell_type": "code",
      "metadata": {
        "id": "Dr1FT7I_Dk57",
        "colab_type": "code",
        "colab": {}
      },
      "source": [
        "def lfScheduleF(epoch, lr):\n",
        "  if epoch > 50:\n",
        "      return 0.01\n",
        "  if epoch > 25:\n",
        "      return 0.05\n",
        "  return 0.1\n",
        "\n",
        "lrschedulerDropout = LearningRateScheduler(lfScheduleF, verbose=0)\n"
      ],
      "execution_count": 0,
      "outputs": []
    },
    {
      "cell_type": "code",
      "metadata": {
        "id": "ZuecMNLK2eCo",
        "colab_type": "code",
        "colab": {}
      },
      "source": [
        "def create_model():\n",
        "    model = Sequential()\n",
        "    model.add(LSTM(33, return_sequences=True, input_shape=(None, 33)))\n",
        "    model.add(LSTM(128, return_sequences=False))\n",
        "    model.add(Dense(128, activation='relu'))\n",
        "    model.add(Dense(len(labels), activation='softmax'))\n",
        "    model.compile(optimizer='adam',\n",
        "                  loss='categorical_crossentropy',\n",
        "                  metrics=['accuracy'])\n",
        "    print(model.summary())\n",
        "    return model"
      ],
      "execution_count": 0,
      "outputs": []
    },
    {
      "cell_type": "code",
      "metadata": {
        "id": "IGdQcMW22eC2",
        "colab_type": "code",
        "outputId": "90818048-c412-49b0-d437-d903a1590d70",
        "colab": {
          "base_uri": "https://localhost:8080/",
          "height": 1000
        }
      },
      "source": [
        "model = create_model()\n",
        "history = model.fit(train_x, \n",
        "                    train_y, \n",
        "                    batch_size=400, \n",
        "                    epochs=30, \n",
        "                    class_weight=class_weights,\n",
        "                    validation_data=(validation_x, validation_y)\n",
        "                    )"
      ],
      "execution_count": 70,
      "outputs": [
        {
          "output_type": "stream",
          "text": [
            "Model: \"sequential_24\"\n",
            "_________________________________________________________________\n",
            "Layer (type)                 Output Shape              Param #   \n",
            "=================================================================\n",
            "lstm_30 (LSTM)               (None, None, 33)          8844      \n",
            "_________________________________________________________________\n",
            "lstm_31 (LSTM)               (None, 128)               82944     \n",
            "_________________________________________________________________\n",
            "dense_35 (Dense)             (None, 128)               16512     \n",
            "_________________________________________________________________\n",
            "dense_36 (Dense)             (None, 11)                1419      \n",
            "=================================================================\n",
            "Total params: 109,719\n",
            "Trainable params: 109,719\n",
            "Non-trainable params: 0\n",
            "_________________________________________________________________\n",
            "None\n",
            "Train on 51088 samples, validate on 6798 samples\n",
            "Epoch 1/30\n",
            "51088/51088 [==============================] - 42s 823us/step - loss: 4227.6351 - accuracy: 0.4699 - val_loss: 1.6872 - val_accuracy: 0.5213\n",
            "Epoch 2/30\n",
            "51088/51088 [==============================] - 41s 802us/step - loss: 3361.3967 - accuracy: 0.5532 - val_loss: 1.3759 - val_accuracy: 0.5575\n",
            "Epoch 3/30\n",
            "51088/51088 [==============================] - 41s 796us/step - loss: 2831.6607 - accuracy: 0.5991 - val_loss: 1.1642 - val_accuracy: 0.6396\n",
            "Epoch 4/30\n",
            "51088/51088 [==============================] - 41s 804us/step - loss: 2575.9919 - accuracy: 0.6330 - val_loss: 1.1791 - val_accuracy: 0.6415\n",
            "Epoch 5/30\n",
            "51088/51088 [==============================] - 41s 808us/step - loss: 2388.9350 - accuracy: 0.6567 - val_loss: 1.0537 - val_accuracy: 0.6690\n",
            "Epoch 6/30\n",
            "51088/51088 [==============================] - 40s 792us/step - loss: 2189.6234 - accuracy: 0.6805 - val_loss: 1.0068 - val_accuracy: 0.6846\n",
            "Epoch 7/30\n",
            "51088/51088 [==============================] - 41s 800us/step - loss: 1953.2388 - accuracy: 0.7073 - val_loss: 0.8640 - val_accuracy: 0.7271\n",
            "Epoch 8/30\n",
            "51088/51088 [==============================] - 41s 798us/step - loss: 1744.6817 - accuracy: 0.7286 - val_loss: 0.8298 - val_accuracy: 0.7302\n",
            "Epoch 9/30\n",
            "51088/51088 [==============================] - 41s 795us/step - loss: 1661.8230 - accuracy: 0.7399 - val_loss: 0.7803 - val_accuracy: 0.7467\n",
            "Epoch 10/30\n",
            "51088/51088 [==============================] - 41s 795us/step - loss: 1528.7765 - accuracy: 0.7571 - val_loss: 0.7356 - val_accuracy: 0.7507\n",
            "Epoch 11/30\n",
            "51088/51088 [==============================] - 40s 791us/step - loss: 1386.6256 - accuracy: 0.7764 - val_loss: 0.6883 - val_accuracy: 0.7774\n",
            "Epoch 12/30\n",
            "51088/51088 [==============================] - 41s 802us/step - loss: 1282.3888 - accuracy: 0.7958 - val_loss: 0.6733 - val_accuracy: 0.7820\n",
            "Epoch 13/30\n",
            "51088/51088 [==============================] - 41s 801us/step - loss: 1163.0858 - accuracy: 0.8128 - val_loss: 0.5849 - val_accuracy: 0.8085\n",
            "Epoch 14/30\n",
            "51088/51088 [==============================] - 41s 808us/step - loss: 1089.0664 - accuracy: 0.8214 - val_loss: 0.5621 - val_accuracy: 0.8201\n",
            "Epoch 15/30\n",
            "51088/51088 [==============================] - 41s 807us/step - loss: 1070.2184 - accuracy: 0.8246 - val_loss: 0.4888 - val_accuracy: 0.8419\n",
            "Epoch 16/30\n",
            "51088/51088 [==============================] - 41s 799us/step - loss: 1008.4180 - accuracy: 0.8364 - val_loss: 0.5735 - val_accuracy: 0.8099\n",
            "Epoch 17/30\n",
            "51088/51088 [==============================] - 41s 795us/step - loss: 906.6634 - accuracy: 0.8485 - val_loss: 0.4685 - val_accuracy: 0.8457\n",
            "Epoch 18/30\n",
            "51088/51088 [==============================] - 41s 795us/step - loss: 865.5898 - accuracy: 0.8548 - val_loss: 0.4722 - val_accuracy: 0.8435\n",
            "Epoch 19/30\n",
            "51088/51088 [==============================] - 41s 806us/step - loss: 865.7854 - accuracy: 0.8552 - val_loss: 0.4889 - val_accuracy: 0.8427\n",
            "Epoch 20/30\n",
            "51088/51088 [==============================] - 41s 804us/step - loss: 830.6120 - accuracy: 0.8607 - val_loss: 0.4600 - val_accuracy: 0.8539\n",
            "Epoch 21/30\n",
            "51088/51088 [==============================] - 41s 803us/step - loss: 776.0830 - accuracy: 0.8700 - val_loss: 0.4515 - val_accuracy: 0.8564\n",
            "Epoch 22/30\n",
            "51088/51088 [==============================] - 41s 797us/step - loss: 792.5789 - accuracy: 0.8672 - val_loss: 0.4107 - val_accuracy: 0.8676\n",
            "Epoch 23/30\n",
            "51088/51088 [==============================] - 41s 804us/step - loss: 763.5214 - accuracy: 0.8738 - val_loss: 0.4701 - val_accuracy: 0.8514\n",
            "Epoch 24/30\n",
            "51088/51088 [==============================] - 41s 796us/step - loss: 758.7461 - accuracy: 0.8730 - val_loss: 0.4133 - val_accuracy: 0.8658\n",
            "Epoch 25/30\n",
            "51088/51088 [==============================] - 41s 795us/step - loss: 682.0616 - accuracy: 0.8850 - val_loss: 0.4071 - val_accuracy: 0.8717\n",
            "Epoch 26/30\n",
            "51088/51088 [==============================] - 41s 801us/step - loss: 666.8125 - accuracy: 0.8886 - val_loss: 0.3814 - val_accuracy: 0.8731\n",
            "Epoch 27/30\n",
            "51088/51088 [==============================] - 41s 801us/step - loss: 615.7861 - accuracy: 0.8944 - val_loss: 0.4043 - val_accuracy: 0.8692\n",
            "Epoch 28/30\n",
            "51088/51088 [==============================] - 41s 800us/step - loss: 652.7055 - accuracy: 0.8899 - val_loss: 0.3802 - val_accuracy: 0.8678\n",
            "Epoch 29/30\n",
            "51088/51088 [==============================] - 41s 807us/step - loss: 644.6569 - accuracy: 0.8896 - val_loss: 0.4170 - val_accuracy: 0.8644\n",
            "Epoch 30/30\n",
            "51088/51088 [==============================] - 42s 812us/step - loss: 595.9941 - accuracy: 0.8977 - val_loss: 0.3667 - val_accuracy: 0.8836\n"
          ],
          "name": "stdout"
        }
      ]
    },
    {
      "cell_type": "code",
      "metadata": {
        "id": "SXGriYw7B7pi",
        "colab_type": "code",
        "colab": {
          "base_uri": "https://localhost:8080/",
          "height": 265
        },
        "outputId": "b470797b-ca12-4da3-d35a-3050a90967a2"
      },
      "source": [
        "plot_accuracy(history)"
      ],
      "execution_count": 77,
      "outputs": [
        {
          "output_type": "display_data",
          "data": {
            "image/png": "[encoded data removed]",
            "text/plain": [
              "<Figure size 432x288 with 1 Axes>"
            ]
          },
          "metadata": {
            "tags": [],
            "needs_background": "light"
          }
        }
      ]
    },
    {
      "cell_type": "code",
      "metadata": {
        "id": "Rz35et5J2eDS",
        "colab_type": "code",
        "colab": {
          "base_uri": "https://localhost:8080/",
          "height": 297
        },
        "outputId": "60e76856-0501-452f-e428-670c673d3d39"
      },
      "source": [
        "plot_loss(history)"
      ],
      "execution_count": 82,
      "outputs": [
        {
          "output_type": "display_data",
          "data": {
            "image/png": "[encoded data removed]",
            "text/plain": [
              "<Figure size 432x288 with 2 Axes>"
            ]
          },
          "metadata": {
            "tags": [],
            "needs_background": "light"
          }
        }
      ]
    },
    {
      "cell_type": "code",
      "metadata": {
        "id": "GXv3Z0IF2eDb",
        "colab_type": "code",
        "colab": {}
      },
      "source": [
        ""
      ],
      "execution_count": 0,
      "outputs": []
    },
    {
      "cell_type": "code",
      "metadata": {
        "id": "CD60l1cb2eDk",
        "colab_type": "code",
        "colab": {}
      },
      "source": [
        ""
      ],
      "execution_count": 0,
      "outputs": []
    }
  ]
}