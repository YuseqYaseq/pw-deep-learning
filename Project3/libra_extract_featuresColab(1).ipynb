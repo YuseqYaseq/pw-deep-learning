{
  "nbformat": 4,
  "nbformat_minor": 0,
  "metadata": {
    "kernelspec": {
      "display_name": "Python 3",
      "language": "python",
      "name": "python3"
    },
    "language_info": {
      "codemirror_mode": {
        "name": "ipython",
        "version": 3
      },
      "file_extension": ".py",
      "mimetype": "text/x-python",
      "name": "python",
      "nbconvert_exporter": "python",
      "pygments_lexer": "ipython3",
      "version": "3.7.5"
    },
    "colab": {
      "name": "libra_extract_featuresColab.ipynb",
      "provenance": [],
      "collapsed_sections": []
    },
    "accelerator": "GPU"
  },
  "cells": [
    {
      "cell_type": "code",
      "metadata": {
        "id": "Gu56nKLG2eBc",
        "colab_type": "code",
        "outputId": "59a1e1c7-732a-44d2-8957-18b493323431",
        "colab": {
          "base_uri": "https://localhost:8080/",
          "height": 34
        }
      },
      "source": [
        "import os\n",
        "import re\n",
        "import hashlib\n",
        "import random\n",
        "from pathlib import Path\n",
        "import numpy as np\n",
        "import pandas as pd\n",
        "import librosa\n",
        "import librosa.display\n",
        "import matplotlib.pyplot as plt\n",
        "import matplotlib.pylab as pl\n",
        "\n",
        "from sklearn import metrics \n",
        "from sklearn.preprocessing import LabelEncoder\n",
        "from sklearn.model_selection import train_test_split\n",
        "\n",
        "from keras.models import Sequential, Model\n",
        "from keras.layers import GRU, LSTM, Masking, Dense, Flatten, MaxPooling2D, Conv2D, Dropout, BatchNormalization, Add, Activation, Input, GlobalAveragePooling2D\n",
        "from keras.optimizers import Adam\n",
        "from keras import optimizers\n",
        "from keras.utils import to_categorical, Sequence, plot_model\n",
        "from keras.callbacks import LearningRateScheduler, ModelCheckpoint\n",
        "from keras.activations import relu, softmax\n",
        "from keras.regularizers import l2"
      ],
      "execution_count": 1,
      "outputs": [
        {
          "output_type": "stream",
          "text": [
            "Using TensorFlow backend.\n"
          ],
          "name": "stderr"
        }
      ]
    },
    {
      "cell_type": "code",
      "metadata": {
        "id": "_vXUN1wr4AYe",
        "colab_type": "code",
        "outputId": "11be0909-3f47-43e0-bfe4-bff9344862ee",
        "colab": {
          "base_uri": "https://localhost:8080/",
          "height": 124
        }
      },
      "source": [
        "from google.colab import drive\n",
        "drive.mount('/gdrive')"
      ],
      "execution_count": 2,
      "outputs": [
        {
          "output_type": "stream",
          "text": [
            "Go to this URL in a browser: https://accounts.google.com/o/oauth2/auth?client_id=947318989803-6bn6qk8qdgf4n4g3pfee6491hc0brc4i.apps.googleusercontent.com&redirect_uri=urn%3aietf%3awg%3aoauth%3a2.0%3aoob&response_type=code&scope=email%20https%3a%2f%2fwww.googleapis.com%2fauth%2fdocs.test%20https%3a%2f%2fwww.googleapis.com%2fauth%2fdrive%20https%3a%2f%2fwww.googleapis.com%2fauth%2fdrive.photos.readonly%20https%3a%2f%2fwww.googleapis.com%2fauth%2fpeopleapi.readonly\n",
            "\n",
            "Enter your authorization code:\n",
            "··········\n",
            "Mounted at /gdrive\n"
          ],
          "name": "stdout"
        }
      ]
    },
    {
      "cell_type": "code",
      "metadata": {
        "id": "X832QO43AlBE",
        "colab_type": "code",
        "colab": {}
      },
      "source": [
        "def plot_accuracy(history):\n",
        "  plt.plot(history.history['accuracy'])\n",
        "  plt.plot(history.history['val_accuracy'])\n",
        "  plt.legend(['Train acc', 'Valid acc'], loc='lower right')\n",
        "  plt.show()\n",
        "\n",
        "def plot_loss(history):\n",
        "  plt.plot(history.history['loss'])\n",
        "  plt.plot(history.history['val_loss'])\n",
        "  plt.legend(['Train loss', 'Valid loss'], loc='upper right')\n",
        "  plt.show()\n",
        "\n",
        "\n",
        "\n",
        "def multi_plot_loss(history_list):\n",
        "  for i, h in enumerate(history_list):\n",
        "    plt.plot(h.history['loss'], label=h.model.name, c=pl.cm.Dark2(i))\n",
        "    plt.plot(h.history['val_loss'],'--', c=pl.cm.Dark2(i))\n",
        "\n",
        "  plt.rcParams[\"figure.figsize\"] = (15,9)\n",
        "  plt.legend(loc='upper right')\n",
        "\n",
        "  plt.show()\n"
      ],
      "execution_count": 0,
      "outputs": []
    },
    {
      "cell_type": "code",
      "metadata": {
        "id": "V61d-xY-8RB4",
        "colab_type": "code",
        "colab": {}
      },
      "source": [
        "random.seed(123)"
      ],
      "execution_count": 0,
      "outputs": []
    },
    {
      "cell_type": "code",
      "metadata": {
        "id": "UwIyHrbB2eBu",
        "colab_type": "code",
        "colab": {}
      },
      "source": [
        "def which_set(filename, validation_percentage, testing_percentage):\n",
        "    \"\"\"Determines which data partition the file should belong to.\n",
        "\n",
        "    We want to keep files in the same training, validation, or testing sets even\n",
        "    if new ones are added over time. This makes it less likely that testing\n",
        "    samples will accidentally be reused in training when long runs are restarted\n",
        "    for example. To keep this stability, a hash of the filename is taken and used\n",
        "    to determine which set it should belong to. This determination only depends on\n",
        "    the name and the set proportions, so it won't change as other files are added.\n",
        "\n",
        "    It's also useful to associate particular files as related (for example words\n",
        "    spoken by the same person), so anything after '_nohash_' in a filename is\n",
        "    ignored for set determination. This ensures that 'bobby_nohash_0.wav' and\n",
        "    'bobby_nohash_1.wav' are always in the same set, for example.\n",
        "\n",
        "    Args:\n",
        "    filename: File path of the data sample.\n",
        "    validation_percentage: How much of the data set to use for validation.\n",
        "    testing_percentage: How much of the data set to use for testing.\n",
        "\n",
        "    Returns:\n",
        "    String, one of 'train', 'validation', or 'test'.\n",
        "    \"\"\"\n",
        "    validation_percentage *= 100\n",
        "    testing_percentage *= 100\n",
        "    MAX_NUM_WAVS_PER_CLASS = 2**27 - 1  # ~134M\n",
        "    base_name = os.path.basename(filename)\n",
        "    # We want to ignore anything after '_nohash_' in the file name when\n",
        "    # deciding which set to put a wav in, so the data set creator has a way of\n",
        "    # grouping wavs that are close variations of each other.\n",
        "    hash_name = re.sub(r'_nohash_.*$', '', base_name)\n",
        "    # This looks a bit magical, but we need to decide whether this file should\n",
        "    # go into the training, testing, or validation sets, and we want to keep\n",
        "    # existing files in the same set even if more files are subsequently\n",
        "    # added.\n",
        "    # To do that, we need a stable way of deciding based on just the file name\n",
        "    # itself, so we do a hash of that and then use that to generate a\n",
        "    # probability value that we use to assign it.\n",
        "    hash_name_hashed = hashlib.sha1(hash_name.encode('utf-8')).hexdigest()\n",
        "    percentage_hash = ((int(hash_name_hashed, 16) %\n",
        "                      (MAX_NUM_WAVS_PER_CLASS + 1)) *\n",
        "                     (100.0 / MAX_NUM_WAVS_PER_CLASS))\n",
        "    \n",
        "    if percentage_hash < validation_percentage:\n",
        "        result = 'validation'\n",
        "    elif percentage_hash < (testing_percentage + validation_percentage):\n",
        "        result = 'test'\n",
        "    else:\n",
        "        result = 'train'\n",
        "    return result"
      ],
      "execution_count": 0,
      "outputs": []
    },
    {
      "cell_type": "code",
      "metadata": {
        "id": "2HhhGy0k2eB_",
        "colab_type": "code",
        "colab": {}
      },
      "source": [
        "# function for extracting features from the entire dataset\n",
        "def shuffle_in_unison(x, y, seed=None):\n",
        "    assert len(x) == len(y)\n",
        "    if seed is not None:\n",
        "        np.random.seed(seed)\n",
        "    p = np.random.permutation(len(x))\n",
        "    return x[p], y[p]\n",
        "\n",
        "def get_data(path: str, dataset: str, labels: list,\n",
        "                 validation_size: float, test_size: float,\n",
        "                 n_mfcc: int=13, hop_length: int=512, timeseries_length: int=64):\n",
        "    if dataset not in ['train', 'test', 'validation']:\n",
        "        raise RuntimeError(\"Select one of \\'train\\', \\'test\\', \\'validation\\'\")\n",
        "\n",
        "    x = []\n",
        "    y = []\n",
        "    if 'unknown' not in labels:\n",
        "        labels.append('unknown')\n",
        "    no_labels = len(labels)\n",
        "    for root, dirs, files in os.walk(path):\n",
        "        if len(files) > 0:\n",
        "            label = root.split('\\\\')[-1]\n",
        "            x += [Path(root) / file for file in files\n",
        "                       if which_set(file, validation_size, test_size) == dataset]\n",
        "            no = labels.index(label) if label in labels else labels.index('unknown')\n",
        "            y += [no for file in files\n",
        "                       if which_set(file, validation_size, test_size) == dataset]\n",
        "\n",
        "    x = np.array(x)\n",
        "    y = np.array(y)\n",
        "    y = to_categorical(y)\n",
        "    x, y = shuffle_in_unison(x, y, seed=1)\n",
        "\n",
        "    #####\n",
        "    # lets try to load all the data\n",
        "    data = np.zeros((len(x), timeseries_length, n_mfcc+20))\n",
        "    max_mfcc_length = 0\n",
        "\n",
        "    print(\"Loading audio files...\")\n",
        "    for i, file in enumerate(x):\n",
        "        print(f\"\\r{i}/{len(x)}\", end='')\n",
        "        file_path = x[i]\n",
        "        audio, sr = librosa.load(file_path)\n",
        "        mfcc = librosa.feature.mfcc(\n",
        "            y=audio, sr=sr, hop_length=hop_length, n_mfcc=n_mfcc\n",
        "        )\n",
        "        spectral_center = librosa.feature.spectral_centroid(\n",
        "            y=audio, sr=sr, hop_length=hop_length\n",
        "        )\n",
        "        chroma = librosa.feature.chroma_stft(y=audio, sr=sr, hop_length=hop_length)\n",
        "        spectral_contrast = librosa.feature.spectral_contrast(\n",
        "            y=audio, sr=sr, hop_length=hop_length\n",
        "        )\n",
        "        if len(mfcc) > max_mfcc_length:\n",
        "            max_mfcc_length = len(mfcc)\n",
        "        mfcc = mfcc.T[0:timeseries_length, :]\n",
        "        data[i, 0:len(mfcc), 0:n_mfcc] = mfcc\n",
        "        data[i, 0:len(mfcc), n_mfcc:n_mfcc+1] = spectral_center.T[0:timeseries_length, :]\n",
        "        data[i, 0:len(mfcc), n_mfcc+1:n_mfcc+13] = chroma.T[0:timeseries_length, :]\n",
        "        data[i, 0:len(mfcc), n_mfcc+13:n_mfcc+20] = spectral_contrast.T[0:timeseries_length, :]\n",
        "    \n",
        "    #data = data[:, 0:max_mfcc_length, :]\n",
        "    print(f\"\\r{len(x)}/{len(x)}\")\n",
        "    return data, y, max_mfcc_length"
      ],
      "execution_count": 0,
      "outputs": []
    },
    {
      "cell_type": "code",
      "metadata": {
        "id": "8fDqpoM12eCK",
        "colab_type": "code",
        "colab": {}
      },
      "source": [
        "# Extract features from audio files\n",
        "validation_size = 0.1\n",
        "test_size = 0.1\n",
        "labels=['yes', 'no', 'up', 'down', 'left', 'right', 'on', 'off', 'stop', 'go', 'unknown', 'silence']\n",
        "\n",
        "#train_x, train_y, train_max_mfcc_length = get_data(Path('train/audio'), 'train',\n",
        "#                            labels, validation_size, test_size)\n",
        "#validation_x, validation_y, val_max_mfcc_length = get_data(Path('train/audio'), 'validation',\n",
        "#                                      labels, validation_size, test_size)\n",
        "#test_x, test_y, test_max_mfcc_length = get_data(Path('train/audio'), 'test',\n",
        "#                          labels, validation_size, test_size)\n"
      ],
      "execution_count": 0,
      "outputs": []
    },
    {
      "cell_type": "code",
      "metadata": {
        "id": "LywxnKAM2eCU",
        "colab_type": "code",
        "colab": {}
      },
      "source": [
        "## These np arrays need a lot of time to create so we'll save them in case something goes wrong.\n",
        "#np.save(Path('train/train_x_13mfcc'), train_x)\n",
        "#np.save(Path('train/train_y_13mfcc'), train_y)\n",
        "#np.save(Path('train/validation_x_13mfcc'), validation_x)\n",
        "#np.save(Path('train/validation_y_13mfcc'), validation_y)\n",
        "#np.save(Path('train/test_x_13mfcc'), test_x)\n",
        "#np.save(Path('train/test_y_13mfcc'), test_y)"
      ],
      "execution_count": 0,
      "outputs": []
    },
    {
      "cell_type": "code",
      "metadata": {
        "id": "8ZpwxKZ7mjTZ",
        "colab_type": "code",
        "colab": {}
      },
      "source": [
        "prefix = '/gdrive/My Drive/data/keywords/'"
      ],
      "execution_count": 0,
      "outputs": []
    },
    {
      "cell_type": "code",
      "metadata": {
        "id": "Sq26GP-I2eCf",
        "colab_type": "code",
        "colab": {}
      },
      "source": [
        "# In case something goes wrong restore the data\n",
        "train_x = np.load(Path(prefix+'train_x_13mfcc.npy'))\n",
        "train_y = np.load(Path(prefix+'train_y_13mfcc.npy'))\n",
        "validation_x = np.load(Path(prefix+'validation_x_13mfcc.npy'))\n",
        "validation_y = np.load(Path(prefix+'validation_y_13mfcc.npy'))\n",
        "test_x = np.load(Path(prefix+'test_x_13mfcc.npy'))\n",
        "test_y = np.load(Path(prefix+'test_y_13mfcc.npy'))"
      ],
      "execution_count": 0,
      "outputs": []
    },
    {
      "cell_type": "code",
      "metadata": {
        "id": "ArLFnTxQffqM",
        "colab_type": "code",
        "outputId": "650df9ca-c579-461f-ecac-1a8ab7b78ccd",
        "colab": {
          "base_uri": "https://localhost:8080/",
          "height": 139
        }
      },
      "source": [
        "test_y"
      ],
      "execution_count": 10,
      "outputs": [
        {
          "output_type": "execute_result",
          "data": {
            "text/plain": [
              "array([[0., 0., 0., ..., 0., 1., 0.],\n",
              "       [0., 0., 1., ..., 0., 0., 0.],\n",
              "       [0., 0., 0., ..., 1., 0., 0.],\n",
              "       ...,\n",
              "       [0., 0., 0., ..., 0., 1., 0.],\n",
              "       [0., 0., 0., ..., 0., 1., 0.],\n",
              "       [0., 0., 0., ..., 0., 0., 0.]], dtype=float32)"
            ]
          },
          "metadata": {
            "tags": []
          },
          "execution_count": 10
        }
      ]
    },
    {
      "cell_type": "code",
      "metadata": {
        "id": "YO-xfvma2eCv",
        "colab_type": "code",
        "outputId": "36e78f51-b776-4ffa-b432-94ca489ca1da",
        "colab": {
          "base_uri": "https://localhost:8080/",
          "height": 34
        }
      },
      "source": [
        "# 'unknown' class is extremely unbalanced\n",
        "_, counts = np.unique(train_y, return_counts=True, axis=0)\n",
        "count = np.sum(train_y, axis=0)\n",
        "class_weights = list(zip(range(len(counts)), reversed(counts)))\n",
        "print(class_weights)"
      ],
      "execution_count": 11,
      "outputs": [
        {
          "output_type": "stream",
          "text": [
            "[(0, 1860), (1, 1853), (2, 1843), (3, 1842), (4, 1839), (5, 1852), (6, 1864), (7, 1839), (8, 1885), (9, 1861), (10, 32550), (11, 436)]\n"
          ],
          "name": "stdout"
        }
      ]
    },
    {
      "cell_type": "code",
      "metadata": {
        "id": "14uEB5A_6MBi",
        "colab_type": "code",
        "outputId": "b7a3f39a-1773-46cc-ed7f-6a816588da79",
        "colab": {
          "base_uri": "https://localhost:8080/",
          "height": 34
        }
      },
      "source": [
        "train_x.shape"
      ],
      "execution_count": 0,
      "outputs": [
        {
          "output_type": "execute_result",
          "data": {
            "text/plain": [
              "(51088, 64, 33)"
            ]
          },
          "metadata": {
            "tags": []
          },
          "execution_count": 12
        }
      ]
    },
    {
      "cell_type": "code",
      "metadata": {
        "id": "rnOqGbalclaa",
        "colab_type": "code",
        "colab": {}
      },
      "source": [
        ""
      ],
      "execution_count": 0,
      "outputs": []
    },
    {
      "cell_type": "markdown",
      "metadata": {
        "id": "I0xtg4VfcnaS",
        "colab_type": "text"
      },
      "source": [
        "## RNN"
      ]
    },
    {
      "cell_type": "code",
      "metadata": {
        "id": "j6vzPhQVcluU",
        "colab_type": "code",
        "colab": {}
      },
      "source": [
        "def lfScheduleRNN1F(epoch, lr):\n",
        "  if epoch > 14:\n",
        "      return 0.0001\n",
        "  if epoch > 7:\n",
        "      return 0.001\n",
        "  return 0.01\n",
        "\n",
        "lfScheduleRNN1 = LearningRateScheduler(lfScheduleRNN1F, verbose=0)\n"
      ],
      "execution_count": 0,
      "outputs": []
    },
    {
      "cell_type": "code",
      "metadata": {
        "id": "zzB1acknddJ6",
        "colab_type": "code",
        "colab": {}
      },
      "source": [
        "def create_RNN(input_shape=(None, 33), cell_type='LSTM', recurrent_cells=[33, 128], dense_cells=[128], optimizer='adam', name=None):\n",
        "    model = Sequential()\n",
        "    RNNcell = LSTM if cell_type=='LSTM' else GRU\n",
        "    \n",
        "    for i, c in enumerate(recurrent_cells):\n",
        "      if i==0:\n",
        "        if len(recurrent_cells) == 1:\n",
        "          model.add(RNNcell(c, return_sequences=False, input_shape=input_shape))\n",
        "        else:\n",
        "          model.add(RNNcell(c, return_sequences=True, input_shape=input_shape))\n",
        "      elif i==len(recurrent_cells)-1:\n",
        "        model.add(RNNcell(c, return_sequences=False))\n",
        "      else:\n",
        "        model.add(RNNcell(c, return_sequences=True))\n",
        "\n",
        "    \n",
        "    for c in dense_cells:\n",
        "      model.add(Dense(c, activation='relu'))\n",
        "    \n",
        "    if name is not None:\n",
        "      model.name=name\n",
        "  \n",
        "    model.add(Dense(len(labels), activation='softmax'))\n",
        "    model.compile(optimizer=optimizer,\n",
        "                  loss='categorical_crossentropy',\n",
        "                  metrics=['accuracy'])\n",
        "    return model"
      ],
      "execution_count": 0,
      "outputs": []
    },
    {
      "cell_type": "code",
      "metadata": {
        "id": "wWga0vt9fVvz",
        "colab_type": "code",
        "colab": {}
      },
      "source": [
        "models = [\n",
        "            create_RNN(input_shape=(None, 33), \n",
        "                       cell_type='LSTM', \n",
        "                       recurrent_cells=[33, 128], \n",
        "                       dense_cells=[128], \n",
        "                       optimizer='adam'),\n",
        "          \n",
        "            create_RNN(input_shape=(None, 33), \n",
        "                       cell_type='GRU', \n",
        "                       recurrent_cells=[33, 128], \n",
        "                       dense_cells=[128], \n",
        "                       optimizer='adam')\n",
        "]"
      ],
      "execution_count": 0,
      "outputs": []
    },
    {
      "cell_type": "code",
      "metadata": {
        "id": "PflLJ-siidG-",
        "colab_type": "code",
        "outputId": "1bed5380-b361-48da-d2da-1fc2c841a5b6",
        "colab": {
          "base_uri": "https://localhost:8080/",
          "height": 1000
        }
      },
      "source": [
        "all_history = []\n",
        "\n",
        "def lfScheduleRNN1F(epoch, lr):\n",
        "  if epoch > 50:\n",
        "      return 0.0001\n",
        "  if epoch > 25:\n",
        "      return 0.001\n",
        "  return 0.01\n",
        "\n",
        "lfScheduleRNN1 = LearningRateScheduler(lfScheduleRNN1F, verbose=0)\n",
        "\n",
        "\n",
        "for model in models:\n",
        "  history = model.fit(train_x, \n",
        "                      train_y, \n",
        "                      batch_size=512, \n",
        "                      epochs=60, \n",
        "                      class_weight=class_weights,\n",
        "                      validation_data=(validation_x, validation_y))\n",
        "  all_history.append(history)\n",
        "  plot_loss(history)\n",
        "                    \n",
        " "
      ],
      "execution_count": 0,
      "outputs": [
        {
          "output_type": "stream",
          "text": [
            "Train on 51524 samples, validate on 6842 samples\n",
            "Epoch 1/60\n",
            "51524/51524 [==============================] - 41s 787us/step - loss: 1.4031 - accuracy: 0.6335 - val_loss: 1.3346 - val_accuracy: 0.6212\n",
            "Epoch 2/60\n",
            "51524/51524 [==============================] - 41s 794us/step - loss: 1.2492 - accuracy: 0.6382 - val_loss: 1.1986 - val_accuracy: 0.6255\n",
            "Epoch 3/60\n",
            "51524/51524 [==============================] - 41s 788us/step - loss: 1.1326 - accuracy: 0.6486 - val_loss: 1.0993 - val_accuracy: 0.6416\n",
            "Epoch 4/60\n",
            "51524/51524 [==============================] - 41s 787us/step - loss: 1.0278 - accuracy: 0.6743 - val_loss: 0.9845 - val_accuracy: 0.6796\n",
            "Epoch 5/60\n",
            "51524/51524 [==============================] - 41s 790us/step - loss: 0.9254 - accuracy: 0.6999 - val_loss: 0.8780 - val_accuracy: 0.7061\n",
            "Epoch 6/60\n",
            "51524/51524 [==============================] - 41s 795us/step - loss: 0.8314 - accuracy: 0.7275 - val_loss: 0.7951 - val_accuracy: 0.7360\n",
            "Epoch 7/60\n",
            "51524/51524 [==============================] - 41s 795us/step - loss: 0.7476 - accuracy: 0.7551 - val_loss: 0.6978 - val_accuracy: 0.7698\n",
            "Epoch 8/60\n",
            "51524/51524 [==============================] - 41s 794us/step - loss: 0.6604 - accuracy: 0.7871 - val_loss: 0.6511 - val_accuracy: 0.7859\n",
            "Epoch 9/60\n",
            "51524/51524 [==============================] - 40s 784us/step - loss: 0.5965 - accuracy: 0.8074 - val_loss: 0.5552 - val_accuracy: 0.8173\n",
            "Epoch 10/60\n",
            "51524/51524 [==============================] - 41s 790us/step - loss: 0.5390 - accuracy: 0.8247 - val_loss: 0.5453 - val_accuracy: 0.8230\n",
            "Epoch 11/60\n",
            "51524/51524 [==============================] - 41s 791us/step - loss: 0.4933 - accuracy: 0.8396 - val_loss: 0.4956 - val_accuracy: 0.8404\n",
            "Epoch 12/60\n",
            "51524/51524 [==============================] - 41s 787us/step - loss: 0.4510 - accuracy: 0.8526 - val_loss: 0.4598 - val_accuracy: 0.8531\n",
            "Epoch 13/60\n",
            "51524/51524 [==============================] - 41s 788us/step - loss: 0.4212 - accuracy: 0.8633 - val_loss: 0.4618 - val_accuracy: 0.8555\n",
            "Epoch 14/60\n",
            "51524/51524 [==============================] - 41s 791us/step - loss: 0.3929 - accuracy: 0.8706 - val_loss: 0.4540 - val_accuracy: 0.8552\n",
            "Epoch 15/60\n",
            "51524/51524 [==============================] - 41s 788us/step - loss: 0.3732 - accuracy: 0.8784 - val_loss: 0.4162 - val_accuracy: 0.8682\n",
            "Epoch 16/60\n",
            "51524/51524 [==============================] - 41s 790us/step - loss: 0.3509 - accuracy: 0.8859 - val_loss: 0.4099 - val_accuracy: 0.8669\n",
            "Epoch 17/60\n",
            "51524/51524 [==============================] - 41s 793us/step - loss: 0.3341 - accuracy: 0.8907 - val_loss: 0.3882 - val_accuracy: 0.8783\n",
            "Epoch 18/60\n",
            "51524/51524 [==============================] - 40s 786us/step - loss: 0.3231 - accuracy: 0.8953 - val_loss: 0.3859 - val_accuracy: 0.8825\n",
            "Epoch 19/60\n",
            "51524/51524 [==============================] - 41s 790us/step - loss: 0.3090 - accuracy: 0.8987 - val_loss: 0.3750 - val_accuracy: 0.8831\n",
            "Epoch 20/60\n",
            "51524/51524 [==============================] - 40s 782us/step - loss: 0.2940 - accuracy: 0.9035 - val_loss: 0.3564 - val_accuracy: 0.8860\n",
            "Epoch 21/60\n",
            "51524/51524 [==============================] - 41s 788us/step - loss: 0.2820 - accuracy: 0.9066 - val_loss: 0.3560 - val_accuracy: 0.8879\n",
            "Epoch 22/60\n",
            "51524/51524 [==============================] - 40s 785us/step - loss: 0.2712 - accuracy: 0.9104 - val_loss: 0.3544 - val_accuracy: 0.8894\n",
            "Epoch 23/60\n",
            "51524/51524 [==============================] - 41s 794us/step - loss: 0.2631 - accuracy: 0.9131 - val_loss: 0.3373 - val_accuracy: 0.8929\n",
            "Epoch 24/60\n",
            "51524/51524 [==============================] - 41s 797us/step - loss: 0.2512 - accuracy: 0.9169 - val_loss: 0.3414 - val_accuracy: 0.8921\n",
            "Epoch 25/60\n",
            "51524/51524 [==============================] - 41s 795us/step - loss: 0.2479 - accuracy: 0.9183 - val_loss: 0.3424 - val_accuracy: 0.8914\n",
            "Epoch 26/60\n",
            "51524/51524 [==============================] - 41s 790us/step - loss: 0.2379 - accuracy: 0.9221 - val_loss: 0.3390 - val_accuracy: 0.8927\n",
            "Epoch 27/60\n",
            "51524/51524 [==============================] - 41s 787us/step - loss: 0.2320 - accuracy: 0.9236 - val_loss: 0.3286 - val_accuracy: 0.8956\n",
            "Epoch 28/60\n",
            "51524/51524 [==============================] - 41s 791us/step - loss: 0.2311 - accuracy: 0.9243 - val_loss: 0.3481 - val_accuracy: 0.8984\n",
            "Epoch 29/60\n",
            "51524/51524 [==============================] - 41s 791us/step - loss: 0.2234 - accuracy: 0.9271 - val_loss: 0.3272 - val_accuracy: 0.8974\n",
            "Epoch 30/60\n",
            "51524/51524 [==============================] - 40s 783us/step - loss: 0.2105 - accuracy: 0.9309 - val_loss: 0.3262 - val_accuracy: 0.8983\n",
            "Epoch 31/60\n",
            "51524/51524 [==============================] - 41s 797us/step - loss: 0.2016 - accuracy: 0.9328 - val_loss: 0.3217 - val_accuracy: 0.9002\n",
            "Epoch 32/60\n",
            "51524/51524 [==============================] - 40s 777us/step - loss: 0.1989 - accuracy: 0.9347 - val_loss: 0.3442 - val_accuracy: 0.8996\n",
            "Epoch 33/60\n",
            "51524/51524 [==============================] - 40s 785us/step - loss: 0.1995 - accuracy: 0.9336 - val_loss: 0.3278 - val_accuracy: 0.8997\n",
            "Epoch 34/60\n",
            "51524/51524 [==============================] - 41s 789us/step - loss: 0.1927 - accuracy: 0.9371 - val_loss: 0.3314 - val_accuracy: 0.9005\n",
            "Epoch 35/60\n",
            "51524/51524 [==============================] - 40s 771us/step - loss: 0.1803 - accuracy: 0.9403 - val_loss: 0.3584 - val_accuracy: 0.8971\n",
            "Epoch 36/60\n",
            "51524/51524 [==============================] - 40s 780us/step - loss: 0.1813 - accuracy: 0.9396 - val_loss: 0.3480 - val_accuracy: 0.8986\n",
            "Epoch 37/60\n",
            "51524/51524 [==============================] - 40s 767us/step - loss: 0.1763 - accuracy: 0.9409 - val_loss: 0.3508 - val_accuracy: 0.8911\n",
            "Epoch 38/60\n",
            "51524/51524 [==============================] - 40s 767us/step - loss: 0.1708 - accuracy: 0.9442 - val_loss: 0.3467 - val_accuracy: 0.9008\n",
            "Epoch 39/60\n",
            "51524/51524 [==============================] - 39s 761us/step - loss: 0.1611 - accuracy: 0.9472 - val_loss: 0.3596 - val_accuracy: 0.8989\n",
            "Epoch 40/60\n",
            "51524/51524 [==============================] - 40s 774us/step - loss: 0.1543 - accuracy: 0.9487 - val_loss: 0.3516 - val_accuracy: 0.8980\n",
            "Epoch 41/60\n",
            "51524/51524 [==============================] - 40s 769us/step - loss: 0.1580 - accuracy: 0.9476 - val_loss: 0.3536 - val_accuracy: 0.9016\n",
            "Epoch 42/60\n",
            "51524/51524 [==============================] - 40s 772us/step - loss: 0.1584 - accuracy: 0.9475 - val_loss: 0.3340 - val_accuracy: 0.9012\n",
            "Epoch 43/60\n",
            "51524/51524 [==============================] - 40s 778us/step - loss: 0.1478 - accuracy: 0.9508 - val_loss: 0.3443 - val_accuracy: 0.9022\n",
            "Epoch 44/60\n",
            "51524/51524 [==============================] - 42s 817us/step - loss: 0.1441 - accuracy: 0.9513 - val_loss: 0.3475 - val_accuracy: 0.9012\n",
            "Epoch 45/60\n",
            "51524/51524 [==============================] - 41s 802us/step - loss: 0.1355 - accuracy: 0.9556 - val_loss: 0.3600 - val_accuracy: 0.9009\n",
            "Epoch 46/60\n",
            "51524/51524 [==============================] - 41s 801us/step - loss: 0.1366 - accuracy: 0.9546 - val_loss: 0.3442 - val_accuracy: 0.9022\n",
            "Epoch 47/60\n",
            "51524/51524 [==============================] - 41s 789us/step - loss: 0.1370 - accuracy: 0.9540 - val_loss: 0.3621 - val_accuracy: 0.8987\n",
            "Epoch 48/60\n",
            "51524/51524 [==============================] - 41s 799us/step - loss: 0.1234 - accuracy: 0.9594 - val_loss: 0.3483 - val_accuracy: 0.9044\n",
            "Epoch 49/60\n",
            "51524/51524 [==============================] - 41s 796us/step - loss: 0.1285 - accuracy: 0.9575 - val_loss: 0.3608 - val_accuracy: 0.9019\n",
            "Epoch 50/60\n",
            "51524/51524 [==============================] - 41s 794us/step - loss: 0.1184 - accuracy: 0.9597 - val_loss: 0.3720 - val_accuracy: 0.8992\n",
            "Epoch 51/60\n",
            "51524/51524 [==============================] - 41s 797us/step - loss: 0.1174 - accuracy: 0.9607 - val_loss: 0.3486 - val_accuracy: 0.9044\n",
            "Epoch 52/60\n",
            "51524/51524 [==============================] - 40s 777us/step - loss: 0.1224 - accuracy: 0.9587 - val_loss: 0.3721 - val_accuracy: 0.8986\n",
            "Epoch 53/60\n",
            "51524/51524 [==============================] - 40s 782us/step - loss: 0.1164 - accuracy: 0.9613 - val_loss: 0.3700 - val_accuracy: 0.9019\n",
            "Epoch 54/60\n",
            "51524/51524 [==============================] - 41s 790us/step - loss: 0.1188 - accuracy: 0.9609 - val_loss: 0.3589 - val_accuracy: 0.9079\n",
            "Epoch 55/60\n",
            "51524/51524 [==============================] - 41s 791us/step - loss: 0.1102 - accuracy: 0.9636 - val_loss: 0.3812 - val_accuracy: 0.9011\n",
            "Epoch 56/60\n",
            "51524/51524 [==============================] - 41s 790us/step - loss: 0.1009 - accuracy: 0.9659 - val_loss: 0.3891 - val_accuracy: 0.8994\n",
            "Epoch 57/60\n",
            "51524/51524 [==============================] - 41s 805us/step - loss: 0.1038 - accuracy: 0.9657 - val_loss: 0.3773 - val_accuracy: 0.9056\n",
            "Epoch 58/60\n",
            "51524/51524 [==============================] - 41s 791us/step - loss: 0.1028 - accuracy: 0.9654 - val_loss: 0.4013 - val_accuracy: 0.9032\n",
            "Epoch 59/60\n",
            "51524/51524 [==============================] - 41s 794us/step - loss: 0.0874 - accuracy: 0.9713 - val_loss: 0.4098 - val_accuracy: 0.9013\n",
            "Epoch 60/60\n",
            "51524/51524 [==============================] - 41s 795us/step - loss: 0.0907 - accuracy: 0.9699 - val_loss: 0.4024 - val_accuracy: 0.9035\n"
          ],
          "name": "stdout"
        },
        {
          "output_type": "display_data",
          "data": {
            "image/png": "[encoded data removed]",
            "text/plain": [
              "<Figure size 432x288 with 2 Axes>"
            ]
          },
          "metadata": {
            "tags": [],
            "needs_background": "light"
          }
        },
        {
          "output_type": "stream",
          "text": [
            "Train on 51524 samples, validate on 6842 samples\n",
            "Epoch 1/60\n",
            "51524/51524 [==============================] - 54s 1ms/step - loss: 1.6331 - accuracy: 0.6315 - val_loss: 1.5308 - val_accuracy: 0.6212\n",
            "Epoch 2/60\n",
            "51524/51524 [==============================] - 53s 1ms/step - loss: 1.4500 - accuracy: 0.6367 - val_loss: 1.4010 - val_accuracy: 0.6229\n",
            "Epoch 3/60\n",
            "51524/51524 [==============================] - 53s 1ms/step - loss: 1.3388 - accuracy: 0.6424 - val_loss: 1.2826 - val_accuracy: 0.6378\n",
            "Epoch 4/60\n",
            "51524/51524 [==============================] - 53s 1ms/step - loss: 1.2005 - accuracy: 0.6603 - val_loss: 1.1323 - val_accuracy: 0.6573\n",
            "Epoch 5/60\n",
            "51524/51524 [==============================] - 53s 1ms/step - loss: 1.0330 - accuracy: 0.6810 - val_loss: 0.9347 - val_accuracy: 0.6831\n",
            "Epoch 6/60\n",
            "51524/51524 [==============================] - 54s 1ms/step - loss: 0.8381 - accuracy: 0.7302 - val_loss: 0.7609 - val_accuracy: 0.7387\n",
            "Epoch 7/60\n",
            "51524/51524 [==============================] - 54s 1ms/step - loss: 0.6619 - accuracy: 0.7888 - val_loss: 0.5925 - val_accuracy: 0.8077\n",
            "Epoch 8/60\n",
            "51524/51524 [==============================] - 53s 1ms/step - loss: 0.5537 - accuracy: 0.8255 - val_loss: 0.5501 - val_accuracy: 0.8255\n",
            "Epoch 9/60\n",
            "51524/51524 [==============================] - 53s 1ms/step - loss: 0.4900 - accuracy: 0.8447 - val_loss: 0.4665 - val_accuracy: 0.8541\n",
            "Epoch 10/60\n",
            "51524/51524 [==============================] - 54s 1ms/step - loss: 0.4401 - accuracy: 0.8611 - val_loss: 0.4344 - val_accuracy: 0.8603\n",
            "Epoch 11/60\n",
            "51524/51524 [==============================] - 53s 1ms/step - loss: 0.4088 - accuracy: 0.8705 - val_loss: 0.4239 - val_accuracy: 0.8591\n",
            "Epoch 12/60\n",
            "51524/51524 [==============================] - 53s 1ms/step - loss: 0.3743 - accuracy: 0.8819 - val_loss: 0.3964 - val_accuracy: 0.8758\n",
            "Epoch 13/60\n",
            "51524/51524 [==============================] - 53s 1ms/step - loss: 0.3608 - accuracy: 0.8848 - val_loss: 0.3873 - val_accuracy: 0.8747\n",
            "Epoch 14/60\n",
            "51524/51524 [==============================] - 53s 1ms/step - loss: 0.3342 - accuracy: 0.8932 - val_loss: 0.3690 - val_accuracy: 0.8840\n",
            "Epoch 15/60\n",
            "51524/51524 [==============================] - 53s 1ms/step - loss: 0.3227 - accuracy: 0.8968 - val_loss: 0.3631 - val_accuracy: 0.8869\n",
            "Epoch 16/60\n",
            "51524/51524 [==============================] - 53s 1ms/step - loss: 0.3124 - accuracy: 0.9005 - val_loss: 0.3545 - val_accuracy: 0.8847\n",
            "Epoch 17/60\n",
            "51524/51524 [==============================] - 52s 1ms/step - loss: 0.2999 - accuracy: 0.9050 - val_loss: 0.3456 - val_accuracy: 0.8926\n",
            "Epoch 18/60\n",
            "51524/51524 [==============================] - 52s 1ms/step - loss: 0.2946 - accuracy: 0.9061 - val_loss: 0.3338 - val_accuracy: 0.8955\n",
            "Epoch 19/60\n",
            "51524/51524 [==============================] - 53s 1ms/step - loss: 0.2823 - accuracy: 0.9092 - val_loss: 0.3352 - val_accuracy: 0.8927\n",
            "Epoch 20/60\n",
            "51524/51524 [==============================] - 53s 1ms/step - loss: 0.2742 - accuracy: 0.9128 - val_loss: 0.3238 - val_accuracy: 0.9012\n",
            "Epoch 21/60\n",
            "51524/51524 [==============================] - 53s 1ms/step - loss: 0.2717 - accuracy: 0.9132 - val_loss: 0.3345 - val_accuracy: 0.8935\n",
            "Epoch 22/60\n",
            "51524/51524 [==============================] - 53s 1ms/step - loss: 0.2605 - accuracy: 0.9162 - val_loss: 0.3093 - val_accuracy: 0.9037\n",
            "Epoch 23/60\n",
            "51524/51524 [==============================] - 53s 1ms/step - loss: 0.2481 - accuracy: 0.9214 - val_loss: 0.3082 - val_accuracy: 0.9041\n",
            "Epoch 24/60\n",
            "51524/51524 [==============================] - 52s 1ms/step - loss: 0.2440 - accuracy: 0.9226 - val_loss: 0.3181 - val_accuracy: 0.9022\n",
            "Epoch 25/60\n",
            "51524/51524 [==============================] - 52s 1ms/step - loss: 0.2363 - accuracy: 0.9250 - val_loss: 0.2954 - val_accuracy: 0.9070\n",
            "Epoch 26/60\n",
            "51524/51524 [==============================] - 53s 1ms/step - loss: 0.2312 - accuracy: 0.9253 - val_loss: 0.3093 - val_accuracy: 0.9054\n",
            "Epoch 27/60\n",
            "51524/51524 [==============================] - 52s 1ms/step - loss: 0.2244 - accuracy: 0.9280 - val_loss: 0.3004 - val_accuracy: 0.9097\n",
            "Epoch 28/60\n",
            "51524/51524 [==============================] - 53s 1ms/step - loss: 0.2152 - accuracy: 0.9313 - val_loss: 0.3052 - val_accuracy: 0.9049\n",
            "Epoch 29/60\n",
            "51524/51524 [==============================] - 53s 1ms/step - loss: 0.2105 - accuracy: 0.9324 - val_loss: 0.2967 - val_accuracy: 0.9050\n",
            "Epoch 30/60\n",
            "51524/51524 [==============================] - 54s 1ms/step - loss: 0.2088 - accuracy: 0.9330 - val_loss: 0.2883 - val_accuracy: 0.9126\n",
            "Epoch 31/60\n",
            "51524/51524 [==============================] - 53s 1ms/step - loss: 0.2014 - accuracy: 0.9361 - val_loss: 0.2969 - val_accuracy: 0.9092\n",
            "Epoch 32/60\n",
            "51524/51524 [==============================] - 53s 1ms/step - loss: 0.1966 - accuracy: 0.9366 - val_loss: 0.2922 - val_accuracy: 0.9106\n",
            "Epoch 33/60\n",
            "51524/51524 [==============================] - 52s 1ms/step - loss: 0.1939 - accuracy: 0.9375 - val_loss: 0.2936 - val_accuracy: 0.9092\n",
            "Epoch 34/60\n",
            "51524/51524 [==============================] - 52s 1ms/step - loss: 0.1926 - accuracy: 0.9386 - val_loss: 0.3176 - val_accuracy: 0.9057\n",
            "Epoch 35/60\n",
            "51524/51524 [==============================] - 53s 1ms/step - loss: 0.1824 - accuracy: 0.9422 - val_loss: 0.2862 - val_accuracy: 0.9110\n",
            "Epoch 36/60\n",
            "51524/51524 [==============================] - 53s 1ms/step - loss: 0.1759 - accuracy: 0.9433 - val_loss: 0.2990 - val_accuracy: 0.9104\n",
            "Epoch 37/60\n",
            "51524/51524 [==============================] - 52s 1ms/step - loss: 0.1763 - accuracy: 0.9441 - val_loss: 0.2928 - val_accuracy: 0.9127\n",
            "Epoch 38/60\n",
            "51524/51524 [==============================] - 53s 1ms/step - loss: 0.1739 - accuracy: 0.9446 - val_loss: 0.2960 - val_accuracy: 0.9122\n",
            "Epoch 39/60\n",
            "51524/51524 [==============================] - 53s 1ms/step - loss: 0.1767 - accuracy: 0.9433 - val_loss: 0.2951 - val_accuracy: 0.9142\n",
            "Epoch 40/60\n",
            "51524/51524 [==============================] - 52s 1ms/step - loss: 0.1664 - accuracy: 0.9462 - val_loss: 0.3036 - val_accuracy: 0.9094\n",
            "Epoch 41/60\n",
            "51524/51524 [==============================] - 53s 1ms/step - loss: 0.1659 - accuracy: 0.9465 - val_loss: 0.3007 - val_accuracy: 0.9094\n",
            "Epoch 42/60\n",
            "51524/51524 [==============================] - 53s 1ms/step - loss: 0.1617 - accuracy: 0.9468 - val_loss: 0.3029 - val_accuracy: 0.9142\n",
            "Epoch 43/60\n",
            "51524/51524 [==============================] - 53s 1ms/step - loss: 0.1541 - accuracy: 0.9509 - val_loss: 0.3031 - val_accuracy: 0.9125\n",
            "Epoch 44/60\n",
            "51524/51524 [==============================] - 52s 1ms/step - loss: 0.1514 - accuracy: 0.9507 - val_loss: 0.3056 - val_accuracy: 0.9110\n",
            "Epoch 45/60\n",
            "51524/51524 [==============================] - 53s 1ms/step - loss: 0.1430 - accuracy: 0.9544 - val_loss: 0.2950 - val_accuracy: 0.9117\n",
            "Epoch 46/60\n",
            "51524/51524 [==============================] - 53s 1ms/step - loss: 0.1438 - accuracy: 0.9531 - val_loss: 0.2996 - val_accuracy: 0.9154\n",
            "Epoch 47/60\n",
            "51524/51524 [==============================] - 52s 1ms/step - loss: 0.1404 - accuracy: 0.9541 - val_loss: 0.3019 - val_accuracy: 0.9139\n",
            "Epoch 48/60\n",
            "51524/51524 [==============================] - 53s 1ms/step - loss: 0.1348 - accuracy: 0.9568 - val_loss: 0.3235 - val_accuracy: 0.9125\n",
            "Epoch 49/60\n",
            "51524/51524 [==============================] - 53s 1ms/step - loss: 0.1309 - accuracy: 0.9577 - val_loss: 0.3022 - val_accuracy: 0.9173\n",
            "Epoch 50/60\n",
            "51524/51524 [==============================] - 52s 1ms/step - loss: 0.1288 - accuracy: 0.9590 - val_loss: 0.3237 - val_accuracy: 0.9136\n",
            "Epoch 51/60\n",
            "51524/51524 [==============================] - 53s 1ms/step - loss: 0.1273 - accuracy: 0.9580 - val_loss: 0.3173 - val_accuracy: 0.9094\n",
            "Epoch 52/60\n",
            "51524/51524 [==============================] - 52s 1ms/step - loss: 0.1231 - accuracy: 0.9604 - val_loss: 0.3700 - val_accuracy: 0.9070\n",
            "Epoch 53/60\n",
            "51524/51524 [==============================] - 52s 1ms/step - loss: 0.1123 - accuracy: 0.9642 - val_loss: 0.3034 - val_accuracy: 0.9164\n",
            "Epoch 54/60\n",
            "51524/51524 [==============================] - 53s 1ms/step - loss: 0.1124 - accuracy: 0.9641 - val_loss: 0.3209 - val_accuracy: 0.9165\n",
            "Epoch 55/60\n",
            "51524/51524 [==============================] - 52s 1ms/step - loss: 0.1063 - accuracy: 0.9652 - val_loss: 0.3334 - val_accuracy: 0.9152\n",
            "Epoch 56/60\n",
            "51524/51524 [==============================] - 52s 1ms/step - loss: 0.1101 - accuracy: 0.9646 - val_loss: 0.3334 - val_accuracy: 0.9123\n",
            "Epoch 57/60\n",
            "51524/51524 [==============================] - 52s 1ms/step - loss: 0.1096 - accuracy: 0.9645 - val_loss: 0.3368 - val_accuracy: 0.9097\n",
            "Epoch 58/60\n",
            "51524/51524 [==============================] - 52s 1ms/step - loss: 0.1035 - accuracy: 0.9663 - val_loss: 0.3374 - val_accuracy: 0.9145\n",
            "Epoch 59/60\n",
            "51524/51524 [==============================] - 52s 1ms/step - loss: 0.0952 - accuracy: 0.9691 - val_loss: 0.3319 - val_accuracy: 0.9163\n",
            "Epoch 60/60\n",
            "51524/51524 [==============================] - 52s 1ms/step - loss: 0.0972 - accuracy: 0.9684 - val_loss: 0.3525 - val_accuracy: 0.9123\n"
          ],
          "name": "stdout"
        },
        {
          "output_type": "display_data",
          "data": {
            "image/png": "[encoded data removed]",
            "text/plain": [
              "<Figure size 432x288 with 2 Axes>"
            ]
          },
          "metadata": {
            "tags": [],
            "needs_background": "light"
          }
        }
      ]
    },
    {
      "cell_type": "code",
      "metadata": {
        "id": "0J-D0NmIdWoy",
        "colab_type": "code",
        "outputId": "617eccf6-9dc5-4bce-b522-dcb4d76e0cb2",
        "colab": {
          "base_uri": "https://localhost:8080/",
          "height": 513
        }
      },
      "source": [
        "plot_loss(all_history[0])\n",
        "plot_accuracy(all_history[0])"
      ],
      "execution_count": 0,
      "outputs": [
        {
          "output_type": "display_data",
          "data": {
            "image/png": "[encoded data removed]",
            "text/plain": [
              "<Figure size 432x288 with 1 Axes>"
            ]
          },
          "metadata": {
            "tags": [],
            "needs_background": "light"
          }
        },
        {
          "output_type": "display_data",
          "data": {
            "image/png": "[encoded data removed]",
            "text/plain": [
              "<Figure size 432x288 with 1 Axes>"
            ]
          },
          "metadata": {
            "tags": [],
            "needs_background": "light"
          }
        }
      ]
    },
    {
      "cell_type": "code",
      "metadata": {
        "id": "nLW5Vmtm64gY",
        "colab_type": "code",
        "outputId": "396db00c-2084-4520-c624-98c1db0a55d5",
        "colab": {
          "base_uri": "https://localhost:8080/",
          "height": 513
        }
      },
      "source": [
        "plot_loss(all_history[1])\n",
        "plot_accuracy(all_history[1])"
      ],
      "execution_count": 0,
      "outputs": [
        {
          "output_type": "display_data",
          "data": {
            "image/png": "[encoded data removed]",
            "text/plain": [
              "<Figure size 432x288 with 1 Axes>"
            ]
          },
          "metadata": {
            "tags": [],
            "needs_background": "light"
          }
        },
        {
          "output_type": "display_data",
          "data": {
            "image/png": "[encoded data removed]",
            "text/plain": [
              "<Figure size 432x288 with 1 Axes>"
            ]
          },
          "metadata": {
            "tags": [],
            "needs_background": "light"
          }
        }
      ]
    },
    {
      "cell_type": "code",
      "metadata": {
        "id": "0pQHd6F-7Wz6",
        "colab_type": "code",
        "outputId": "2e24dd96-7c49-4deb-8db5-df8ac5cd3a47",
        "colab": {
          "base_uri": "https://localhost:8080/",
          "height": 265
        }
      },
      "source": [
        "multi_plot_loss(all_history)"
      ],
      "execution_count": 0,
      "outputs": [
        {
          "output_type": "display_data",
          "data": {
            "image/png": "[encoded data removed]",
            "text/plain": [
              "<Figure size 432x288 with 1 Axes>"
            ]
          },
          "metadata": {
            "tags": [],
            "needs_background": "light"
          }
        }
      ]
    },
    {
      "cell_type": "code",
      "metadata": {
        "id": "HmNXpVq1-url",
        "colab_type": "code",
        "colab": {}
      },
      "source": [
        ""
      ],
      "execution_count": 0,
      "outputs": []
    },
    {
      "cell_type": "code",
      "metadata": {
        "id": "glj1DzIC9Htu",
        "colab_type": "code",
        "outputId": "739e9be2-9ed2-41d2-d387-621a9782b323",
        "colab": {
          "base_uri": "https://localhost:8080/",
          "height": 1000
        }
      },
      "source": [
        "def lfScheduleRNN2F(epoch, lr):\n",
        "  if epoch > 20:\n",
        "    return 0.001\n",
        "  return 0.01\n",
        "\n",
        "lfScheduleRNN2 = LearningRateScheduler(lfScheduleRNN2F, verbose=0)\n",
        "\n",
        "models = [\n",
        "            create_RNN(input_shape=(None, 33), \n",
        "                       cell_type='LSTM', \n",
        "                       recurrent_cells=[33, 128], \n",
        "                       dense_cells=[128], \n",
        "                       optimizer='adam',\n",
        "                       name='LSTM-basic'),\n",
        "          \n",
        "            create_RNN(input_shape=(None, 33), \n",
        "                       cell_type='GRU', \n",
        "                       recurrent_cells=[33, 128], \n",
        "                       dense_cells=[128], \n",
        "                       optimizer='adam',\n",
        "                       name='GRU-basic')\n",
        "]\n",
        "\n",
        "\n",
        "\n",
        "for model in models:\n",
        "  history = model.fit(train_x, \n",
        "                      train_y, \n",
        "                      batch_size=512, \n",
        "                      epochs=30, \n",
        "                      class_weight=class_weights,\n",
        "                      validation_data=(validation_x, validation_y))\n",
        "  all_history.append(history)\n",
        "  plot_loss(history)\n",
        "                    "
      ],
      "execution_count": 0,
      "outputs": [
        {
          "output_type": "stream",
          "text": [
            "Train on 51524 samples, validate on 6842 samples\n",
            "Epoch 1/30\n",
            "51524/51524 [==============================] - 42s 822us/step - loss: 1.5699 - accuracy: 0.6282 - val_loss: 1.5418 - val_accuracy: 0.6169\n",
            "Epoch 2/30\n",
            "51524/51524 [==============================] - 41s 805us/step - loss: 1.3212 - accuracy: 0.6372 - val_loss: 1.2455 - val_accuracy: 0.6388\n",
            "Epoch 3/30\n",
            "51524/51524 [==============================] - 41s 799us/step - loss: 1.1631 - accuracy: 0.6501 - val_loss: 1.0961 - val_accuracy: 0.6538\n",
            "Epoch 4/30\n",
            "51524/51524 [==============================] - 42s 806us/step - loss: 1.0706 - accuracy: 0.6741 - val_loss: 1.0329 - val_accuracy: 0.6799\n",
            "Epoch 5/30\n",
            "51524/51524 [==============================] - 42s 823us/step - loss: 0.9933 - accuracy: 0.6926 - val_loss: 0.9284 - val_accuracy: 0.6986\n",
            "Epoch 6/30\n",
            "51524/51524 [==============================] - 42s 806us/step - loss: 0.9073 - accuracy: 0.7128 - val_loss: 0.8483 - val_accuracy: 0.7286\n",
            "Epoch 7/30\n",
            "51524/51524 [==============================] - 41s 801us/step - loss: 0.8003 - accuracy: 0.7427 - val_loss: 0.7807 - val_accuracy: 0.7391\n",
            "Epoch 8/30\n",
            "51524/51524 [==============================] - 42s 807us/step - loss: 0.7122 - accuracy: 0.7672 - val_loss: 0.6578 - val_accuracy: 0.7831\n",
            "Epoch 9/30\n",
            "51524/51524 [==============================] - 41s 805us/step - loss: 0.6147 - accuracy: 0.7997 - val_loss: 0.5826 - val_accuracy: 0.8071\n",
            "Epoch 10/30\n",
            "51524/51524 [==============================] - 42s 811us/step - loss: 0.5448 - accuracy: 0.8225 - val_loss: 0.5292 - val_accuracy: 0.8291\n",
            "Epoch 11/30\n",
            "51524/51524 [==============================] - 42s 812us/step - loss: 0.4933 - accuracy: 0.8406 - val_loss: 0.4985 - val_accuracy: 0.8391\n",
            "Epoch 12/30\n",
            "51524/51524 [==============================] - 42s 808us/step - loss: 0.4463 - accuracy: 0.8550 - val_loss: 0.4710 - val_accuracy: 0.8474\n",
            "Epoch 13/30\n",
            "51524/51524 [==============================] - 42s 814us/step - loss: 0.4169 - accuracy: 0.8654 - val_loss: 0.4287 - val_accuracy: 0.8593\n",
            "Epoch 14/30\n",
            "51524/51524 [==============================] - 42s 810us/step - loss: 0.3885 - accuracy: 0.8759 - val_loss: 0.4428 - val_accuracy: 0.8562\n",
            "Epoch 15/30\n",
            "51524/51524 [==============================] - 41s 802us/step - loss: 0.3671 - accuracy: 0.8806 - val_loss: 0.4196 - val_accuracy: 0.8671\n",
            "Epoch 16/30\n",
            "51524/51524 [==============================] - 41s 801us/step - loss: 0.3489 - accuracy: 0.8860 - val_loss: 0.3945 - val_accuracy: 0.8740\n",
            "Epoch 17/30\n",
            "51524/51524 [==============================] - 41s 805us/step - loss: 0.3371 - accuracy: 0.8913 - val_loss: 0.4016 - val_accuracy: 0.8704\n",
            "Epoch 18/30\n",
            "51524/51524 [==============================] - 41s 799us/step - loss: 0.3175 - accuracy: 0.8985 - val_loss: 0.3978 - val_accuracy: 0.8720\n",
            "Epoch 19/30\n",
            "51524/51524 [==============================] - 42s 809us/step - loss: 0.3045 - accuracy: 0.9010 - val_loss: 0.3781 - val_accuracy: 0.8787\n",
            "Epoch 20/30\n",
            "51524/51524 [==============================] - 42s 823us/step - loss: 0.2958 - accuracy: 0.9032 - val_loss: 0.3812 - val_accuracy: 0.8762\n",
            "Epoch 21/30\n",
            "51524/51524 [==============================] - 41s 796us/step - loss: 0.2860 - accuracy: 0.9075 - val_loss: 0.3700 - val_accuracy: 0.8856\n",
            "Epoch 22/30\n",
            "51524/51524 [==============================] - 41s 799us/step - loss: 0.2764 - accuracy: 0.9105 - val_loss: 0.3724 - val_accuracy: 0.8800\n",
            "Epoch 23/30\n",
            "51524/51524 [==============================] - 42s 810us/step - loss: 0.2709 - accuracy: 0.9122 - val_loss: 0.3546 - val_accuracy: 0.8859\n",
            "Epoch 24/30\n",
            "51524/51524 [==============================] - 42s 814us/step - loss: 0.2591 - accuracy: 0.9169 - val_loss: 0.3655 - val_accuracy: 0.8876\n",
            "Epoch 25/30\n",
            "51524/51524 [==============================] - 41s 801us/step - loss: 0.2489 - accuracy: 0.9201 - val_loss: 0.3741 - val_accuracy: 0.8832\n",
            "Epoch 26/30\n",
            "51524/51524 [==============================] - 42s 807us/step - loss: 0.2471 - accuracy: 0.9195 - val_loss: 0.3499 - val_accuracy: 0.8891\n",
            "Epoch 27/30\n",
            "51524/51524 [==============================] - 41s 793us/step - loss: 0.2338 - accuracy: 0.9244 - val_loss: 0.3531 - val_accuracy: 0.8916\n",
            "Epoch 28/30\n",
            "51524/51524 [==============================] - 42s 816us/step - loss: 0.2272 - accuracy: 0.9258 - val_loss: 0.3367 - val_accuracy: 0.8954\n",
            "Epoch 29/30\n",
            "51524/51524 [==============================] - 42s 806us/step - loss: 0.2183 - accuracy: 0.9301 - val_loss: 0.3592 - val_accuracy: 0.8899\n",
            "Epoch 30/30\n",
            "51524/51524 [==============================] - 41s 800us/step - loss: 0.2155 - accuracy: 0.9286 - val_loss: 0.3616 - val_accuracy: 0.8864\n"
          ],
          "name": "stdout"
        },
        {
          "output_type": "display_data",
          "data": {
            "image/png": "[encoded data removed]",
            "text/plain": [
              "<Figure size 432x288 with 1 Axes>"
            ]
          },
          "metadata": {
            "tags": [],
            "needs_background": "light"
          }
        },
        {
          "output_type": "stream",
          "text": [
            "Train on 51524 samples, validate on 6842 samples\n",
            "Epoch 1/30\n",
            "51524/51524 [==============================] - 54s 1ms/step - loss: 1.6643 - accuracy: 0.6259 - val_loss: 1.5417 - val_accuracy: 0.6188\n",
            "Epoch 2/30\n",
            "51524/51524 [==============================] - 53s 1ms/step - loss: 1.4746 - accuracy: 0.6363 - val_loss: 1.4816 - val_accuracy: 0.6206\n",
            "Epoch 3/30\n",
            "51524/51524 [==============================] - 55s 1ms/step - loss: 1.4062 - accuracy: 0.6382 - val_loss: 1.3687 - val_accuracy: 0.6368\n",
            "Epoch 4/30\n",
            "51524/51524 [==============================] - 53s 1ms/step - loss: 1.2695 - accuracy: 0.6558 - val_loss: 1.2066 - val_accuracy: 0.6511\n",
            "Epoch 5/30\n",
            "51524/51524 [==============================] - 54s 1ms/step - loss: 1.1115 - accuracy: 0.6777 - val_loss: 1.0314 - val_accuracy: 0.6850\n",
            "Epoch 6/30\n",
            "51524/51524 [==============================] - 53s 1ms/step - loss: 0.9562 - accuracy: 0.7020 - val_loss: 0.8769 - val_accuracy: 0.7129\n",
            "Epoch 7/30\n",
            "51524/51524 [==============================] - 53s 1ms/step - loss: 0.8166 - accuracy: 0.7325 - val_loss: 0.7616 - val_accuracy: 0.7488\n",
            "Epoch 8/30\n",
            "51524/51524 [==============================] - 54s 1ms/step - loss: 0.7055 - accuracy: 0.7676 - val_loss: 0.6610 - val_accuracy: 0.7843\n",
            "Epoch 9/30\n",
            "51524/51524 [==============================] - 55s 1ms/step - loss: 0.6018 - accuracy: 0.8037 - val_loss: 0.5878 - val_accuracy: 0.8090\n",
            "Epoch 10/30\n",
            "51524/51524 [==============================] - 54s 1ms/step - loss: 0.5375 - accuracy: 0.8243 - val_loss: 0.5468 - val_accuracy: 0.8252\n",
            "Epoch 11/30\n",
            "51524/51524 [==============================] - 54s 1ms/step - loss: 0.4842 - accuracy: 0.8438 - val_loss: 0.4994 - val_accuracy: 0.8446\n",
            "Epoch 12/30\n",
            "51524/51524 [==============================] - 54s 1ms/step - loss: 0.4437 - accuracy: 0.8560 - val_loss: 0.4905 - val_accuracy: 0.8446\n",
            "Epoch 13/30\n",
            "51524/51524 [==============================] - 54s 1ms/step - loss: 0.4130 - accuracy: 0.8656 - val_loss: 0.4410 - val_accuracy: 0.8606\n",
            "Epoch 14/30\n",
            "51524/51524 [==============================] - 53s 1ms/step - loss: 0.3906 - accuracy: 0.8732 - val_loss: 0.4287 - val_accuracy: 0.8610\n",
            "Epoch 15/30\n",
            "51524/51524 [==============================] - 54s 1ms/step - loss: 0.3695 - accuracy: 0.8803 - val_loss: 0.4199 - val_accuracy: 0.8642\n",
            "Epoch 16/30\n",
            "51524/51524 [==============================] - 54s 1ms/step - loss: 0.3565 - accuracy: 0.8844 - val_loss: 0.3849 - val_accuracy: 0.8794\n",
            "Epoch 17/30\n",
            "51524/51524 [==============================] - 53s 1ms/step - loss: 0.3451 - accuracy: 0.8873 - val_loss: 0.3837 - val_accuracy: 0.8796\n",
            "Epoch 18/30\n",
            "51524/51524 [==============================] - 53s 1ms/step - loss: 0.3289 - accuracy: 0.8940 - val_loss: 0.3953 - val_accuracy: 0.8723\n",
            "Epoch 19/30\n",
            "51524/51524 [==============================] - 54s 1ms/step - loss: 0.3149 - accuracy: 0.8974 - val_loss: 0.3830 - val_accuracy: 0.8761\n",
            "Epoch 20/30\n",
            "51524/51524 [==============================] - 53s 1ms/step - loss: 0.3097 - accuracy: 0.8983 - val_loss: 0.3805 - val_accuracy: 0.8807\n",
            "Epoch 21/30\n",
            "51524/51524 [==============================] - 54s 1ms/step - loss: 0.2995 - accuracy: 0.9024 - val_loss: 0.3476 - val_accuracy: 0.8878\n",
            "Epoch 22/30\n",
            "51524/51524 [==============================] - 53s 1ms/step - loss: 0.2891 - accuracy: 0.9060 - val_loss: 0.3543 - val_accuracy: 0.8879\n",
            "Epoch 23/30\n",
            "51524/51524 [==============================] - 53s 1ms/step - loss: 0.2799 - accuracy: 0.9093 - val_loss: 0.3472 - val_accuracy: 0.8889\n",
            "Epoch 24/30\n",
            "51524/51524 [==============================] - 54s 1ms/step - loss: 0.2752 - accuracy: 0.9105 - val_loss: 0.3375 - val_accuracy: 0.8918\n",
            "Epoch 25/30\n",
            "51524/51524 [==============================] - 54s 1ms/step - loss: 0.2676 - accuracy: 0.9125 - val_loss: 0.3548 - val_accuracy: 0.8845\n",
            "Epoch 26/30\n",
            "51524/51524 [==============================] - 53s 1ms/step - loss: 0.2600 - accuracy: 0.9156 - val_loss: 0.3404 - val_accuracy: 0.8937\n",
            "Epoch 27/30\n",
            "51524/51524 [==============================] - 54s 1ms/step - loss: 0.2554 - accuracy: 0.9164 - val_loss: 0.3216 - val_accuracy: 0.8956\n",
            "Epoch 28/30\n",
            "51524/51524 [==============================] - 52s 1ms/step - loss: 0.2464 - accuracy: 0.9194 - val_loss: 0.3206 - val_accuracy: 0.8958\n",
            "Epoch 29/30\n",
            "51524/51524 [==============================] - 52s 1ms/step - loss: 0.2442 - accuracy: 0.9200 - val_loss: 0.3303 - val_accuracy: 0.8962\n",
            "Epoch 30/30\n",
            "51524/51524 [==============================] - 52s 1ms/step - loss: 0.2386 - accuracy: 0.9222 - val_loss: 0.3205 - val_accuracy: 0.8994\n"
          ],
          "name": "stdout"
        },
        {
          "output_type": "display_data",
          "data": {
            "image/png": "[encoded data removed]",
            "text/plain": [
              "<Figure size 432x288 with 1 Axes>"
            ]
          },
          "metadata": {
            "tags": [],
            "needs_background": "light"
          }
        }
      ]
    },
    {
      "cell_type": "code",
      "metadata": {
        "id": "YGQSuctCOeu4",
        "colab_type": "code",
        "outputId": "66b31e03-6900-4595-ea02-b1aad8c63576",
        "colab": {
          "base_uri": "https://localhost:8080/",
          "height": 265
        }
      },
      "source": [
        "multi_plot_loss(all_history[2:])"
      ],
      "execution_count": 0,
      "outputs": [
        {
          "output_type": "display_data",
          "data": {
            "image/png": "[encoded data removed]",
            "text/plain": [
              "<Figure size 432x288 with 1 Axes>"
            ]
          },
          "metadata": {
            "tags": [],
            "needs_background": "light"
          }
        }
      ]
    },
    {
      "cell_type": "code",
      "metadata": {
        "id": "cEM82eSSAOOO",
        "colab_type": "code",
        "outputId": "cf1f252b-3904-4398-8cd8-d665d78a8c28",
        "colab": {
          "base_uri": "https://localhost:8080/",
          "height": 1000
        }
      },
      "source": [
        "models = [\n",
        "            create_RNN(input_shape=(None, 33), \n",
        "                       cell_type='GRU', \n",
        "                       recurrent_cells=[33], \n",
        "                       dense_cells=[128], \n",
        "                       optimizer='adam',\n",
        "                       name='GRU-single'),\n",
        "          \n",
        "            create_RNN(input_shape=(None, 33), \n",
        "                       cell_type='GRU', \n",
        "                       recurrent_cells=[33, 33, 128], \n",
        "                       dense_cells=[128], \n",
        "                       optimizer='adam',\n",
        "                       name='GRU-triple'),\n",
        "          \n",
        "            create_RNN(input_shape=(None, 33), \n",
        "                       cell_type='GRU', \n",
        "                       recurrent_cells=[33, 128], \n",
        "                       dense_cells=[128, 64], \n",
        "                       optimizer='adam',\n",
        "                       name='GRU-dense'),\n",
        "          \n",
        "           create_RNN(input_shape=(None, 33), \n",
        "                       cell_type='GRU', \n",
        "                       recurrent_cells=[33, 128], \n",
        "                       dense_cells=[128], \n",
        "                       optimizer='sgd',\n",
        "                       name='GRU-sgd'),\n",
        "]\n",
        "\n",
        "for model in models:\n",
        "  history = model.fit(train_x, \n",
        "                      train_y, \n",
        "                      batch_size=512, \n",
        "                      epochs=60, \n",
        "                      class_weight=class_weights,\n",
        "                      validation_data=(validation_x, validation_y))\n",
        "  all_history.append(history)\n",
        "  plot_loss(history)\n",
        "                    "
      ],
      "execution_count": 0,
      "outputs": [
        {
          "output_type": "stream",
          "text": [
            "Train on 51524 samples, validate on 6842 samples\n",
            "Epoch 1/60\n",
            "51524/51524 [==============================] - 28s 548us/step - loss: 1.7640 - accuracy: 0.6266 - val_loss: 1.5625 - val_accuracy: 0.6169\n",
            "Epoch 2/60\n",
            "51524/51524 [==============================] - 28s 541us/step - loss: 1.5178 - accuracy: 0.6322 - val_loss: 1.5532 - val_accuracy: 0.6196\n",
            "Epoch 3/60\n",
            "51524/51524 [==============================] - 27s 531us/step - loss: 1.4978 - accuracy: 0.6360 - val_loss: 1.5305 - val_accuracy: 0.6210\n",
            "Epoch 4/60\n",
            "51524/51524 [==============================] - 27s 527us/step - loss: 1.4739 - accuracy: 0.6367 - val_loss: 1.4933 - val_accuracy: 0.6212\n",
            "Epoch 5/60\n",
            "51524/51524 [==============================] - 28s 542us/step - loss: 1.4289 - accuracy: 0.6367 - val_loss: 1.4239 - val_accuracy: 0.6209\n",
            "Epoch 6/60\n",
            "51524/51524 [==============================] - 28s 537us/step - loss: 1.3831 - accuracy: 0.6369 - val_loss: 1.4071 - val_accuracy: 0.6212\n",
            "Epoch 7/60\n",
            "51524/51524 [==============================] - 28s 535us/step - loss: 1.3572 - accuracy: 0.6370 - val_loss: 1.3688 - val_accuracy: 0.6212\n",
            "Epoch 8/60\n",
            "51524/51524 [==============================] - 27s 525us/step - loss: 1.3262 - accuracy: 0.6389 - val_loss: 1.3426 - val_accuracy: 0.6244\n",
            "Epoch 9/60\n",
            "51524/51524 [==============================] - 28s 537us/step - loss: 1.3045 - accuracy: 0.6424 - val_loss: 1.3433 - val_accuracy: 0.6238\n",
            "Epoch 10/60\n",
            "51524/51524 [==============================] - 27s 529us/step - loss: 1.2909 - accuracy: 0.6435 - val_loss: 1.3069 - val_accuracy: 0.6292\n",
            "Epoch 11/60\n",
            "51524/51524 [==============================] - 28s 535us/step - loss: 1.2677 - accuracy: 0.6450 - val_loss: 1.2807 - val_accuracy: 0.6289\n",
            "Epoch 12/60\n",
            "51524/51524 [==============================] - 27s 531us/step - loss: 1.2538 - accuracy: 0.6448 - val_loss: 1.2696 - val_accuracy: 0.6286\n",
            "Epoch 13/60\n",
            "51524/51524 [==============================] - 27s 533us/step - loss: 1.2447 - accuracy: 0.6451 - val_loss: 1.2685 - val_accuracy: 0.6314\n",
            "Epoch 14/60\n",
            "51524/51524 [==============================] - 30s 578us/step - loss: 1.2360 - accuracy: 0.6455 - val_loss: 1.2511 - val_accuracy: 0.6331\n",
            "Epoch 15/60\n",
            "51524/51524 [==============================] - 29s 558us/step - loss: 1.2341 - accuracy: 0.6454 - val_loss: 1.2409 - val_accuracy: 0.6318\n",
            "Epoch 16/60\n",
            "51524/51524 [==============================] - 29s 563us/step - loss: 1.2260 - accuracy: 0.6455 - val_loss: 1.2325 - val_accuracy: 0.6323\n",
            "Epoch 17/60\n",
            "51524/51524 [==============================] - 29s 554us/step - loss: 1.2195 - accuracy: 0.6472 - val_loss: 1.2364 - val_accuracy: 0.6304\n",
            "Epoch 18/60\n",
            "51524/51524 [==============================] - 29s 555us/step - loss: 1.2159 - accuracy: 0.6460 - val_loss: 1.2247 - val_accuracy: 0.6321\n",
            "Epoch 19/60\n",
            "51524/51524 [==============================] - 28s 546us/step - loss: 1.2024 - accuracy: 0.6466 - val_loss: 1.2087 - val_accuracy: 0.6320\n",
            "Epoch 20/60\n",
            "51524/51524 [==============================] - 29s 564us/step - loss: 1.1829 - accuracy: 0.6482 - val_loss: 1.1955 - val_accuracy: 0.6377\n",
            "Epoch 21/60\n",
            "51524/51524 [==============================] - 29s 560us/step - loss: 1.1614 - accuracy: 0.6520 - val_loss: 1.1789 - val_accuracy: 0.6402\n",
            "Epoch 22/60\n",
            "51524/51524 [==============================] - 29s 569us/step - loss: 1.1470 - accuracy: 0.6550 - val_loss: 1.1653 - val_accuracy: 0.6448\n",
            "Epoch 23/60\n",
            "51524/51524 [==============================] - 29s 556us/step - loss: 1.1308 - accuracy: 0.6585 - val_loss: 1.1564 - val_accuracy: 0.6450\n",
            "Epoch 24/60\n",
            "51524/51524 [==============================] - 29s 562us/step - loss: 1.1171 - accuracy: 0.6615 - val_loss: 1.1376 - val_accuracy: 0.6469\n",
            "Epoch 25/60\n",
            "51524/51524 [==============================] - 29s 568us/step - loss: 1.1077 - accuracy: 0.6627 - val_loss: 1.1230 - val_accuracy: 0.6492\n",
            "Epoch 26/60\n",
            "51524/51524 [==============================] - 29s 555us/step - loss: 1.0917 - accuracy: 0.6665 - val_loss: 1.1174 - val_accuracy: 0.6540\n",
            "Epoch 27/60\n",
            "51524/51524 [==============================] - 28s 539us/step - loss: 1.0621 - accuracy: 0.6743 - val_loss: 1.0658 - val_accuracy: 0.6628\n",
            "Epoch 28/60\n",
            "51524/51524 [==============================] - 28s 538us/step - loss: 1.0350 - accuracy: 0.6821 - val_loss: 1.0502 - val_accuracy: 0.6732\n",
            "Epoch 29/60\n",
            "51524/51524 [==============================] - 28s 545us/step - loss: 1.0144 - accuracy: 0.6860 - val_loss: 1.0150 - val_accuracy: 0.6790\n",
            "Epoch 30/60\n",
            "51524/51524 [==============================] - 28s 536us/step - loss: 0.9930 - accuracy: 0.6936 - val_loss: 1.0002 - val_accuracy: 0.6795\n",
            "Epoch 31/60\n",
            "51524/51524 [==============================] - 28s 537us/step - loss: 0.9779 - accuracy: 0.6988 - val_loss: 0.9797 - val_accuracy: 0.6894\n",
            "Epoch 32/60\n",
            "51524/51524 [==============================] - 28s 539us/step - loss: 0.9666 - accuracy: 0.7022 - val_loss: 0.9675 - val_accuracy: 0.6919\n",
            "Epoch 33/60\n",
            "51524/51524 [==============================] - 28s 539us/step - loss: 0.9510 - accuracy: 0.7064 - val_loss: 0.9517 - val_accuracy: 0.6950\n",
            "Epoch 34/60\n",
            "51524/51524 [==============================] - 28s 541us/step - loss: 0.9430 - accuracy: 0.7075 - val_loss: 0.9416 - val_accuracy: 0.6970\n",
            "Epoch 35/60\n",
            "51524/51524 [==============================] - 28s 550us/step - loss: 0.9435 - accuracy: 0.7090 - val_loss: 0.9627 - val_accuracy: 0.6963\n",
            "Epoch 36/60\n",
            "51524/51524 [==============================] - 28s 544us/step - loss: 0.9354 - accuracy: 0.7095 - val_loss: 0.9451 - val_accuracy: 0.6957\n",
            "Epoch 37/60\n",
            "51524/51524 [==============================] - 28s 542us/step - loss: 0.9292 - accuracy: 0.7090 - val_loss: 0.9543 - val_accuracy: 0.6928\n",
            "Epoch 38/60\n",
            "51524/51524 [==============================] - 28s 543us/step - loss: 0.9224 - accuracy: 0.7122 - val_loss: 0.9294 - val_accuracy: 0.7021\n",
            "Epoch 39/60\n",
            "51524/51524 [==============================] - 27s 533us/step - loss: 0.9174 - accuracy: 0.7117 - val_loss: 0.9259 - val_accuracy: 0.7032\n",
            "Epoch 40/60\n",
            "51524/51524 [==============================] - 27s 533us/step - loss: 0.9138 - accuracy: 0.7140 - val_loss: 0.9219 - val_accuracy: 0.7023\n",
            "Epoch 41/60\n",
            "51524/51524 [==============================] - 27s 530us/step - loss: 0.9091 - accuracy: 0.7143 - val_loss: 0.9292 - val_accuracy: 0.6975\n",
            "Epoch 42/60\n",
            "51524/51524 [==============================] - 28s 544us/step - loss: 0.9050 - accuracy: 0.7147 - val_loss: 0.9132 - val_accuracy: 0.7072\n",
            "Epoch 43/60\n",
            "51524/51524 [==============================] - 28s 540us/step - loss: 0.9005 - accuracy: 0.7155 - val_loss: 0.9197 - val_accuracy: 0.7056\n",
            "Epoch 44/60\n",
            "51524/51524 [==============================] - 28s 539us/step - loss: 0.9020 - accuracy: 0.7165 - val_loss: 0.9177 - val_accuracy: 0.7026\n",
            "Epoch 45/60\n",
            "51524/51524 [==============================] - 27s 532us/step - loss: 0.8990 - accuracy: 0.7184 - val_loss: 0.9103 - val_accuracy: 0.7037\n",
            "Epoch 46/60\n",
            "51524/51524 [==============================] - 28s 539us/step - loss: 0.8910 - accuracy: 0.7204 - val_loss: 0.9007 - val_accuracy: 0.7071\n",
            "Epoch 47/60\n",
            "51524/51524 [==============================] - 28s 540us/step - loss: 0.8899 - accuracy: 0.7210 - val_loss: 0.9114 - val_accuracy: 0.7086\n",
            "Epoch 48/60\n",
            "51524/51524 [==============================] - 27s 531us/step - loss: 0.8857 - accuracy: 0.7207 - val_loss: 0.9012 - val_accuracy: 0.7072\n",
            "Epoch 49/60\n",
            "51524/51524 [==============================] - 27s 529us/step - loss: 0.8856 - accuracy: 0.7234 - val_loss: 0.9030 - val_accuracy: 0.7106\n",
            "Epoch 50/60\n",
            "51524/51524 [==============================] - 28s 534us/step - loss: 0.8819 - accuracy: 0.7227 - val_loss: 0.8975 - val_accuracy: 0.7094\n",
            "Epoch 51/60\n",
            "51524/51524 [==============================] - 28s 538us/step - loss: 0.8815 - accuracy: 0.7216 - val_loss: 0.8982 - val_accuracy: 0.7090\n",
            "Epoch 52/60\n",
            "51524/51524 [==============================] - 27s 530us/step - loss: 0.8739 - accuracy: 0.7253 - val_loss: 0.8925 - val_accuracy: 0.7075\n",
            "Epoch 53/60\n",
            "51524/51524 [==============================] - 28s 539us/step - loss: 0.8759 - accuracy: 0.7258 - val_loss: 0.8858 - val_accuracy: 0.7132\n",
            "Epoch 54/60\n",
            "51524/51524 [==============================] - 27s 533us/step - loss: 0.8720 - accuracy: 0.7243 - val_loss: 0.8929 - val_accuracy: 0.7140\n",
            "Epoch 55/60\n",
            "51524/51524 [==============================] - 27s 533us/step - loss: 0.8704 - accuracy: 0.7232 - val_loss: 0.8902 - val_accuracy: 0.7089\n",
            "Epoch 56/60\n",
            "51524/51524 [==============================] - 28s 536us/step - loss: 0.8710 - accuracy: 0.7256 - val_loss: 0.8780 - val_accuracy: 0.7175\n",
            "Epoch 57/60\n",
            "51524/51524 [==============================] - 28s 536us/step - loss: 0.8658 - accuracy: 0.7261 - val_loss: 0.8748 - val_accuracy: 0.7134\n",
            "Epoch 58/60\n",
            "51524/51524 [==============================] - 28s 545us/step - loss: 0.8614 - accuracy: 0.7270 - val_loss: 0.8794 - val_accuracy: 0.7163\n",
            "Epoch 59/60\n",
            "51524/51524 [==============================] - 28s 540us/step - loss: 0.8653 - accuracy: 0.7279 - val_loss: 0.8821 - val_accuracy: 0.7125\n",
            "Epoch 60/60\n",
            "51524/51524 [==============================] - 28s 541us/step - loss: 0.8619 - accuracy: 0.7283 - val_loss: 0.8770 - val_accuracy: 0.7135\n"
          ],
          "name": "stdout"
        },
        {
          "output_type": "display_data",
          "data": {
            "image/png": "[encoded data removed]",
            "text/plain": [
              "<Figure size 432x288 with 1 Axes>"
            ]
          },
          "metadata": {
            "tags": [],
            "needs_background": "light"
          }
        },
        {
          "output_type": "stream",
          "text": [
            "Train on 51524 samples, validate on 6842 samples\n",
            "Epoch 1/60\n",
            "51524/51524 [==============================] - 79s 2ms/step - loss: 1.6324 - accuracy: 0.6279 - val_loss: 1.5384 - val_accuracy: 0.6212\n",
            "Epoch 2/60\n",
            "51524/51524 [==============================] - 78s 2ms/step - loss: 1.4815 - accuracy: 0.6370 - val_loss: 1.4975 - val_accuracy: 0.6194\n",
            "Epoch 3/60\n",
            "51524/51524 [==============================] - 78s 2ms/step - loss: 1.4061 - accuracy: 0.6386 - val_loss: 1.3810 - val_accuracy: 0.6238\n",
            "Epoch 4/60\n",
            "51524/51524 [==============================] - 77s 1ms/step - loss: 1.3234 - accuracy: 0.6409 - val_loss: 1.3430 - val_accuracy: 0.6285\n",
            "Epoch 5/60\n",
            "51524/51524 [==============================] - 78s 2ms/step - loss: 1.2327 - accuracy: 0.6451 - val_loss: 1.1769 - val_accuracy: 0.6368\n",
            "Epoch 6/60\n",
            "51524/51524 [==============================] - 77s 1ms/step - loss: 1.0852 - accuracy: 0.6643 - val_loss: 1.0039 - val_accuracy: 0.6703\n",
            "Epoch 7/60\n",
            "51524/51524 [==============================] - 77s 1ms/step - loss: 0.8975 - accuracy: 0.7154 - val_loss: 0.8066 - val_accuracy: 0.7420\n",
            "Epoch 8/60\n",
            "51524/51524 [==============================] - 77s 1ms/step - loss: 0.7153 - accuracy: 0.7722 - val_loss: 0.6718 - val_accuracy: 0.7824\n",
            "Epoch 9/60\n",
            "51524/51524 [==============================] - 77s 2ms/step - loss: 0.6334 - accuracy: 0.7973 - val_loss: 0.6068 - val_accuracy: 0.8042\n",
            "Epoch 10/60\n",
            "51524/51524 [==============================] - 77s 1ms/step - loss: 0.5750 - accuracy: 0.8147 - val_loss: 0.5536 - val_accuracy: 0.8188\n",
            "Epoch 11/60\n",
            "51524/51524 [==============================] - 78s 2ms/step - loss: 0.5281 - accuracy: 0.8307 - val_loss: 0.5180 - val_accuracy: 0.8299\n",
            "Epoch 12/60\n",
            "51524/51524 [==============================] - 77s 1ms/step - loss: 0.4908 - accuracy: 0.8422 - val_loss: 0.4808 - val_accuracy: 0.8401\n",
            "Epoch 13/60\n",
            "51524/51524 [==============================] - 78s 2ms/step - loss: 0.4629 - accuracy: 0.8500 - val_loss: 0.4756 - val_accuracy: 0.8443\n",
            "Epoch 14/60\n",
            "51524/51524 [==============================] - 78s 2ms/step - loss: 0.4499 - accuracy: 0.8546 - val_loss: 0.4453 - val_accuracy: 0.8576\n",
            "Epoch 15/60\n",
            "51524/51524 [==============================] - 77s 2ms/step - loss: 0.4230 - accuracy: 0.8630 - val_loss: 0.4414 - val_accuracy: 0.8531\n",
            "Epoch 16/60\n",
            "51524/51524 [==============================] - 77s 2ms/step - loss: 0.4067 - accuracy: 0.8697 - val_loss: 0.4364 - val_accuracy: 0.8566\n",
            "Epoch 17/60\n",
            "51524/51524 [==============================] - 78s 2ms/step - loss: 0.3912 - accuracy: 0.8733 - val_loss: 0.4034 - val_accuracy: 0.8695\n",
            "Epoch 18/60\n",
            "51524/51524 [==============================] - 77s 1ms/step - loss: 0.3750 - accuracy: 0.8784 - val_loss: 0.4120 - val_accuracy: 0.8641\n",
            "Epoch 19/60\n",
            "51524/51524 [==============================] - 77s 1ms/step - loss: 0.3664 - accuracy: 0.8793 - val_loss: 0.3923 - val_accuracy: 0.8711\n",
            "Epoch 20/60\n",
            "51524/51524 [==============================] - 78s 2ms/step - loss: 0.3539 - accuracy: 0.8845 - val_loss: 0.3782 - val_accuracy: 0.8781\n",
            "Epoch 21/60\n",
            "51524/51524 [==============================] - 78s 2ms/step - loss: 0.3426 - accuracy: 0.8880 - val_loss: 0.3771 - val_accuracy: 0.8796\n",
            "Epoch 22/60\n",
            "51524/51524 [==============================] - 77s 2ms/step - loss: 0.3387 - accuracy: 0.8893 - val_loss: 0.3641 - val_accuracy: 0.8810\n",
            "Epoch 23/60\n",
            "51524/51524 [==============================] - 78s 2ms/step - loss: 0.3260 - accuracy: 0.8929 - val_loss: 0.3676 - val_accuracy: 0.8810\n",
            "Epoch 24/60\n",
            "51524/51524 [==============================] - 77s 1ms/step - loss: 0.3202 - accuracy: 0.8960 - val_loss: 0.3650 - val_accuracy: 0.8851\n",
            "Epoch 25/60\n",
            "51524/51524 [==============================] - 78s 2ms/step - loss: 0.3130 - accuracy: 0.8973 - val_loss: 0.3605 - val_accuracy: 0.8838\n",
            "Epoch 26/60\n",
            "51524/51524 [==============================] - 78s 2ms/step - loss: 0.3057 - accuracy: 0.8995 - val_loss: 0.3587 - val_accuracy: 0.8856\n",
            "Epoch 27/60\n",
            "51524/51524 [==============================] - 78s 2ms/step - loss: 0.2980 - accuracy: 0.9019 - val_loss: 0.3566 - val_accuracy: 0.8845\n",
            "Epoch 28/60\n",
            "51524/51524 [==============================] - 78s 2ms/step - loss: 0.2976 - accuracy: 0.9014 - val_loss: 0.3496 - val_accuracy: 0.8894\n",
            "Epoch 29/60\n",
            "51524/51524 [==============================] - 79s 2ms/step - loss: 0.2857 - accuracy: 0.9067 - val_loss: 0.3474 - val_accuracy: 0.8872\n",
            "Epoch 30/60\n",
            "51524/51524 [==============================] - 79s 2ms/step - loss: 0.2747 - accuracy: 0.9091 - val_loss: 0.3504 - val_accuracy: 0.8888\n",
            "Epoch 31/60\n",
            "51524/51524 [==============================] - 79s 2ms/step - loss: 0.2736 - accuracy: 0.9104 - val_loss: 0.3507 - val_accuracy: 0.8913\n",
            "Epoch 32/60\n",
            "51524/51524 [==============================] - 79s 2ms/step - loss: 0.2699 - accuracy: 0.9104 - val_loss: 0.3509 - val_accuracy: 0.8889\n",
            "Epoch 33/60\n",
            "51524/51524 [==============================] - 79s 2ms/step - loss: 0.2633 - accuracy: 0.9133 - val_loss: 0.3383 - val_accuracy: 0.8921\n",
            "Epoch 34/60\n",
            "51524/51524 [==============================] - 80s 2ms/step - loss: 0.2542 - accuracy: 0.9166 - val_loss: 0.3337 - val_accuracy: 0.8940\n",
            "Epoch 35/60\n",
            "51524/51524 [==============================] - 78s 2ms/step - loss: 0.2540 - accuracy: 0.9158 - val_loss: 0.3372 - val_accuracy: 0.8927\n",
            "Epoch 36/60\n",
            "51524/51524 [==============================] - 79s 2ms/step - loss: 0.2462 - accuracy: 0.9189 - val_loss: 0.3382 - val_accuracy: 0.8965\n",
            "Epoch 37/60\n",
            "51524/51524 [==============================] - 80s 2ms/step - loss: 0.2433 - accuracy: 0.9189 - val_loss: 0.3345 - val_accuracy: 0.8948\n",
            "Epoch 38/60\n",
            "51524/51524 [==============================] - 79s 2ms/step - loss: 0.2341 - accuracy: 0.9234 - val_loss: 0.3456 - val_accuracy: 0.8910\n",
            "Epoch 39/60\n",
            "51524/51524 [==============================] - 79s 2ms/step - loss: 0.2336 - accuracy: 0.9220 - val_loss: 0.3365 - val_accuracy: 0.8955\n",
            "Epoch 40/60\n",
            "51524/51524 [==============================] - 79s 2ms/step - loss: 0.2302 - accuracy: 0.9225 - val_loss: 0.3424 - val_accuracy: 0.8932\n",
            "Epoch 41/60\n",
            "51524/51524 [==============================] - 79s 2ms/step - loss: 0.2268 - accuracy: 0.9239 - val_loss: 0.3280 - val_accuracy: 0.8974\n",
            "Epoch 42/60\n",
            "51524/51524 [==============================] - 79s 2ms/step - loss: 0.2197 - accuracy: 0.9268 - val_loss: 0.3330 - val_accuracy: 0.8997\n",
            "Epoch 43/60\n",
            "51524/51524 [==============================] - 80s 2ms/step - loss: 0.2188 - accuracy: 0.9264 - val_loss: 0.3390 - val_accuracy: 0.8948\n",
            "Epoch 44/60\n",
            "51524/51524 [==============================] - 79s 2ms/step - loss: 0.2158 - accuracy: 0.9266 - val_loss: 0.3333 - val_accuracy: 0.8948\n",
            "Epoch 45/60\n",
            "51524/51524 [==============================] - 79s 2ms/step - loss: 0.2063 - accuracy: 0.9315 - val_loss: 0.3514 - val_accuracy: 0.8918\n",
            "Epoch 46/60\n",
            "51524/51524 [==============================] - 79s 2ms/step - loss: 0.2007 - accuracy: 0.9325 - val_loss: 0.3408 - val_accuracy: 0.8986\n",
            "Epoch 47/60\n",
            "51524/51524 [==============================] - 79s 2ms/step - loss: 0.1993 - accuracy: 0.9338 - val_loss: 0.3352 - val_accuracy: 0.8989\n",
            "Epoch 48/60\n",
            "51524/51524 [==============================] - 79s 2ms/step - loss: 0.1966 - accuracy: 0.9340 - val_loss: 0.3373 - val_accuracy: 0.8992\n",
            "Epoch 49/60\n",
            "51524/51524 [==============================] - 78s 2ms/step - loss: 0.1939 - accuracy: 0.9347 - val_loss: 0.3474 - val_accuracy: 0.8980\n",
            "Epoch 50/60\n",
            "51524/51524 [==============================] - 79s 2ms/step - loss: 0.1830 - accuracy: 0.9378 - val_loss: 0.3545 - val_accuracy: 0.8899\n",
            "Epoch 51/60\n",
            "51524/51524 [==============================] - 79s 2ms/step - loss: 0.1817 - accuracy: 0.9398 - val_loss: 0.3466 - val_accuracy: 0.8927\n",
            "Epoch 52/60\n",
            "51524/51524 [==============================] - 78s 2ms/step - loss: 0.1782 - accuracy: 0.9395 - val_loss: 0.3541 - val_accuracy: 0.8962\n",
            "Epoch 53/60\n",
            "51524/51524 [==============================] - 79s 2ms/step - loss: 0.1748 - accuracy: 0.9407 - val_loss: 0.3484 - val_accuracy: 0.9006\n",
            "Epoch 54/60\n",
            "51524/51524 [==============================] - 80s 2ms/step - loss: 0.1725 - accuracy: 0.9418 - val_loss: 0.3602 - val_accuracy: 0.8954\n",
            "Epoch 55/60\n",
            "51524/51524 [==============================] - 78s 2ms/step - loss: 0.1664 - accuracy: 0.9438 - val_loss: 0.3629 - val_accuracy: 0.8987\n",
            "Epoch 56/60\n",
            "51524/51524 [==============================] - 79s 2ms/step - loss: 0.1573 - accuracy: 0.9472 - val_loss: 0.3681 - val_accuracy: 0.8930\n",
            "Epoch 57/60\n",
            "51524/51524 [==============================] - 79s 2ms/step - loss: 0.1574 - accuracy: 0.9463 - val_loss: 0.3680 - val_accuracy: 0.8955\n",
            "Epoch 58/60\n",
            "51524/51524 [==============================] - 79s 2ms/step - loss: 0.1543 - accuracy: 0.9472 - val_loss: 0.3718 - val_accuracy: 0.8983\n",
            "Epoch 59/60\n",
            "51524/51524 [==============================] - 78s 2ms/step - loss: 0.1470 - accuracy: 0.9507 - val_loss: 0.3755 - val_accuracy: 0.8948\n",
            "Epoch 60/60\n",
            "51524/51524 [==============================] - 78s 2ms/step - loss: 0.1492 - accuracy: 0.9497 - val_loss: 0.3790 - val_accuracy: 0.8946\n"
          ],
          "name": "stdout"
        },
        {
          "output_type": "display_data",
          "data": {
            "image/png": "[encoded data removed]",
            "text/plain": [
              "<Figure size 432x288 with 1 Axes>"
            ]
          },
          "metadata": {
            "tags": [],
            "needs_background": "light"
          }
        },
        {
          "output_type": "stream",
          "text": [
            "Train on 51524 samples, validate on 6842 samples\n",
            "Epoch 1/60\n",
            "51524/51524 [==============================] - 54s 1ms/step - loss: 1.6330 - accuracy: 0.6285 - val_loss: 1.5385 - val_accuracy: 0.6212\n",
            "Epoch 2/60\n",
            "51524/51524 [==============================] - 53s 1ms/step - loss: 1.4687 - accuracy: 0.6365 - val_loss: 1.4235 - val_accuracy: 0.6212\n",
            "Epoch 3/60\n",
            "51524/51524 [==============================] - 53s 1ms/step - loss: 1.3024 - accuracy: 0.6421 - val_loss: 1.2122 - val_accuracy: 0.6394\n",
            "Epoch 4/60\n",
            "51524/51524 [==============================] - 55s 1ms/step - loss: 1.0857 - accuracy: 0.6678 - val_loss: 0.9513 - val_accuracy: 0.6853\n",
            "Epoch 5/60\n",
            "51524/51524 [==============================] - 53s 1ms/step - loss: 0.8383 - accuracy: 0.7324 - val_loss: 0.7185 - val_accuracy: 0.7724\n",
            "Epoch 6/60\n",
            "51524/51524 [==============================] - 54s 1ms/step - loss: 0.6575 - accuracy: 0.7894 - val_loss: 0.5795 - val_accuracy: 0.8119\n",
            "Epoch 7/60\n",
            "51524/51524 [==============================] - 53s 1ms/step - loss: 0.5502 - accuracy: 0.8263 - val_loss: 0.5172 - val_accuracy: 0.8343\n",
            "Epoch 8/60\n",
            "51524/51524 [==============================] - 53s 1ms/step - loss: 0.4916 - accuracy: 0.8430 - val_loss: 0.4815 - val_accuracy: 0.8448\n",
            "Epoch 9/60\n",
            "51524/51524 [==============================] - 53s 1ms/step - loss: 0.4502 - accuracy: 0.8540 - val_loss: 0.4496 - val_accuracy: 0.8575\n",
            "Epoch 10/60\n",
            "51524/51524 [==============================] - 53s 1ms/step - loss: 0.4178 - accuracy: 0.8666 - val_loss: 0.4110 - val_accuracy: 0.8718\n",
            "Epoch 11/60\n",
            "51524/51524 [==============================] - 54s 1ms/step - loss: 0.3958 - accuracy: 0.8742 - val_loss: 0.4059 - val_accuracy: 0.8708\n",
            "Epoch 12/60\n",
            "51524/51524 [==============================] - 53s 1ms/step - loss: 0.3676 - accuracy: 0.8822 - val_loss: 0.3956 - val_accuracy: 0.8726\n",
            "Epoch 13/60\n",
            "51524/51524 [==============================] - 54s 1ms/step - loss: 0.3564 - accuracy: 0.8848 - val_loss: 0.3768 - val_accuracy: 0.8809\n",
            "Epoch 14/60\n",
            "51524/51524 [==============================] - 53s 1ms/step - loss: 0.3413 - accuracy: 0.8906 - val_loss: 0.3634 - val_accuracy: 0.8885\n",
            "Epoch 15/60\n",
            "51524/51524 [==============================] - 53s 1ms/step - loss: 0.3315 - accuracy: 0.8942 - val_loss: 0.3595 - val_accuracy: 0.8869\n",
            "Epoch 16/60\n",
            "51524/51524 [==============================] - 53s 1ms/step - loss: 0.3112 - accuracy: 0.9000 - val_loss: 0.3437 - val_accuracy: 0.8889\n",
            "Epoch 17/60\n",
            "51524/51524 [==============================] - 54s 1ms/step - loss: 0.3027 - accuracy: 0.9027 - val_loss: 0.3346 - val_accuracy: 0.8911\n",
            "Epoch 18/60\n",
            "51524/51524 [==============================] - 53s 1ms/step - loss: 0.2941 - accuracy: 0.9060 - val_loss: 0.3369 - val_accuracy: 0.8927\n",
            "Epoch 19/60\n",
            "51524/51524 [==============================] - 53s 1ms/step - loss: 0.2827 - accuracy: 0.9090 - val_loss: 0.3160 - val_accuracy: 0.9016\n",
            "Epoch 20/60\n",
            "51524/51524 [==============================] - 53s 1ms/step - loss: 0.2690 - accuracy: 0.9139 - val_loss: 0.3317 - val_accuracy: 0.8937\n",
            "Epoch 21/60\n",
            "51524/51524 [==============================] - 52s 1ms/step - loss: 0.2616 - accuracy: 0.9163 - val_loss: 0.3082 - val_accuracy: 0.9079\n",
            "Epoch 22/60\n",
            "51524/51524 [==============================] - 53s 1ms/step - loss: 0.2548 - accuracy: 0.9175 - val_loss: 0.3068 - val_accuracy: 0.9056\n",
            "Epoch 23/60\n",
            "51524/51524 [==============================] - 53s 1ms/step - loss: 0.2458 - accuracy: 0.9204 - val_loss: 0.3131 - val_accuracy: 0.9035\n",
            "Epoch 24/60\n",
            "51524/51524 [==============================] - 54s 1ms/step - loss: 0.2343 - accuracy: 0.9244 - val_loss: 0.3059 - val_accuracy: 0.9040\n",
            "Epoch 25/60\n",
            "51524/51524 [==============================] - 54s 1ms/step - loss: 0.2308 - accuracy: 0.9261 - val_loss: 0.2894 - val_accuracy: 0.9087\n",
            "Epoch 26/60\n",
            "51524/51524 [==============================] - 54s 1ms/step - loss: 0.2272 - accuracy: 0.9262 - val_loss: 0.2878 - val_accuracy: 0.9120\n",
            "Epoch 27/60\n",
            "51524/51524 [==============================] - 53s 1ms/step - loss: 0.2192 - accuracy: 0.9295 - val_loss: 0.2840 - val_accuracy: 0.9119\n",
            "Epoch 28/60\n",
            "51524/51524 [==============================] - 53s 1ms/step - loss: 0.2123 - accuracy: 0.9313 - val_loss: 0.2744 - val_accuracy: 0.9164\n",
            "Epoch 29/60\n",
            "51524/51524 [==============================] - 53s 1ms/step - loss: 0.2039 - accuracy: 0.9337 - val_loss: 0.2785 - val_accuracy: 0.9149\n",
            "Epoch 30/60\n",
            "51524/51524 [==============================] - 53s 1ms/step - loss: 0.2023 - accuracy: 0.9333 - val_loss: 0.2845 - val_accuracy: 0.9129\n",
            "Epoch 31/60\n",
            "51524/51524 [==============================] - 52s 1ms/step - loss: 0.1957 - accuracy: 0.9361 - val_loss: 0.2817 - val_accuracy: 0.9167\n",
            "Epoch 32/60\n",
            "51524/51524 [==============================] - 51s 995us/step - loss: 0.1902 - accuracy: 0.9390 - val_loss: 0.2763 - val_accuracy: 0.9168\n",
            "Epoch 33/60\n",
            "51524/51524 [==============================] - 52s 1ms/step - loss: 0.1862 - accuracy: 0.9393 - val_loss: 0.2993 - val_accuracy: 0.9117\n",
            "Epoch 34/60\n",
            "51524/51524 [==============================] - 51s 999us/step - loss: 0.1861 - accuracy: 0.9393 - val_loss: 0.2761 - val_accuracy: 0.9157\n",
            "Epoch 35/60\n",
            "51524/51524 [==============================] - 52s 1ms/step - loss: 0.1806 - accuracy: 0.9411 - val_loss: 0.2819 - val_accuracy: 0.9163\n",
            "Epoch 36/60\n",
            "51524/51524 [==============================] - 52s 1ms/step - loss: 0.1714 - accuracy: 0.9430 - val_loss: 0.2863 - val_accuracy: 0.9177\n",
            "Epoch 37/60\n",
            "51524/51524 [==============================] - 51s 983us/step - loss: 0.1679 - accuracy: 0.9449 - val_loss: 0.2703 - val_accuracy: 0.9220\n",
            "Epoch 38/60\n",
            "51524/51524 [==============================] - 51s 989us/step - loss: 0.1676 - accuracy: 0.9455 - val_loss: 0.2937 - val_accuracy: 0.9157\n",
            "Epoch 39/60\n",
            "51524/51524 [==============================] - 51s 993us/step - loss: 0.1614 - accuracy: 0.9479 - val_loss: 0.2731 - val_accuracy: 0.9167\n",
            "Epoch 40/60\n",
            "51524/51524 [==============================] - 51s 988us/step - loss: 0.1596 - accuracy: 0.9477 - val_loss: 0.2766 - val_accuracy: 0.9160\n",
            "Epoch 41/60\n",
            "51524/51524 [==============================] - 50s 975us/step - loss: 0.1551 - accuracy: 0.9500 - val_loss: 0.2720 - val_accuracy: 0.9233\n",
            "Epoch 42/60\n",
            "51524/51524 [==============================] - 51s 992us/step - loss: 0.1522 - accuracy: 0.9502 - val_loss: 0.2962 - val_accuracy: 0.9133\n",
            "Epoch 43/60\n",
            "51524/51524 [==============================] - 50s 975us/step - loss: 0.1537 - accuracy: 0.9494 - val_loss: 0.2818 - val_accuracy: 0.9174\n",
            "Epoch 44/60\n",
            "51524/51524 [==============================] - 50s 974us/step - loss: 0.1421 - accuracy: 0.9537 - val_loss: 0.2803 - val_accuracy: 0.9203\n",
            "Epoch 45/60\n",
            "51524/51524 [==============================] - 50s 976us/step - loss: 0.1424 - accuracy: 0.9533 - val_loss: 0.2948 - val_accuracy: 0.9154\n",
            "Epoch 46/60\n",
            "51524/51524 [==============================] - 51s 983us/step - loss: 0.1345 - accuracy: 0.9560 - val_loss: 0.2827 - val_accuracy: 0.9206\n",
            "Epoch 47/60\n",
            "51524/51524 [==============================] - 50s 979us/step - loss: 0.1376 - accuracy: 0.9545 - val_loss: 0.2988 - val_accuracy: 0.9174\n",
            "Epoch 48/60\n",
            "51524/51524 [==============================] - 50s 979us/step - loss: 0.1250 - accuracy: 0.9593 - val_loss: 0.2875 - val_accuracy: 0.9190\n",
            "Epoch 49/60\n",
            "51524/51524 [==============================] - 50s 977us/step - loss: 0.1185 - accuracy: 0.9617 - val_loss: 0.2877 - val_accuracy: 0.9246\n",
            "Epoch 50/60\n",
            "51524/51524 [==============================] - 50s 980us/step - loss: 0.1188 - accuracy: 0.9618 - val_loss: 0.3080 - val_accuracy: 0.9182\n",
            "Epoch 51/60\n",
            "51524/51524 [==============================] - 50s 974us/step - loss: 0.1158 - accuracy: 0.9618 - val_loss: 0.3034 - val_accuracy: 0.9167\n",
            "Epoch 52/60\n",
            "51524/51524 [==============================] - 50s 966us/step - loss: 0.1189 - accuracy: 0.9613 - val_loss: 0.3195 - val_accuracy: 0.9151\n",
            "Epoch 53/60\n",
            "51524/51524 [==============================] - 50s 973us/step - loss: 0.1147 - accuracy: 0.9624 - val_loss: 0.2996 - val_accuracy: 0.9212\n",
            "Epoch 54/60\n",
            "51524/51524 [==============================] - 50s 973us/step - loss: 0.1079 - accuracy: 0.9646 - val_loss: 0.3163 - val_accuracy: 0.9198\n",
            "Epoch 55/60\n",
            "51524/51524 [==============================] - 50s 971us/step - loss: 0.1088 - accuracy: 0.9649 - val_loss: 0.3233 - val_accuracy: 0.9192\n",
            "Epoch 56/60\n",
            "51524/51524 [==============================] - 51s 984us/step - loss: 0.0999 - accuracy: 0.9677 - val_loss: 0.3198 - val_accuracy: 0.9220\n",
            "Epoch 57/60\n",
            "51524/51524 [==============================] - 51s 982us/step - loss: 0.0978 - accuracy: 0.9676 - val_loss: 0.3550 - val_accuracy: 0.9154\n",
            "Epoch 58/60\n",
            "51524/51524 [==============================] - 51s 994us/step - loss: 0.0980 - accuracy: 0.9683 - val_loss: 0.3198 - val_accuracy: 0.9208\n",
            "Epoch 59/60\n",
            "51524/51524 [==============================] - 52s 1ms/step - loss: 0.1002 - accuracy: 0.9666 - val_loss: 0.3543 - val_accuracy: 0.9127\n",
            "Epoch 60/60\n",
            "51524/51524 [==============================] - 52s 1ms/step - loss: 0.0929 - accuracy: 0.9690 - val_loss: 0.3332 - val_accuracy: 0.9187\n"
          ],
          "name": "stdout"
        },
        {
          "output_type": "display_data",
          "data": {
            "image/png": "[encoded data removed]",
            "text/plain": [
              "<Figure size 432x288 with 1 Axes>"
            ]
          },
          "metadata": {
            "tags": [],
            "needs_background": "light"
          }
        },
        {
          "output_type": "stream",
          "text": [
            "Train on 51524 samples, validate on 6842 samples\n",
            "Epoch 1/60\n",
            "51524/51524 [==============================] - 52s 1ms/step - loss: 2.0522 - accuracy: 0.6261 - val_loss: 1.6793 - val_accuracy: 0.6169\n",
            "Epoch 2/60\n",
            "51524/51524 [==============================] - 52s 1ms/step - loss: 1.5590 - accuracy: 0.6317 - val_loss: 1.5789 - val_accuracy: 0.6169\n",
            "Epoch 3/60\n",
            "51524/51524 [==============================] - 52s 1ms/step - loss: 1.5349 - accuracy: 0.6317 - val_loss: 1.5755 - val_accuracy: 0.6169\n",
            "Epoch 4/60\n",
            "51524/51524 [==============================] - 52s 1ms/step - loss: 1.5323 - accuracy: 0.6317 - val_loss: 1.5734 - val_accuracy: 0.6169\n",
            "Epoch 5/60\n",
            "51524/51524 [==============================] - 52s 1ms/step - loss: 1.5307 - accuracy: 0.6317 - val_loss: 1.5717 - val_accuracy: 0.6169\n",
            "Epoch 6/60\n",
            "51524/51524 [==============================] - 52s 1ms/step - loss: 1.5297 - accuracy: 0.6317 - val_loss: 1.5706 - val_accuracy: 0.6169\n",
            "Epoch 7/60\n",
            "51524/51524 [==============================] - 52s 1ms/step - loss: 1.5290 - accuracy: 0.6317 - val_loss: 1.5699 - val_accuracy: 0.6169\n",
            "Epoch 8/60\n",
            "51524/51524 [==============================] - 53s 1ms/step - loss: 1.5285 - accuracy: 0.6317 - val_loss: 1.5692 - val_accuracy: 0.6169\n",
            "Epoch 9/60\n",
            "51524/51524 [==============================] - 52s 1ms/step - loss: 1.5281 - accuracy: 0.6317 - val_loss: 1.5685 - val_accuracy: 0.6169\n",
            "Epoch 10/60\n",
            "51524/51524 [==============================] - 53s 1ms/step - loss: 1.5278 - accuracy: 0.6317 - val_loss: 1.5682 - val_accuracy: 0.6169\n",
            "Epoch 11/60\n",
            "51524/51524 [==============================] - 52s 1ms/step - loss: 1.5275 - accuracy: 0.6317 - val_loss: 1.5679 - val_accuracy: 0.6169\n",
            "Epoch 12/60\n",
            "51524/51524 [==============================] - 53s 1ms/step - loss: 1.5274 - accuracy: 0.6317 - val_loss: 1.5679 - val_accuracy: 0.6169\n",
            "Epoch 13/60\n",
            "51524/51524 [==============================] - 53s 1ms/step - loss: 1.5272 - accuracy: 0.6317 - val_loss: 1.5678 - val_accuracy: 0.6169\n",
            "Epoch 14/60\n",
            "51524/51524 [==============================] - 53s 1ms/step - loss: 1.5271 - accuracy: 0.6317 - val_loss: 1.5676 - val_accuracy: 0.6169\n",
            "Epoch 15/60\n",
            "51524/51524 [==============================] - 52s 1ms/step - loss: 1.5270 - accuracy: 0.6317 - val_loss: 1.5672 - val_accuracy: 0.6169\n",
            "Epoch 16/60\n",
            "51524/51524 [==============================] - 52s 1ms/step - loss: 1.5269 - accuracy: 0.6317 - val_loss: 1.5670 - val_accuracy: 0.6169\n",
            "Epoch 17/60\n",
            "51524/51524 [==============================] - 52s 1ms/step - loss: 1.5268 - accuracy: 0.6317 - val_loss: 1.5670 - val_accuracy: 0.6169\n",
            "Epoch 18/60\n",
            "51524/51524 [==============================] - 52s 1ms/step - loss: 1.5267 - accuracy: 0.6317 - val_loss: 1.5665 - val_accuracy: 0.6169\n",
            "Epoch 19/60\n",
            "51524/51524 [==============================] - 52s 1ms/step - loss: 1.5267 - accuracy: 0.6317 - val_loss: 1.5666 - val_accuracy: 0.6169\n",
            "Epoch 20/60\n",
            "51524/51524 [==============================] - 52s 1ms/step - loss: 1.5267 - accuracy: 0.6317 - val_loss: 1.5668 - val_accuracy: 0.6169\n",
            "Epoch 21/60\n",
            "51524/51524 [==============================] - 51s 997us/step - loss: 1.5266 - accuracy: 0.6317 - val_loss: 1.5667 - val_accuracy: 0.6169\n",
            "Epoch 22/60\n",
            "51524/51524 [==============================] - 52s 1000us/step - loss: 1.5266 - accuracy: 0.6317 - val_loss: 1.5665 - val_accuracy: 0.6169\n",
            "Epoch 23/60\n",
            "51524/51524 [==============================] - 51s 994us/step - loss: 1.5265 - accuracy: 0.6317 - val_loss: 1.5662 - val_accuracy: 0.6169\n",
            "Epoch 24/60\n",
            "51524/51524 [==============================] - 52s 1ms/step - loss: 1.5265 - accuracy: 0.6317 - val_loss: 1.5667 - val_accuracy: 0.6169\n",
            "Epoch 25/60\n",
            "51524/51524 [==============================] - 51s 996us/step - loss: 1.5265 - accuracy: 0.6317 - val_loss: 1.5662 - val_accuracy: 0.6169\n",
            "Epoch 26/60\n",
            "51524/51524 [==============================] - 50s 976us/step - loss: 1.5265 - accuracy: 0.6317 - val_loss: 1.5663 - val_accuracy: 0.6169\n",
            "Epoch 27/60\n",
            "51524/51524 [==============================] - 51s 981us/step - loss: 1.5265 - accuracy: 0.6317 - val_loss: 1.5661 - val_accuracy: 0.6169\n",
            "Epoch 28/60\n",
            "51524/51524 [==============================] - 50s 972us/step - loss: 1.5264 - accuracy: 0.6317 - val_loss: 1.5665 - val_accuracy: 0.6169\n",
            "Epoch 29/60\n",
            "51524/51524 [==============================] - 50s 979us/step - loss: 1.5265 - accuracy: 0.6317 - val_loss: 1.5662 - val_accuracy: 0.6169\n",
            "Epoch 30/60\n",
            "51524/51524 [==============================] - 51s 989us/step - loss: 1.5264 - accuracy: 0.6317 - val_loss: 1.5660 - val_accuracy: 0.6169\n",
            "Epoch 31/60\n",
            "51524/51524 [==============================] - 50s 979us/step - loss: 1.5264 - accuracy: 0.6317 - val_loss: 1.5662 - val_accuracy: 0.6169\n",
            "Epoch 32/60\n",
            "51524/51524 [==============================] - 50s 970us/step - loss: 1.5264 - accuracy: 0.6317 - val_loss: 1.5663 - val_accuracy: 0.6169\n",
            "Epoch 33/60\n",
            "51524/51524 [==============================] - 50s 968us/step - loss: 1.5264 - accuracy: 0.6317 - val_loss: 1.5660 - val_accuracy: 0.6169\n",
            "Epoch 34/60\n",
            "51524/51524 [==============================] - 50s 967us/step - loss: 1.5264 - accuracy: 0.6317 - val_loss: 1.5661 - val_accuracy: 0.6169\n",
            "Epoch 35/60\n",
            "51524/51524 [==============================] - 50s 973us/step - loss: 1.5264 - accuracy: 0.6317 - val_loss: 1.5659 - val_accuracy: 0.6169\n",
            "Epoch 36/60\n",
            "51524/51524 [==============================] - 50s 977us/step - loss: 1.5263 - accuracy: 0.6317 - val_loss: 1.5660 - val_accuracy: 0.6169\n",
            "Epoch 37/60\n",
            "51524/51524 [==============================] - 50s 965us/step - loss: 1.5263 - accuracy: 0.6317 - val_loss: 1.5659 - val_accuracy: 0.6169\n",
            "Epoch 38/60\n",
            "51524/51524 [==============================] - 49s 959us/step - loss: 1.5263 - accuracy: 0.6317 - val_loss: 1.5665 - val_accuracy: 0.6169\n",
            "Epoch 39/60\n",
            "51524/51524 [==============================] - 50s 964us/step - loss: 1.5263 - accuracy: 0.6317 - val_loss: 1.5660 - val_accuracy: 0.6169\n",
            "Epoch 40/60\n",
            "51524/51524 [==============================] - 50s 971us/step - loss: 1.5263 - accuracy: 0.6317 - val_loss: 1.5660 - val_accuracy: 0.6169\n",
            "Epoch 41/60\n",
            "51524/51524 [==============================] - 49s 960us/step - loss: 1.5263 - accuracy: 0.6317 - val_loss: 1.5658 - val_accuracy: 0.6169\n",
            "Epoch 42/60\n",
            "51524/51524 [==============================] - 50s 972us/step - loss: 1.5263 - accuracy: 0.6317 - val_loss: 1.5662 - val_accuracy: 0.6169\n",
            "Epoch 43/60\n",
            "51524/51524 [==============================] - 50s 968us/step - loss: 1.5262 - accuracy: 0.6317 - val_loss: 1.5658 - val_accuracy: 0.6169\n",
            "Epoch 44/60\n",
            "51524/51524 [==============================] - 49s 961us/step - loss: 1.5262 - accuracy: 0.6317 - val_loss: 1.5659 - val_accuracy: 0.6169\n",
            "Epoch 45/60\n",
            "51524/51524 [==============================] - 49s 957us/step - loss: 1.5262 - accuracy: 0.6317 - val_loss: 1.5661 - val_accuracy: 0.6169\n",
            "Epoch 46/60\n",
            "51524/51524 [==============================] - 50s 964us/step - loss: 1.5262 - accuracy: 0.6317 - val_loss: 1.5657 - val_accuracy: 0.6169\n",
            "Epoch 47/60\n",
            "51524/51524 [==============================] - 49s 955us/step - loss: 1.5262 - accuracy: 0.6317 - val_loss: 1.5660 - val_accuracy: 0.6169\n",
            "Epoch 48/60\n",
            "51524/51524 [==============================] - 49s 956us/step - loss: 1.5262 - accuracy: 0.6317 - val_loss: 1.5661 - val_accuracy: 0.6169\n",
            "Epoch 49/60\n",
            "51524/51524 [==============================] - 50s 966us/step - loss: 1.5262 - accuracy: 0.6317 - val_loss: 1.5658 - val_accuracy: 0.6169\n",
            "Epoch 50/60\n",
            "51524/51524 [==============================] - 50s 965us/step - loss: 1.5261 - accuracy: 0.6317 - val_loss: 1.5658 - val_accuracy: 0.6169\n",
            "Epoch 51/60\n",
            "51524/51524 [==============================] - 50s 965us/step - loss: 1.5261 - accuracy: 0.6317 - val_loss: 1.5658 - val_accuracy: 0.6169\n",
            "Epoch 52/60\n",
            "51524/51524 [==============================] - 50s 969us/step - loss: 1.5261 - accuracy: 0.6317 - val_loss: 1.5660 - val_accuracy: 0.6169\n",
            "Epoch 53/60\n",
            "51524/51524 [==============================] - 50s 980us/step - loss: 1.5261 - accuracy: 0.6317 - val_loss: 1.5656 - val_accuracy: 0.6169\n",
            "Epoch 54/60\n",
            "51524/51524 [==============================] - 51s 983us/step - loss: 1.5261 - accuracy: 0.6317 - val_loss: 1.5656 - val_accuracy: 0.6169\n",
            "Epoch 55/60\n",
            "51524/51524 [==============================] - 51s 997us/step - loss: 1.5261 - accuracy: 0.6317 - val_loss: 1.5657 - val_accuracy: 0.6169\n",
            "Epoch 56/60\n",
            "51524/51524 [==============================] - 51s 993us/step - loss: 1.5260 - accuracy: 0.6317 - val_loss: 1.5657 - val_accuracy: 0.6169\n",
            "Epoch 57/60\n",
            "51524/51524 [==============================] - 51s 983us/step - loss: 1.5260 - accuracy: 0.6317 - val_loss: 1.5658 - val_accuracy: 0.6169\n",
            "Epoch 58/60\n",
            "51524/51524 [==============================] - 51s 986us/step - loss: 1.5260 - accuracy: 0.6317 - val_loss: 1.5659 - val_accuracy: 0.6169\n",
            "Epoch 59/60\n",
            "51524/51524 [==============================] - 50s 980us/step - loss: 1.5260 - accuracy: 0.6317 - val_loss: 1.5659 - val_accuracy: 0.6169\n",
            "Epoch 60/60\n",
            "51524/51524 [==============================] - 50s 979us/step - loss: 1.5260 - accuracy: 0.6317 - val_loss: 1.5657 - val_accuracy: 0.6169\n"
          ],
          "name": "stdout"
        },
        {
          "output_type": "display_data",
          "data": {
            "image/png": "[encoded data removed]",
            "text/plain": [
              "<Figure size 432x288 with 1 Axes>"
            ]
          },
          "metadata": {
            "tags": [],
            "needs_background": "light"
          }
        }
      ]
    },
    {
      "cell_type": "code",
      "metadata": {
        "id": "qsWfZIhVPJl8",
        "colab_type": "code",
        "outputId": "2106e7cb-6a5e-4d35-c5a7-057fe5d72954",
        "colab": {
          "base_uri": "https://localhost:8080/",
          "height": 265
        }
      },
      "source": [
        "multi_plot_loss(all_history[5:])"
      ],
      "execution_count": 0,
      "outputs": [
        {
          "output_type": "display_data",
          "data": {
            "image/png": "[encoded data removed]",
            "text/plain": [
              "<Figure size 432x288 with 1 Axes>"
            ]
          },
          "metadata": {
            "tags": [],
            "needs_background": "light"
          }
        }
      ]
    },
    {
      "cell_type": "code",
      "metadata": {
        "id": "irFmqQsnEqXI",
        "colab_type": "code",
        "outputId": "1c1781fe-c552-4904-ef93-fe614778cc8b",
        "colab": {
          "base_uri": "https://localhost:8080/",
          "height": 537
        }
      },
      "source": [
        "multi_plot_loss(all_history[5:])"
      ],
      "execution_count": 0,
      "outputs": [
        {
          "output_type": "display_data",
          "data": {
            "image/png": "[encoded data removed]",
            "text/plain": [
              "<Figure size 1080x648 with 1 Axes>"
            ]
          },
          "metadata": {
            "tags": [],
            "needs_background": "light"
          }
        }
      ]
    },
    {
      "cell_type": "code",
      "metadata": {
        "id": "J9kj03t0Af_3",
        "colab_type": "code",
        "outputId": "cd2f98b0-5b56-40b0-d759-4233d83763da",
        "colab": {
          "base_uri": "https://localhost:8080/",
          "height": 34
        }
      },
      "source": [
        "history.history['val_accuracy'][-1]"
      ],
      "execution_count": 0,
      "outputs": [
        {
          "output_type": "execute_result",
          "data": {
            "text/plain": [
              "0.6169248819351196"
            ]
          },
          "metadata": {
            "tags": []
          },
          "execution_count": 119
        }
      ]
    },
    {
      "cell_type": "code",
      "metadata": {
        "id": "m6onJXAq9GBh",
        "colab_type": "code",
        "outputId": "0b65734a-9df5-4fcb-f027-c7a5143e5d06",
        "colab": {
          "base_uri": "https://localhost:8080/",
          "height": 1000
        }
      },
      "source": [
        "N=4\n",
        "\n",
        "acc = np.zeros((N,1))\n",
        "for i in range(N):\n",
        "    model = create_RNN(input_shape=(None, 33), \n",
        "                    cell_type='GRU', \n",
        "                    recurrent_cells=[33, 128], \n",
        "                    dense_cells=[128, 64], \n",
        "                    optimizer='adam',\n",
        "                    name='GRU-dense')\n",
        "    history = model.fit(train_x, \n",
        "                      train_y, \n",
        "                      batch_size=512, \n",
        "                      epochs=25, \n",
        "                      class_weight=class_weights,\n",
        "                      validation_data=(validation_x, validation_y))\n",
        "\n",
        "    acc[i] = history.history['val_accuracy'][-1]\n",
        "    print(acc)\n",
        "print(acc)\n",
        "print(acc.mean(axis=0), acc.std(axis=0))"
      ],
      "execution_count": 0,
      "outputs": [
        {
          "output_type": "stream",
          "text": [
            "Train on 51524 samples, validate on 6842 samples\n",
            "Epoch 1/25\n",
            "51524/51524 [==============================] - 41s 791us/step - loss: 1.6779 - accuracy: 0.6270 - val_loss: 1.5414 - val_accuracy: 0.6209\n",
            "Epoch 2/25\n",
            "51524/51524 [==============================] - 40s 772us/step - loss: 1.4650 - accuracy: 0.6370 - val_loss: 1.4723 - val_accuracy: 0.6212\n",
            "Epoch 3/25\n",
            "51524/51524 [==============================] - 40s 769us/step - loss: 1.3966 - accuracy: 0.6370 - val_loss: 1.3904 - val_accuracy: 0.6212\n",
            "Epoch 4/25\n",
            "51524/51524 [==============================] - 39s 761us/step - loss: 1.2966 - accuracy: 0.6370 - val_loss: 1.3038 - val_accuracy: 0.6215\n",
            "Epoch 5/25\n",
            "51524/51524 [==============================] - 39s 765us/step - loss: 1.2058 - accuracy: 0.6372 - val_loss: 1.1721 - val_accuracy: 0.6217\n",
            "Epoch 6/25\n",
            "51524/51524 [==============================] - 40s 785us/step - loss: 1.0342 - accuracy: 0.6734 - val_loss: 0.9092 - val_accuracy: 0.7055\n",
            "Epoch 7/25\n",
            "51524/51524 [==============================] - 39s 762us/step - loss: 0.8250 - accuracy: 0.7337 - val_loss: 0.7437 - val_accuracy: 0.7474\n",
            "Epoch 8/25\n",
            "51524/51524 [==============================] - 39s 765us/step - loss: 0.6776 - accuracy: 0.7804 - val_loss: 0.6101 - val_accuracy: 0.8024\n",
            "Epoch 9/25\n",
            "51524/51524 [==============================] - 41s 786us/step - loss: 0.5870 - accuracy: 0.8099 - val_loss: 0.5608 - val_accuracy: 0.8172\n",
            "Epoch 10/25\n",
            "51524/51524 [==============================] - 40s 774us/step - loss: 0.5373 - accuracy: 0.8263 - val_loss: 0.5282 - val_accuracy: 0.8296\n",
            "Epoch 11/25\n",
            "51524/51524 [==============================] - 40s 771us/step - loss: 0.4947 - accuracy: 0.8409 - val_loss: 0.4985 - val_accuracy: 0.8401\n",
            "Epoch 12/25\n",
            "51524/51524 [==============================] - 40s 780us/step - loss: 0.4574 - accuracy: 0.8522 - val_loss: 0.4454 - val_accuracy: 0.8582\n",
            "Epoch 13/25\n",
            "51524/51524 [==============================] - 39s 762us/step - loss: 0.4242 - accuracy: 0.8633 - val_loss: 0.4261 - val_accuracy: 0.8647\n",
            "Epoch 14/25\n",
            "51524/51524 [==============================] - 41s 786us/step - loss: 0.4067 - accuracy: 0.8687 - val_loss: 0.4087 - val_accuracy: 0.8707\n",
            "Epoch 15/25\n",
            "51524/51524 [==============================] - 41s 796us/step - loss: 0.3852 - accuracy: 0.8768 - val_loss: 0.4281 - val_accuracy: 0.8622\n",
            "Epoch 16/25\n",
            "51524/51524 [==============================] - 39s 764us/step - loss: 0.3649 - accuracy: 0.8824 - val_loss: 0.3951 - val_accuracy: 0.8696\n",
            "Epoch 17/25\n",
            "51524/51524 [==============================] - 40s 769us/step - loss: 0.3546 - accuracy: 0.8844 - val_loss: 0.3867 - val_accuracy: 0.8749\n",
            "Epoch 18/25\n",
            "51524/51524 [==============================] - 40s 772us/step - loss: 0.3366 - accuracy: 0.8909 - val_loss: 0.3715 - val_accuracy: 0.8802\n",
            "Epoch 19/25\n",
            "51524/51524 [==============================] - 42s 809us/step - loss: 0.3282 - accuracy: 0.8932 - val_loss: 0.3719 - val_accuracy: 0.8816\n",
            "Epoch 20/25\n",
            "51524/51524 [==============================] - 40s 786us/step - loss: 0.3137 - accuracy: 0.8973 - val_loss: 0.3630 - val_accuracy: 0.8809\n",
            "Epoch 21/25\n",
            "51524/51524 [==============================] - 40s 774us/step - loss: 0.3080 - accuracy: 0.8983 - val_loss: 0.3444 - val_accuracy: 0.8892\n",
            "Epoch 22/25\n",
            "51524/51524 [==============================] - 39s 751us/step - loss: 0.2954 - accuracy: 0.9030 - val_loss: 0.3469 - val_accuracy: 0.8924\n",
            "Epoch 23/25\n",
            "51524/51524 [==============================] - 39s 752us/step - loss: 0.2906 - accuracy: 0.9048 - val_loss: 0.3523 - val_accuracy: 0.8888\n",
            "Epoch 24/25\n",
            "51524/51524 [==============================] - 39s 757us/step - loss: 0.2864 - accuracy: 0.9055 - val_loss: 0.3503 - val_accuracy: 0.8923\n",
            "Epoch 25/25\n",
            "51524/51524 [==============================] - 40s 769us/step - loss: 0.2701 - accuracy: 0.9116 - val_loss: 0.3369 - val_accuracy: 0.8952\n",
            "[[0.89520609]\n",
            " [0.        ]\n",
            " [0.        ]\n",
            " [0.        ]]\n",
            "Train on 51524 samples, validate on 6842 samples\n",
            "Epoch 1/25\n",
            "51524/51524 [==============================] - 41s 795us/step - loss: 1.6500 - accuracy: 0.6274 - val_loss: 1.5405 - val_accuracy: 0.6210\n",
            "Epoch 2/25\n",
            "51524/51524 [==============================] - 39s 752us/step - loss: 1.4914 - accuracy: 0.6368 - val_loss: 1.4976 - val_accuracy: 0.6212\n",
            "Epoch 3/25\n",
            "51524/51524 [==============================] - 39s 763us/step - loss: 1.3924 - accuracy: 0.6362 - val_loss: 1.3233 - val_accuracy: 0.6209\n",
            "Epoch 4/25\n",
            "51524/51524 [==============================] - 39s 749us/step - loss: 1.2048 - accuracy: 0.6472 - val_loss: 1.1185 - val_accuracy: 0.6559\n",
            "Epoch 5/25\n",
            "51524/51524 [==============================] - 40s 768us/step - loss: 1.0191 - accuracy: 0.6829 - val_loss: 0.9029 - val_accuracy: 0.7084\n",
            "Epoch 6/25\n",
            "51524/51524 [==============================] - 39s 766us/step - loss: 0.8113 - accuracy: 0.7372 - val_loss: 0.7595 - val_accuracy: 0.7473\n",
            "Epoch 7/25\n",
            "51524/51524 [==============================] - 39s 762us/step - loss: 0.6755 - accuracy: 0.7801 - val_loss: 0.5949 - val_accuracy: 0.8046\n",
            "Epoch 8/25\n",
            "51524/51524 [==============================] - 39s 766us/step - loss: 0.5659 - accuracy: 0.8155 - val_loss: 0.5519 - val_accuracy: 0.8210\n",
            "Epoch 9/25\n",
            "51524/51524 [==============================] - 38s 746us/step - loss: 0.4993 - accuracy: 0.8371 - val_loss: 0.5144 - val_accuracy: 0.8312\n",
            "Epoch 10/25\n",
            "51524/51524 [==============================] - 39s 752us/step - loss: 0.4475 - accuracy: 0.8548 - val_loss: 0.4724 - val_accuracy: 0.8436\n",
            "Epoch 11/25\n",
            "51524/51524 [==============================] - 40s 779us/step - loss: 0.4115 - accuracy: 0.8662 - val_loss: 0.4564 - val_accuracy: 0.8563\n",
            "Epoch 12/25\n",
            "51524/51524 [==============================] - 40s 775us/step - loss: 0.3860 - accuracy: 0.8752 - val_loss: 0.4310 - val_accuracy: 0.8568\n",
            "Epoch 13/25\n",
            "51524/51524 [==============================] - 41s 796us/step - loss: 0.3612 - accuracy: 0.8831 - val_loss: 0.3953 - val_accuracy: 0.8707\n",
            "Epoch 14/25\n",
            "51524/51524 [==============================] - 39s 766us/step - loss: 0.3396 - accuracy: 0.8895 - val_loss: 0.3785 - val_accuracy: 0.8769\n",
            "Epoch 15/25\n",
            "51524/51524 [==============================] - 40s 784us/step - loss: 0.3264 - accuracy: 0.8941 - val_loss: 0.3829 - val_accuracy: 0.8753\n",
            "Epoch 16/25\n",
            "51524/51524 [==============================] - 40s 770us/step - loss: 0.3153 - accuracy: 0.8981 - val_loss: 0.3656 - val_accuracy: 0.8834\n",
            "Epoch 17/25\n",
            "51524/51524 [==============================] - 40s 782us/step - loss: 0.2973 - accuracy: 0.9051 - val_loss: 0.3558 - val_accuracy: 0.8859\n",
            "Epoch 18/25\n",
            "51524/51524 [==============================] - 40s 771us/step - loss: 0.2882 - accuracy: 0.9063 - val_loss: 0.3442 - val_accuracy: 0.8898\n",
            "Epoch 19/25\n",
            "51524/51524 [==============================] - 41s 805us/step - loss: 0.2764 - accuracy: 0.9096 - val_loss: 0.3366 - val_accuracy: 0.8936\n",
            "Epoch 20/25\n",
            "51524/51524 [==============================] - 41s 797us/step - loss: 0.2645 - accuracy: 0.9131 - val_loss: 0.3431 - val_accuracy: 0.8904\n",
            "Epoch 21/25\n",
            "51524/51524 [==============================] - 40s 767us/step - loss: 0.2665 - accuracy: 0.9127 - val_loss: 0.3310 - val_accuracy: 0.8956\n",
            "Epoch 22/25\n",
            "51524/51524 [==============================] - 40s 775us/step - loss: 0.2516 - accuracy: 0.9181 - val_loss: 0.3347 - val_accuracy: 0.8948\n",
            "Epoch 23/25\n",
            "51524/51524 [==============================] - 41s 794us/step - loss: 0.2428 - accuracy: 0.9205 - val_loss: 0.3261 - val_accuracy: 0.8990\n",
            "Epoch 24/25\n",
            "51524/51524 [==============================] - 40s 783us/step - loss: 0.2390 - accuracy: 0.9215 - val_loss: 0.3191 - val_accuracy: 0.8967\n",
            "Epoch 25/25\n",
            "51524/51524 [==============================] - 40s 784us/step - loss: 0.2317 - accuracy: 0.9227 - val_loss: 0.3199 - val_accuracy: 0.8992\n",
            "[[0.89520609]\n",
            " [0.89915228]\n",
            " [0.        ]\n",
            " [0.        ]]\n",
            "Train on 51524 samples, validate on 6842 samples\n",
            "Epoch 1/25\n",
            "51524/51524 [==============================] - 42s 807us/step - loss: 1.6463 - accuracy: 0.6273 - val_loss: 1.5400 - val_accuracy: 0.6212\n",
            "Epoch 2/25\n",
            "51524/51524 [==============================] - 39s 764us/step - loss: 1.4852 - accuracy: 0.6370 - val_loss: 1.5147 - val_accuracy: 0.6210\n",
            "Epoch 3/25\n",
            "51524/51524 [==============================] - 40s 779us/step - loss: 1.4607 - accuracy: 0.6369 - val_loss: 1.4862 - val_accuracy: 0.6212\n",
            "Epoch 4/25\n",
            "51524/51524 [==============================] - 41s 788us/step - loss: 1.3952 - accuracy: 0.6392 - val_loss: 1.3616 - val_accuracy: 0.6289\n",
            "Epoch 5/25\n",
            "51524/51524 [==============================] - 40s 785us/step - loss: 1.2556 - accuracy: 0.6439 - val_loss: 1.2326 - val_accuracy: 0.6349\n",
            "Epoch 6/25\n",
            "51524/51524 [==============================] - 40s 785us/step - loss: 1.1579 - accuracy: 0.6608 - val_loss: 1.1187 - val_accuracy: 0.6580\n",
            "Epoch 7/25\n",
            "51524/51524 [==============================] - 41s 793us/step - loss: 1.0409 - accuracy: 0.6876 - val_loss: 0.9868 - val_accuracy: 0.6805\n",
            "Epoch 8/25\n",
            "51524/51524 [==============================] - 39s 763us/step - loss: 0.8496 - accuracy: 0.7305 - val_loss: 0.7460 - val_accuracy: 0.7524\n",
            "Epoch 9/25\n",
            "51524/51524 [==============================] - 40s 778us/step - loss: 0.6847 - accuracy: 0.7782 - val_loss: 0.6729 - val_accuracy: 0.7757\n",
            "Epoch 10/25\n",
            "51524/51524 [==============================] - 41s 786us/step - loss: 0.5951 - accuracy: 0.8091 - val_loss: 0.5982 - val_accuracy: 0.8101\n",
            "Epoch 11/25\n",
            "51524/51524 [==============================] - 41s 801us/step - loss: 0.5304 - accuracy: 0.8299 - val_loss: 0.5243 - val_accuracy: 0.8340\n",
            "Epoch 12/25\n",
            "51524/51524 [==============================] - 40s 776us/step - loss: 0.4898 - accuracy: 0.8429 - val_loss: 0.5078 - val_accuracy: 0.8391\n",
            "Epoch 13/25\n",
            "51524/51524 [==============================] - 40s 768us/step - loss: 0.4563 - accuracy: 0.8523 - val_loss: 0.4801 - val_accuracy: 0.8471\n",
            "Epoch 14/25\n",
            "51524/51524 [==============================] - 40s 782us/step - loss: 0.4386 - accuracy: 0.8569 - val_loss: 0.4598 - val_accuracy: 0.8530\n",
            "Epoch 15/25\n",
            "51524/51524 [==============================] - 41s 791us/step - loss: 0.4130 - accuracy: 0.8631 - val_loss: 0.4406 - val_accuracy: 0.8569\n",
            "Epoch 16/25\n",
            "51524/51524 [==============================] - 40s 782us/step - loss: 0.3976 - accuracy: 0.8695 - val_loss: 0.4250 - val_accuracy: 0.8623\n",
            "Epoch 17/25\n",
            "51524/51524 [==============================] - 40s 776us/step - loss: 0.3791 - accuracy: 0.8751 - val_loss: 0.4165 - val_accuracy: 0.8652\n",
            "Epoch 18/25\n",
            "51524/51524 [==============================] - 40s 781us/step - loss: 0.3642 - accuracy: 0.8815 - val_loss: 0.3950 - val_accuracy: 0.8714\n",
            "Epoch 19/25\n",
            "51524/51524 [==============================] - 40s 769us/step - loss: 0.3447 - accuracy: 0.8877 - val_loss: 0.3905 - val_accuracy: 0.8739\n",
            "Epoch 20/25\n",
            "51524/51524 [==============================] - 40s 782us/step - loss: 0.3325 - accuracy: 0.8901 - val_loss: 0.3912 - val_accuracy: 0.8758\n",
            "Epoch 21/25\n",
            "51524/51524 [==============================] - 40s 779us/step - loss: 0.3214 - accuracy: 0.8951 - val_loss: 0.3749 - val_accuracy: 0.8775\n",
            "Epoch 22/25\n",
            "51524/51524 [==============================] - 41s 799us/step - loss: 0.3125 - accuracy: 0.8978 - val_loss: 0.3537 - val_accuracy: 0.8850\n",
            "Epoch 23/25\n",
            "51524/51524 [==============================] - 41s 787us/step - loss: 0.3020 - accuracy: 0.9005 - val_loss: 0.3510 - val_accuracy: 0.8880\n",
            "Epoch 24/25\n",
            "51524/51524 [==============================] - 41s 787us/step - loss: 0.2928 - accuracy: 0.9038 - val_loss: 0.3634 - val_accuracy: 0.8841\n",
            "Epoch 25/25\n",
            "51524/51524 [==============================] - 41s 787us/step - loss: 0.2835 - accuracy: 0.9065 - val_loss: 0.3501 - val_accuracy: 0.8870\n",
            "[[0.89520609]\n",
            " [0.89915228]\n",
            " [0.88702136]\n",
            " [0.        ]]\n",
            "Train on 51524 samples, validate on 6842 samples\n",
            "Epoch 1/25\n",
            "51524/51524 [==============================] - 41s 799us/step - loss: 1.6712 - accuracy: 0.6262 - val_loss: 1.5548 - val_accuracy: 0.6206\n",
            "Epoch 2/25\n",
            "51524/51524 [==============================] - 41s 794us/step - loss: 1.4948 - accuracy: 0.6370 - val_loss: 1.5245 - val_accuracy: 0.6210\n",
            "Epoch 3/25\n",
            "51524/51524 [==============================] - 40s 776us/step - loss: 1.4549 - accuracy: 0.6369 - val_loss: 1.4473 - val_accuracy: 0.6212\n",
            "Epoch 4/25\n",
            "51524/51524 [==============================] - 41s 794us/step - loss: 1.3655 - accuracy: 0.6367 - val_loss: 1.3413 - val_accuracy: 0.6209\n",
            "Epoch 5/25\n",
            "51524/51524 [==============================] - 41s 799us/step - loss: 1.2849 - accuracy: 0.6366 - val_loss: 1.2575 - val_accuracy: 0.6291\n",
            "Epoch 6/25\n",
            "51524/51524 [==============================] - 40s 784us/step - loss: 1.2161 - accuracy: 0.6416 - val_loss: 1.1984 - val_accuracy: 0.6315\n",
            "Epoch 7/25\n",
            "51524/51524 [==============================] - 41s 786us/step - loss: 1.1210 - accuracy: 0.6594 - val_loss: 1.0560 - val_accuracy: 0.6678\n",
            "Epoch 8/25\n",
            "51524/51524 [==============================] - 40s 782us/step - loss: 0.9799 - accuracy: 0.6939 - val_loss: 0.8941 - val_accuracy: 0.6994\n",
            "Epoch 9/25\n",
            "51524/51524 [==============================] - 40s 775us/step - loss: 0.8288 - accuracy: 0.7309 - val_loss: 0.7549 - val_accuracy: 0.7527\n",
            "Epoch 10/25\n",
            "51524/51524 [==============================] - 39s 766us/step - loss: 0.7148 - accuracy: 0.7711 - val_loss: 0.6676 - val_accuracy: 0.7819\n",
            "Epoch 11/25\n",
            "51524/51524 [==============================] - 40s 770us/step - loss: 0.6176 - accuracy: 0.8018 - val_loss: 0.5918 - val_accuracy: 0.8072\n",
            "Epoch 12/25\n",
            "51524/51524 [==============================] - 40s 767us/step - loss: 0.5580 - accuracy: 0.8231 - val_loss: 0.5528 - val_accuracy: 0.8221\n",
            "Epoch 13/25\n",
            "51524/51524 [==============================] - 40s 772us/step - loss: 0.5049 - accuracy: 0.8398 - val_loss: 0.5380 - val_accuracy: 0.8246\n",
            "Epoch 14/25\n",
            "51524/51524 [==============================] - 39s 766us/step - loss: 0.4707 - accuracy: 0.8504 - val_loss: 0.4754 - val_accuracy: 0.8489\n",
            "Epoch 15/25\n",
            "51524/51524 [==============================] - 41s 793us/step - loss: 0.4433 - accuracy: 0.8576 - val_loss: 0.4721 - val_accuracy: 0.8467\n",
            "Epoch 16/25\n",
            "51524/51524 [==============================] - 41s 799us/step - loss: 0.4197 - accuracy: 0.8656 - val_loss: 0.4485 - val_accuracy: 0.8519\n",
            "Epoch 17/25\n",
            "51524/51524 [==============================] - 41s 788us/step - loss: 0.4032 - accuracy: 0.8699 - val_loss: 0.4527 - val_accuracy: 0.8517\n",
            "Epoch 18/25\n",
            "51524/51524 [==============================] - 40s 774us/step - loss: 0.3839 - accuracy: 0.8763 - val_loss: 0.4287 - val_accuracy: 0.8626\n",
            "Epoch 19/25\n",
            "51524/51524 [==============================] - 40s 770us/step - loss: 0.3749 - accuracy: 0.8782 - val_loss: 0.4180 - val_accuracy: 0.8641\n",
            "Epoch 20/25\n",
            "51524/51524 [==============================] - 40s 769us/step - loss: 0.3612 - accuracy: 0.8832 - val_loss: 0.4208 - val_accuracy: 0.8652\n",
            "Epoch 21/25\n",
            "51524/51524 [==============================] - 41s 794us/step - loss: 0.3461 - accuracy: 0.8872 - val_loss: 0.3906 - val_accuracy: 0.8736\n",
            "Epoch 22/25\n",
            "51524/51524 [==============================] - 41s 792us/step - loss: 0.3379 - accuracy: 0.8914 - val_loss: 0.3940 - val_accuracy: 0.8756\n",
            "Epoch 23/25\n",
            "51524/51524 [==============================] - 40s 781us/step - loss: 0.3250 - accuracy: 0.8936 - val_loss: 0.4023 - val_accuracy: 0.8742\n",
            "Epoch 24/25\n",
            "51524/51524 [==============================] - 40s 779us/step - loss: 0.3202 - accuracy: 0.8950 - val_loss: 0.3949 - val_accuracy: 0.8705\n",
            "Epoch 25/25\n",
            "51524/51524 [==============================] - 40s 783us/step - loss: 0.3154 - accuracy: 0.8964 - val_loss: 0.3734 - val_accuracy: 0.8816\n",
            "[[0.89520609]\n",
            " [0.89915228]\n",
            " [0.88702136]\n",
            " [0.88161355]]\n",
            "[[0.89520609]\n",
            " [0.89915228]\n",
            " [0.88702136]\n",
            " [0.88161355]]\n",
            "[0.89074832] [0.0068526]\n"
          ],
          "name": "stdout"
        }
      ]
    },
    {
      "cell_type": "markdown",
      "metadata": {
        "id": "2uy4xeIb9GNe",
        "colab_type": "text"
      },
      "source": [
        "## ResNets"
      ]
    },
    {
      "cell_type": "code",
      "metadata": {
        "id": "kV3o6XFI3A4U",
        "colab_type": "code",
        "outputId": "529af0af-96e3-434f-e205-3aa206645046",
        "colab": {
          "base_uri": "https://localhost:8080/",
          "height": 34
        }
      },
      "source": [
        "train_X_norm = train_x - train_x.mean(axis=0)\n",
        "train_X_norm_std = np.std(train_X_norm)\n",
        "train_X_norm = train_X_norm / train_X_norm_std\n",
        "train_X_norm = train_X_norm.reshape(train_X_norm.shape + (1,))\n",
        "\n",
        "valid_X_norm = validation_x - train_x.mean(axis=0)\n",
        "valid_X_norm = valid_X_norm / train_X_norm_std\n",
        "valid_X_norm = valid_X_norm.reshape(valid_X_norm.shape + (1,))\n",
        "\n",
        "print(np.std(valid_X_norm), np.mean(valid_X_norm), valid_X_norm.shape)"
      ],
      "execution_count": 12,
      "outputs": [
        {
          "output_type": "stream",
          "text": [
            "0.984886727039458 -0.0028306358914072963 (6842, 64, 33, 1)\n"
          ],
          "name": "stdout"
        }
      ]
    },
    {
      "cell_type": "code",
      "metadata": {
        "id": "npjdwK2pWO8J",
        "colab_type": "code",
        "colab": {}
      },
      "source": [
        "test_X_norm = test_x - train_x.mean(axis=0)\n",
        "test_X_norm = test_X_norm / train_X_norm_std\n",
        "test_X_norm = test_X_norm.reshape(test_X_norm.shape + (1,))\n"
      ],
      "execution_count": 0,
      "outputs": []
    },
    {
      "cell_type": "code",
      "metadata": {
        "id": "Dr1FT7I_Dk57",
        "colab_type": "code",
        "colab": {}
      },
      "source": [
        "def lfScheduleResNetF(epoch, lr):\n",
        "  if epoch > 14:\n",
        "      return 0.0001\n",
        "  if epoch > 7:\n",
        "      return 0.001\n",
        "  return 0.01\n",
        "\n",
        "lrschedulerResNet1 = LearningRateScheduler(lfScheduleResNetF, verbose=0)\n"
      ],
      "execution_count": 0,
      "outputs": []
    },
    {
      "cell_type": "code",
      "metadata": {
        "id": "z38dviBp3Aor",
        "colab_type": "code",
        "colab": {}
      },
      "source": [
        "def ResidLayer(input, filters, strides=(1,1), n=3, bm=0.99, l2val=1e-4):\n",
        "    X = Conv2D(filters,\n",
        "               (3,3), \n",
        "               strides=strides, \n",
        "               padding=\"same\", \n",
        "               kernel_initializer='he_normal',\n",
        "               kernel_regularizer=l2(l2val))(input)\n",
        "    X = BatchNormalization(momentum=bm)(X)\n",
        "    X = Activation('relu')(X)\n",
        "\n",
        "    if strides != (1,1):\n",
        "        shortcut = Conv2D(filters, \n",
        "                          (1,1), \n",
        "                          strides=(2,2), \n",
        "                          padding=\"same\",\n",
        "                          kernel_initializer='he_normal',\n",
        "                          kernel_regularizer=l2(l2val))(input)\n",
        "        shortcut = BatchNormalization(momentum=bm)(shortcut)\n",
        "\n",
        "    for _ in range(n-2):\n",
        "        X = Conv2D(filters, \n",
        "                   (3,3), strides=(1,1), \n",
        "                   padding=\"same\",\n",
        "                   kernel_initializer='he_normal',\n",
        "                   kernel_regularizer=l2(l2val))(X)\n",
        "        X = BatchNormalization(momentum=bm)(X)\n",
        "        X = Activation('relu')(X)\n",
        "\n",
        "    X = Conv2D(filters, \n",
        "               (3,3), \n",
        "               strides=(1,1), \n",
        "               padding=\"same\",\n",
        "               kernel_initializer='he_normal',\n",
        "               kernel_regularizer=l2(l2val))(X)\n",
        "    X = BatchNormalization(momentum=bm)(X)\n",
        "\n",
        "    #if strides != (1,1):\n",
        "    #    input = ZeroPadding2D(padding=strides)\n",
        "    if strides != (1,1):\n",
        "      X = Add()([X, shortcut])\n",
        "    else:\n",
        "      X = Add()([X, input])\n",
        "    output = Activation('relu')(X)\n",
        "    return output\n",
        "\n"
      ],
      "execution_count": 0,
      "outputs": []
    },
    {
      "cell_type": "code",
      "metadata": {
        "id": "Zpy9sayV3AvP",
        "colab_type": "code",
        "colab": {}
      },
      "source": [
        "def ResNet(input_shape=(32, 32, 3), classes=10, n=3, batchnorm_momentum=0.99, l2val=1e-4):\n",
        "    X_input = Input(input_shape)\n",
        "    X = Conv2D(16, \n",
        "               (3,3), \n",
        "               strides=(1,1), \n",
        "               padding=\"same\",\n",
        "               kernel_initializer='he_normal',\n",
        "               kernel_regularizer=l2(l2val))(X_input)\n",
        "    X = BatchNormalization(momentum=batchnorm_momentum)(X)\n",
        "    X = Activation('relu')(X)\n",
        "    X = ResidLayer(X, 16, strides=(1,1), n=n, bm=batchnorm_momentum,l2val=l2val)\n",
        "    X = ResidLayer(X, 16, strides=(1,1), n=n, bm=batchnorm_momentum,l2val=l2val)\n",
        "    X = ResidLayer(X, 32, strides=(2,2), n=n, bm=batchnorm_momentum,l2val=l2val)\n",
        "    X = ResidLayer(X, 32, strides=(1,1), n=n, bm=batchnorm_momentum,l2val=l2val)\n",
        "    X = ResidLayer(X, 64, strides=(2,2), n=n, bm=batchnorm_momentum,l2val=l2val)\n",
        "    X = ResidLayer(X, 64, strides=(1,1), n=n, bm=batchnorm_momentum,l2val=l2val)\n",
        "    X = GlobalAveragePooling2D(name='avg_pool')(X)\n",
        "    X = Dense(classes, activation=softmax)(X)\n",
        "\n",
        "    return Model(inputs=X_input, output=X, name='ResNet')\n"
      ],
      "execution_count": 0,
      "outputs": []
    },
    {
      "cell_type": "code",
      "metadata": {
        "id": "CtwCZt8HRWso",
        "colab_type": "code",
        "outputId": "b2f9f91e-b53e-4055-e2a1-de567b6e7385",
        "colab": {
          "base_uri": "https://localhost:8080/",
          "height": 34
        }
      },
      "source": [
        "resnet1 = np.array([\n",
        "  0.9582,\n",
        "  0.9558608531951904,\n",
        "  0.957468569278717])\n",
        "(resnet1.mean(), resnet1.std())"
      ],
      "execution_count": 0,
      "outputs": [
        {
          "output_type": "execute_result",
          "data": {
            "text/plain": [
              "(0.9571764741579692, 0.0009770334737651176)"
            ]
          },
          "metadata": {
            "tags": []
          },
          "execution_count": 14
        }
      ]
    },
    {
      "cell_type": "code",
      "metadata": {
        "id": "UTU2lfVWbeuE",
        "colab_type": "code",
        "outputId": "94792721-2a1f-4ab3-86bc-8f11bb3d4693",
        "colab": {
          "base_uri": "https://localhost:8080/",
          "height": 269
        }
      },
      "source": [
        "  plt.plot(history.history['loss'])\n",
        "  plt.plot(history.history['val_loss'])\n",
        "  plt.legend(['Train loss', 'Valid loss'], loc='upper right')\n",
        "  plt.ylim(0, 2)\n",
        "  plt.show()"
      ],
      "execution_count": 0,
      "outputs": [
        {
          "output_type": "display_data",
          "data": {
            "image/png": "[encoded data removed]",
            "text/plain": [
              "<Figure size 432x288 with 1 Axes>"
            ]
          },
          "metadata": {
            "tags": [],
            "needs_background": "light"
          }
        }
      ]
    },
    {
      "cell_type": "code",
      "metadata": {
        "id": "hniG6TE7RYOh",
        "colab_type": "code",
        "colab": {}
      },
      "source": [
        "all_history.append(history)"
      ],
      "execution_count": 0,
      "outputs": []
    },
    {
      "cell_type": "code",
      "metadata": {
        "id": "WojvmvKo9JoW",
        "colab_type": "code",
        "outputId": "f4c36078-411f-4270-e5d7-db12a2e5409a",
        "colab": {
          "base_uri": "https://localhost:8080/",
          "height": 1000
        }
      },
      "source": [
        "N=3\n",
        "acc = np.zeros((N,1))\n",
        "\n",
        "for i in range(N):\n",
        "    resnet20 = ResNet(input_shape=(train_x.shape[1],train_x.shape[2],1),classes=len(labels))\n",
        "    resnet20.compile(optimizer='adam', loss='categorical_crossentropy', metrics=['accuracy'])\n",
        "    history = resnet20.fit(train_X_norm, \n",
        "                        train_y, \n",
        "                        batch_size=128, \n",
        "                        epochs=20, \n",
        "                        class_weight=class_weights,\n",
        "                        validation_data=(valid_X_norm, validation_y),\n",
        "                        callbacks=[lrschedulerResNet1]\n",
        "                        )\n",
        "    all_history.append(history)\n",
        "    plot_loss(history)\n",
        "    acc[i+1] = history.history['val_accuracy'][-1]\n",
        "print(acc)\n",
        "print(acc.mean(axis=0), acc.std(axis=0))\n"
      ],
      "execution_count": 0,
      "outputs": [
        {
          "output_type": "stream",
          "text": [
            "/usr/local/lib/python3.6/dist-packages/ipykernel_launcher.py:20: UserWarning: Update your `Model` call to the Keras 2 API: `Model(inputs=Tensor(\"in..., name=\"ResNet\", outputs=Tensor(\"de...)`\n"
          ],
          "name": "stderr"
        },
        {
          "output_type": "stream",
          "text": [
            "Train on 51524 samples, validate on 6842 samples\n",
            "Epoch 1/20\n",
            "51524/51524 [==============================] - 113s 2ms/step - loss: 1.0240 - accuracy: 0.7500 - val_loss: 2.6222 - val_accuracy: 0.5512\n",
            "Epoch 2/20\n",
            "51524/51524 [==============================] - 107s 2ms/step - loss: 0.5317 - accuracy: 0.8955 - val_loss: 1.2023 - val_accuracy: 0.7173\n",
            "Epoch 3/20\n",
            "51524/51524 [==============================] - 106s 2ms/step - loss: 0.4531 - accuracy: 0.9181 - val_loss: 0.8413 - val_accuracy: 0.8044\n",
            "Epoch 4/20\n",
            "51524/51524 [==============================] - 106s 2ms/step - loss: 0.4182 - accuracy: 0.9248 - val_loss: 0.6139 - val_accuracy: 0.8622\n",
            "Epoch 5/20\n",
            "51524/51524 [==============================] - 107s 2ms/step - loss: 0.3952 - accuracy: 0.9307 - val_loss: 0.7121 - val_accuracy: 0.8309\n",
            "Epoch 6/20\n",
            "51524/51524 [==============================] - 108s 2ms/step - loss: 0.3703 - accuracy: 0.9364 - val_loss: 0.5897 - val_accuracy: 0.8585\n",
            "Epoch 7/20\n",
            "51524/51524 [==============================] - 107s 2ms/step - loss: 0.3612 - accuracy: 0.9374 - val_loss: 0.7630 - val_accuracy: 0.8299\n",
            "Epoch 8/20\n",
            "51524/51524 [==============================] - 106s 2ms/step - loss: 0.3433 - accuracy: 0.9409 - val_loss: 1.5128 - val_accuracy: 0.7599\n",
            "Epoch 9/20\n",
            "51524/51524 [==============================] - 108s 2ms/step - loss: 0.2617 - accuracy: 0.9642 - val_loss: 0.2931 - val_accuracy: 0.9507\n",
            "Epoch 10/20\n",
            "51524/51524 [==============================] - 107s 2ms/step - loss: 0.2174 - accuracy: 0.9729 - val_loss: 0.2606 - val_accuracy: 0.9559\n",
            "Epoch 11/20\n",
            "51524/51524 [==============================] - 107s 2ms/step - loss: 0.1918 - accuracy: 0.9767 - val_loss: 0.2519 - val_accuracy: 0.9545\n",
            "Epoch 12/20\n",
            "51524/51524 [==============================] - 107s 2ms/step - loss: 0.1727 - accuracy: 0.9790 - val_loss: 0.2658 - val_accuracy: 0.9455\n",
            "Epoch 13/20\n",
            "51524/51524 [==============================] - 107s 2ms/step - loss: 0.1584 - accuracy: 0.9809 - val_loss: 0.2446 - val_accuracy: 0.9529\n",
            "Epoch 14/20\n",
            "51524/51524 [==============================] - 108s 2ms/step - loss: 0.1470 - accuracy: 0.9819 - val_loss: 0.2589 - val_accuracy: 0.9458\n",
            "Epoch 15/20\n",
            "51524/51524 [==============================] - 107s 2ms/step - loss: 0.1380 - accuracy: 0.9831 - val_loss: 0.2384 - val_accuracy: 0.9532\n",
            "Epoch 16/20\n",
            "51524/51524 [==============================] - 107s 2ms/step - loss: 0.1200 - accuracy: 0.9890 - val_loss: 0.2257 - val_accuracy: 0.9576\n",
            "Epoch 17/20\n",
            "51524/51524 [==============================] - 107s 2ms/step - loss: 0.1149 - accuracy: 0.9904 - val_loss: 0.2254 - val_accuracy: 0.9579\n",
            "Epoch 18/20\n",
            "51524/51524 [==============================] - 107s 2ms/step - loss: 0.1121 - accuracy: 0.9912 - val_loss: 0.2245 - val_accuracy: 0.9579\n",
            "Epoch 19/20\n",
            "51524/51524 [==============================] - 107s 2ms/step - loss: 0.1092 - accuracy: 0.9916 - val_loss: 0.2258 - val_accuracy: 0.9589\n",
            "Epoch 20/20\n",
            "51524/51524 [==============================] - 106s 2ms/step - loss: 0.1063 - accuracy: 0.9921 - val_loss: 0.2294 - val_accuracy: 0.9582\n"
          ],
          "name": "stdout"
        },
        {
          "output_type": "display_data",
          "data": {
            "image/png": "[encoded data removed]",
            "text/plain": [
              "<Figure size 432x288 with 1 Axes>"
            ]
          },
          "metadata": {
            "tags": [],
            "needs_background": "light"
          }
        },
        {
          "output_type": "stream",
          "text": [
            "Train on 51524 samples, validate on 6842 samples\n",
            "Epoch 1/20\n",
            "51524/51524 [==============================] - 113s 2ms/step - loss: 1.0354 - accuracy: 0.7456 - val_loss: 6.8793 - val_accuracy: 0.6562\n",
            "Epoch 2/20\n",
            "51524/51524 [==============================] - 107s 2ms/step - loss: 0.5452 - accuracy: 0.8889 - val_loss: 0.8869 - val_accuracy: 0.7938\n",
            "Epoch 3/20\n",
            "51524/51524 [==============================] - 107s 2ms/step - loss: 0.4602 - accuracy: 0.9150 - val_loss: 0.6347 - val_accuracy: 0.8549\n",
            "Epoch 4/20\n",
            "47360/51524 [==========================>...] - ETA: 8s - loss: 0.4141 - accuracy: 0.9247"
          ],
          "name": "stdout"
        }
      ]
    },
    {
      "cell_type": "code",
      "metadata": {
        "id": "rHI0G7ksGfL_",
        "colab_type": "code",
        "colab": {}
      },
      "source": [
        ""
      ],
      "execution_count": 0,
      "outputs": []
    },
    {
      "cell_type": "code",
      "metadata": {
        "id": "HMt7UTEh_ACO",
        "colab_type": "code",
        "colab": {}
      },
      "source": [
        "def lfScheduleResNetDropoutF(epoch, lr):\n",
        "  if epoch > 14:\n",
        "      return 0.0001\n",
        "  if epoch > 7:\n",
        "      return 0.001\n",
        "  return 0.01\n",
        "\n",
        "lrschedulerResNetDropout = LearningRateScheduler(lfScheduleResNetDropoutF, verbose=0)\n"
      ],
      "execution_count": 0,
      "outputs": []
    },
    {
      "cell_type": "code",
      "metadata": {
        "id": "FsQAtz40-5C-",
        "colab_type": "code",
        "colab": {}
      },
      "source": [
        "def ResNetDropout(input_shape=(32, 32, 3), classes=10, n=3, batchnorm_momentum=0.99, l2val=1e-4):\n",
        "    X_input = Input(input_shape)\n",
        "    X = Conv2D(16, \n",
        "               (3,3), \n",
        "               strides=(1,1), \n",
        "               padding=\"same\",\n",
        "               kernel_initializer='he_normal',\n",
        "               kernel_regularizer=l2(l2val))(X_input)\n",
        "    X = BatchNormalization(momentum=batchnorm_momentum)(X)\n",
        "    X = Activation('relu')(X)\n",
        "    X = ResidLayer(X, 16, strides=(1,1), n=n, bm=batchnorm_momentum,l2val=l2val)\n",
        "    X = ResidLayer(X, 16, strides=(1,1), n=n, bm=batchnorm_momentum,l2val=l2val)\n",
        "    X = ResidLayer(X, 32, strides=(2,2), n=n, bm=batchnorm_momentum,l2val=l2val)\n",
        "    X = ResidLayer(X, 32, strides=(1,1), n=n, bm=batchnorm_momentum,l2val=l2val)\n",
        "    X = Dropout(0.2)(X)\n",
        "    X = ResidLayer(X, 64, strides=(2,2), n=n, bm=batchnorm_momentum,l2val=l2val)\n",
        "    X = Dropout(0.2)(X)\n",
        "    X = ResidLayer(X, 64, strides=(1,1), n=n, bm=batchnorm_momentum,l2val=l2val)\n",
        "    X = GlobalAveragePooling2D(name='avg_pool')(X)\n",
        "    X = Dense(100, activation=relu)(X)\n",
        "    X = Dense(classes, activation=softmax)(X)\n",
        "\n",
        "    return Model(inputs=X_input, output=X, name='ResNetDropout')\n"
      ],
      "execution_count": 0,
      "outputs": []
    },
    {
      "cell_type": "code",
      "metadata": {
        "id": "NXf1W68K9Jv1",
        "colab_type": "code",
        "outputId": "02742ffb-ff92-414d-f153-d83b1248b22e",
        "colab": {
          "base_uri": "https://localhost:8080/",
          "height": 766
        }
      },
      "source": [
        "resnetDropout = ResNetDropout(input_shape=(train_x.shape[1],train_x.shape[2],1),classes=len(labels))\n",
        "resnetDropout.compile(optimizer='adam', loss='categorical_crossentropy', metrics=['accuracy'])\n",
        "history = resnetDropout.fit(train_X_norm, \n",
        "                    train_y, \n",
        "                    batch_size=400, \n",
        "                    epochs=20, \n",
        "                    class_weight=class_weights,\n",
        "                    validation_data=(valid_X_norm, validation_y),\n",
        "                    callbacks=[lrschedulerResNetDropout]\n",
        "                    )"
      ],
      "execution_count": 0,
      "outputs": [
        {
          "output_type": "stream",
          "text": [
            "/usr/local/lib/python3.6/dist-packages/ipykernel_launcher.py:23: UserWarning: Update your `Model` call to the Keras 2 API: `Model(inputs=Tensor(\"in..., name=\"ResNetDropout\", outputs=Tensor(\"de...)`\n"
          ],
          "name": "stderr"
        },
        {
          "output_type": "stream",
          "text": [
            "Train on 51088 samples, validate on 6798 samples\n",
            "Epoch 1/20\n",
            "51088/51088 [==============================] - 96s 2ms/step - loss: 3503.6024 - accuracy: 0.5740 - val_loss: 184.3068 - val_accuracy: 0.0362\n",
            "Epoch 2/20\n",
            "51088/51088 [==============================] - 91s 2ms/step - loss: 2349.0337 - accuracy: 0.6587 - val_loss: 6.1625 - val_accuracy: 0.2155\n",
            "Epoch 3/20\n",
            "51088/51088 [==============================] - 91s 2ms/step - loss: 1499.3260 - accuracy: 0.7528 - val_loss: 3.1976 - val_accuracy: 0.3607\n",
            "Epoch 4/20\n",
            "51088/51088 [==============================] - 91s 2ms/step - loss: 909.0301 - accuracy: 0.8571 - val_loss: 2.6837 - val_accuracy: 0.6041\n",
            "Epoch 5/20\n",
            "51088/51088 [==============================] - 91s 2ms/step - loss: 668.0483 - accuracy: 0.8961 - val_loss: 8.7653 - val_accuracy: 0.5806\n",
            "Epoch 6/20\n",
            "51088/51088 [==============================] - 91s 2ms/step - loss: 614.1794 - accuracy: 0.9077 - val_loss: 4.7183 - val_accuracy: 0.6177\n",
            "Epoch 7/20\n",
            "51088/51088 [==============================] - 91s 2ms/step - loss: 500.1826 - accuracy: 0.9240 - val_loss: 2.8537 - val_accuracy: 0.6665\n",
            "Epoch 8/20\n",
            "51088/51088 [==============================] - 91s 2ms/step - loss: 434.4602 - accuracy: 0.9349 - val_loss: 2.1416 - val_accuracy: 0.8319\n",
            "Epoch 9/20\n",
            "51088/51088 [==============================] - 91s 2ms/step - loss: 311.3860 - accuracy: 0.9486 - val_loss: 2.1489 - val_accuracy: 0.8594\n",
            "Epoch 10/20\n",
            "51088/51088 [==============================] - 91s 2ms/step - loss: 261.7017 - accuracy: 0.9570 - val_loss: 1.8156 - val_accuracy: 0.9395\n",
            "Epoch 11/20\n",
            "51088/51088 [==============================] - 91s 2ms/step - loss: 246.7681 - accuracy: 0.9598 - val_loss: 1.8213 - val_accuracy: 0.9370\n",
            "Epoch 12/20\n",
            "51088/51088 [==============================] - 91s 2ms/step - loss: 229.4627 - accuracy: 0.9633 - val_loss: 1.8124 - val_accuracy: 0.9422\n",
            "Epoch 13/20\n",
            "51088/51088 [==============================] - 91s 2ms/step - loss: 222.1174 - accuracy: 0.9644 - val_loss: 1.8306 - val_accuracy: 0.9391\n",
            "Epoch 14/20\n",
            "51088/51088 [==============================] - 91s 2ms/step - loss: 209.7108 - accuracy: 0.9668 - val_loss: 1.8252 - val_accuracy: 0.9404\n",
            "Epoch 15/20\n",
            "51088/51088 [==============================] - 91s 2ms/step - loss: 196.4374 - accuracy: 0.9684 - val_loss: 1.8342 - val_accuracy: 0.9400\n",
            "Epoch 16/20\n",
            "51088/51088 [==============================] - 91s 2ms/step - loss: 181.8198 - accuracy: 0.9721 - val_loss: 1.8165 - val_accuracy: 0.9445\n",
            "Epoch 17/20\n",
            "51088/51088 [==============================] - 91s 2ms/step - loss: 175.9196 - accuracy: 0.9728 - val_loss: 1.8189 - val_accuracy: 0.9438\n",
            "Epoch 18/20\n",
            "51088/51088 [==============================] - 91s 2ms/step - loss: 175.8993 - accuracy: 0.9732 - val_loss: 1.8192 - val_accuracy: 0.9445\n",
            "Epoch 19/20\n",
            "51088/51088 [==============================] - 91s 2ms/step - loss: 171.1706 - accuracy: 0.9740 - val_loss: 1.8188 - val_accuracy: 0.9451\n",
            "Epoch 20/20\n",
            "51088/51088 [==============================] - 91s 2ms/step - loss: 172.6384 - accuracy: 0.9740 - val_loss: 1.8179 - val_accuracy: 0.9453\n"
          ],
          "name": "stdout"
        }
      ]
    },
    {
      "cell_type": "code",
      "metadata": {
        "id": "gC65TvGoR8CS",
        "colab_type": "code",
        "colab": {}
      },
      "source": [
        "def lfScheduleResNet15F(epoch, lr):\n",
        "  if epoch > 15:\n",
        "      return 0.01\n",
        "  return 0.1\n",
        "lrschedulerResNet15 = LearningRateScheduler(lfScheduleResNet15F, verbose=0)\n"
      ],
      "execution_count": 0,
      "outputs": []
    },
    {
      "cell_type": "code",
      "metadata": {
        "id": "I1_mRAEEBl47",
        "colab_type": "code",
        "colab": {}
      },
      "source": [
        "def ResidLayer15(input, filters, l, n=3, bm=0.99, l2val=1e-4):\n",
        "    X = Conv2D(filters,\n",
        "               (3,3), \n",
        "               strides=(1,1), \n",
        "               padding=\"same\", \n",
        "               kernel_initializer='he_normal',\n",
        "               kernel_regularizer=l2(l2val),\n",
        "               dilation_rate=(int(2**(l//3)), (int(2**(l//3)))),\n",
        "               use_bias=True)(input)\n",
        "    X = Activation('relu')(X)\n",
        "    X = BatchNormalization(momentum=bm)(X)\n",
        "\n",
        "    X = Conv2D(filters, \n",
        "               (3,3), \n",
        "               strides=(1,1), \n",
        "               padding=\"same\",\n",
        "               kernel_initializer='he_normal',\n",
        "               kernel_regularizer=l2(l2val),\n",
        "               dilation_rate=(int(2**((1+l)//3)), (int(2**((1+l)//3)))),\n",
        "               use_bias=True)(X)\n",
        "    X = Activation('relu')(X)\n",
        "    X = BatchNormalization(momentum=bm)(X)\n",
        "\n",
        "    X = Add()([X, input])\n",
        "    return X\n",
        "\n"
      ],
      "execution_count": 0,
      "outputs": []
    },
    {
      "cell_type": "code",
      "metadata": {
        "id": "WhCTD2LD9J5-",
        "colab_type": "code",
        "colab": {}
      },
      "source": [
        "def ResNet15(input_shape=(32, 32, 3), classes=10, n=3, batchnorm_momentum=0.99, l2val=1e-4):\n",
        "    X_input = Input(input_shape)\n",
        "    X = Conv2D(45, \n",
        "               (3,3), \n",
        "               strides=(1,1), \n",
        "               padding=\"same\",\n",
        "               kernel_initializer='he_normal',\n",
        "               kernel_regularizer=l2(l2val),\n",
        "               dilation_rate=(1,1),\n",
        "               use_bias=True)(X_input)\n",
        "    X = BatchNormalization(momentum=batchnorm_momentum)(X)\n",
        "    X = Activation('relu')(X)\n",
        "    X = ResidLayer15(X, 45, 2, n=n, bm=batchnorm_momentum,l2val=l2val)\n",
        "    X = ResidLayer15(X, 45, 4, n=n, bm=batchnorm_momentum,l2val=l2val)\n",
        "    X = ResidLayer15(X, 45, 6, n=n, bm=batchnorm_momentum,l2val=l2val)\n",
        "    X = ResidLayer15(X, 45, 8, n=n, bm=batchnorm_momentum,l2val=l2val)\n",
        "    X = ResidLayer15(X, 45, 10, n=n, bm=batchnorm_momentum,l2val=l2val)\n",
        "    X = ResidLayer15(X, 45, 12, n=n, bm=batchnorm_momentum,l2val=l2val)\n",
        "  \n",
        "    X = Conv2D(45, \n",
        "               (3,3), \n",
        "               strides=(1,1), \n",
        "               padding=\"same\",\n",
        "               kernel_initializer='he_normal',\n",
        "               kernel_regularizer=l2(l2val),\n",
        "               dilation_rate=(16,16),\n",
        "               use_bias=True)(X)\n",
        "    X = BatchNormalization(momentum=batchnorm_momentum)(X)\n",
        "    X = GlobalAveragePooling2D(name='avg_pool')(X)\n",
        "    X_output = Dense(classes, activation=softmax)(X)\n",
        "\n",
        "    return Model(inputs=X_input, output=X_output, name='ResNetDropout')\n"
      ],
      "execution_count": 0,
      "outputs": []
    },
    {
      "cell_type": "code",
      "metadata": {
        "id": "SLw9TRyip6V6",
        "colab_type": "code",
        "outputId": "f158fb5e-b757-476b-e92e-2d966affe97b",
        "colab": {
          "base_uri": "https://localhost:8080/",
          "height": 1000
        }
      },
      "source": [
        "ResNet15(input_shape=(train_x.shape[1],train_x.shape[2],1),classes=len(labels), l2val=1e-5).summary()"
      ],
      "execution_count": 0,
      "outputs": [
        {
          "output_type": "stream",
          "text": [
            "Model: \"ResNetDropout\"\n",
            "__________________________________________________________________________________________________\n",
            "Layer (type)                    Output Shape         Param #     Connected to                     \n",
            "==================================================================================================\n",
            "input_5 (InputLayer)            (None, 64, 33, 1)    0                                            \n",
            "__________________________________________________________________________________________________\n",
            "conv2d_45 (Conv2D)              (None, 64, 33, 45)   450         input_5[0][0]                    \n",
            "__________________________________________________________________________________________________\n",
            "batch_normalization_45 (BatchNo (None, 64, 33, 45)   180         conv2d_45[0][0]                  \n",
            "__________________________________________________________________________________________________\n",
            "activation_40 (Activation)      (None, 64, 33, 45)   0           batch_normalization_45[0][0]     \n",
            "__________________________________________________________________________________________________\n",
            "conv2d_46 (Conv2D)              (None, 64, 33, 45)   18270       activation_40[0][0]              \n",
            "__________________________________________________________________________________________________\n",
            "activation_41 (Activation)      (None, 64, 33, 45)   0           conv2d_46[0][0]                  \n",
            "__________________________________________________________________________________________________\n",
            "batch_normalization_46 (BatchNo (None, 64, 33, 45)   180         activation_41[0][0]              \n",
            "__________________________________________________________________________________________________\n",
            "conv2d_47 (Conv2D)              (None, 64, 33, 45)   18270       batch_normalization_46[0][0]     \n",
            "__________________________________________________________________________________________________\n",
            "activation_42 (Activation)      (None, 64, 33, 45)   0           conv2d_47[0][0]                  \n",
            "__________________________________________________________________________________________________\n",
            "batch_normalization_47 (BatchNo (None, 64, 33, 45)   180         activation_42[0][0]              \n",
            "__________________________________________________________________________________________________\n",
            "add_19 (Add)                    (None, 64, 33, 45)   0           batch_normalization_47[0][0]     \n",
            "                                                                 activation_40[0][0]              \n",
            "__________________________________________________________________________________________________\n",
            "conv2d_48 (Conv2D)              (None, 64, 33, 45)   18270       add_19[0][0]                     \n",
            "__________________________________________________________________________________________________\n",
            "activation_43 (Activation)      (None, 64, 33, 45)   0           conv2d_48[0][0]                  \n",
            "__________________________________________________________________________________________________\n",
            "batch_normalization_48 (BatchNo (None, 64, 33, 45)   180         activation_43[0][0]              \n",
            "__________________________________________________________________________________________________\n",
            "conv2d_49 (Conv2D)              (None, 64, 33, 45)   18270       batch_normalization_48[0][0]     \n",
            "__________________________________________________________________________________________________\n",
            "activation_44 (Activation)      (None, 64, 33, 45)   0           conv2d_49[0][0]                  \n",
            "__________________________________________________________________________________________________\n",
            "batch_normalization_49 (BatchNo (None, 64, 33, 45)   180         activation_44[0][0]              \n",
            "__________________________________________________________________________________________________\n",
            "add_20 (Add)                    (None, 64, 33, 45)   0           batch_normalization_49[0][0]     \n",
            "                                                                 add_19[0][0]                     \n",
            "__________________________________________________________________________________________________\n",
            "conv2d_50 (Conv2D)              (None, 64, 33, 45)   18270       add_20[0][0]                     \n",
            "__________________________________________________________________________________________________\n",
            "activation_45 (Activation)      (None, 64, 33, 45)   0           conv2d_50[0][0]                  \n",
            "__________________________________________________________________________________________________\n",
            "batch_normalization_50 (BatchNo (None, 64, 33, 45)   180         activation_45[0][0]              \n",
            "__________________________________________________________________________________________________\n",
            "conv2d_51 (Conv2D)              (None, 64, 33, 45)   18270       batch_normalization_50[0][0]     \n",
            "__________________________________________________________________________________________________\n",
            "activation_46 (Activation)      (None, 64, 33, 45)   0           conv2d_51[0][0]                  \n",
            "__________________________________________________________________________________________________\n",
            "batch_normalization_51 (BatchNo (None, 64, 33, 45)   180         activation_46[0][0]              \n",
            "__________________________________________________________________________________________________\n",
            "add_21 (Add)                    (None, 64, 33, 45)   0           batch_normalization_51[0][0]     \n",
            "                                                                 add_20[0][0]                     \n",
            "__________________________________________________________________________________________________\n",
            "conv2d_52 (Conv2D)              (None, 64, 33, 45)   18270       add_21[0][0]                     \n",
            "__________________________________________________________________________________________________\n",
            "activation_47 (Activation)      (None, 64, 33, 45)   0           conv2d_52[0][0]                  \n",
            "__________________________________________________________________________________________________\n",
            "batch_normalization_52 (BatchNo (None, 64, 33, 45)   180         activation_47[0][0]              \n",
            "__________________________________________________________________________________________________\n",
            "conv2d_53 (Conv2D)              (None, 64, 33, 45)   18270       batch_normalization_52[0][0]     \n",
            "__________________________________________________________________________________________________\n",
            "activation_48 (Activation)      (None, 64, 33, 45)   0           conv2d_53[0][0]                  \n",
            "__________________________________________________________________________________________________\n",
            "batch_normalization_53 (BatchNo (None, 64, 33, 45)   180         activation_48[0][0]              \n",
            "__________________________________________________________________________________________________\n",
            "add_22 (Add)                    (None, 64, 33, 45)   0           batch_normalization_53[0][0]     \n",
            "                                                                 add_21[0][0]                     \n",
            "__________________________________________________________________________________________________\n",
            "conv2d_54 (Conv2D)              (None, 64, 33, 45)   18270       add_22[0][0]                     \n",
            "__________________________________________________________________________________________________\n",
            "activation_49 (Activation)      (None, 64, 33, 45)   0           conv2d_54[0][0]                  \n",
            "__________________________________________________________________________________________________\n",
            "batch_normalization_54 (BatchNo (None, 64, 33, 45)   180         activation_49[0][0]              \n",
            "__________________________________________________________________________________________________\n",
            "conv2d_55 (Conv2D)              (None, 64, 33, 45)   18270       batch_normalization_54[0][0]     \n",
            "__________________________________________________________________________________________________\n",
            "activation_50 (Activation)      (None, 64, 33, 45)   0           conv2d_55[0][0]                  \n",
            "__________________________________________________________________________________________________\n",
            "batch_normalization_55 (BatchNo (None, 64, 33, 45)   180         activation_50[0][0]              \n",
            "__________________________________________________________________________________________________\n",
            "add_23 (Add)                    (None, 64, 33, 45)   0           batch_normalization_55[0][0]     \n",
            "                                                                 add_22[0][0]                     \n",
            "__________________________________________________________________________________________________\n",
            "conv2d_56 (Conv2D)              (None, 64, 33, 45)   18270       add_23[0][0]                     \n",
            "__________________________________________________________________________________________________\n",
            "activation_51 (Activation)      (None, 64, 33, 45)   0           conv2d_56[0][0]                  \n",
            "__________________________________________________________________________________________________\n",
            "batch_normalization_56 (BatchNo (None, 64, 33, 45)   180         activation_51[0][0]              \n",
            "__________________________________________________________________________________________________\n",
            "conv2d_57 (Conv2D)              (None, 64, 33, 45)   18270       batch_normalization_56[0][0]     \n",
            "__________________________________________________________________________________________________\n",
            "activation_52 (Activation)      (None, 64, 33, 45)   0           conv2d_57[0][0]                  \n",
            "__________________________________________________________________________________________________\n",
            "batch_normalization_57 (BatchNo (None, 64, 33, 45)   180         activation_52[0][0]              \n",
            "__________________________________________________________________________________________________\n",
            "add_24 (Add)                    (None, 64, 33, 45)   0           batch_normalization_57[0][0]     \n",
            "                                                                 add_23[0][0]                     \n",
            "__________________________________________________________________________________________________\n",
            "conv2d_58 (Conv2D)              (None, 64, 33, 45)   18270       add_24[0][0]                     \n",
            "__________________________________________________________________________________________________\n",
            "batch_normalization_58 (BatchNo (None, 64, 33, 45)   180         conv2d_58[0][0]                  \n",
            "__________________________________________________________________________________________________\n",
            "avg_pool (GlobalAveragePooling2 (None, 45)           0           batch_normalization_58[0][0]     \n",
            "__________________________________________________________________________________________________\n",
            "dense_5 (Dense)                 (None, 12)           552         avg_pool[0][0]                   \n",
            "==================================================================================================\n",
            "Total params: 241,032\n",
            "Trainable params: 239,772\n",
            "Non-trainable params: 1,260\n",
            "__________________________________________________________________________________________________\n"
          ],
          "name": "stdout"
        },
        {
          "output_type": "stream",
          "text": [
            "/usr/local/lib/python3.6/dist-packages/ipykernel_launcher.py:32: UserWarning: Update your `Model` call to the Keras 2 API: `Model(inputs=Tensor(\"in..., name=\"ResNetDropout\", outputs=Tensor(\"de...)`\n"
          ],
          "name": "stderr"
        }
      ]
    },
    {
      "cell_type": "code",
      "metadata": {
        "id": "pq6kDlBw9J-V",
        "colab_type": "code",
        "outputId": "ec2790d7-4a0b-4bb8-edcd-38137c9b41cc",
        "colab": {
          "base_uri": "https://localhost:8080/",
          "height": 1000
        }
      },
      "source": [
        "from tensorflow.python.keras.callbacks import ReduceLROnPlateau\n",
        "N=3\n",
        "\n",
        "acc = np.zeros((N,1))\n",
        "for i in range(N):\n",
        "    reduce_lr = ReduceLROnPlateau(monitor='val_loss', factor=0.1,\n",
        "                                  patience=5, min_lr=0.001)\n",
        "\n",
        "\n",
        "    resnet15 = ResNet15(input_shape=(train_x.shape[1],train_x.shape[2],1),classes=len(labels), l2val=1e-5)\n",
        "    opt15 = optimizers.SGD(learning_rate=0.1)\n",
        "    resnet15.compile(optimizer=opt15, loss='categorical_crossentropy', metrics=['accuracy'])\n",
        "    history = resnet15.fit(train_X_norm, \n",
        "                        train_y, \n",
        "                        batch_size=256, \n",
        "                        epochs=20, \n",
        "                        validation_data=(valid_X_norm, validation_y),\n",
        "                        class_weight=class_weights,\n",
        "                        callbacks=[reduce_lr]\n",
        "                        )\n",
        "    acc[i] = history.history['val_accuracy'][-1]\n",
        "    print(acc)\n",
        "    plot_loss(history)\n",
        "print(acc)\n",
        "print(acc.mean(axis=0), acc.std(axis=0))"
      ],
      "execution_count": 0,
      "outputs": [
        {
          "output_type": "stream",
          "text": [
            "/usr/local/lib/python3.6/dist-packages/ipykernel_launcher.py:32: UserWarning: Update your `Model` call to the Keras 2 API: `Model(inputs=Tensor(\"in..., name=\"ResNetDropout\", outputs=Tensor(\"de...)`\n"
          ],
          "name": "stderr"
        },
        {
          "output_type": "stream",
          "text": [
            "Train on 51524 samples, validate on 6842 samples\n",
            "Epoch 1/20\n",
            "51524/51524 [==============================] - 166s 3ms/step - loss: 1.4510 - accuracy: 0.6264 - val_loss: 1.3667 - val_accuracy: 0.6254\n",
            "Epoch 2/20\n",
            "51524/51524 [==============================] - 162s 3ms/step - loss: 1.2115 - accuracy: 0.6481 - val_loss: 1.9578 - val_accuracy: 0.6166\n",
            "Epoch 3/20\n",
            "51524/51524 [==============================] - 162s 3ms/step - loss: 0.9250 - accuracy: 0.7113 - val_loss: 2.1989 - val_accuracy: 0.4901\n",
            "Epoch 4/20\n",
            "51524/51524 [==============================] - 162s 3ms/step - loss: 0.6240 - accuracy: 0.8061 - val_loss: 1.5793 - val_accuracy: 0.4579\n",
            "Epoch 5/20\n",
            "51524/51524 [==============================] - 162s 3ms/step - loss: 0.4195 - accuracy: 0.8717 - val_loss: 1.3679 - val_accuracy: 0.6568\n",
            "Epoch 6/20\n",
            "51524/51524 [==============================] - 162s 3ms/step - loss: 0.3073 - accuracy: 0.9111 - val_loss: 0.6724 - val_accuracy: 0.7957\n",
            "Epoch 7/20\n",
            "51524/51524 [==============================] - 162s 3ms/step - loss: 0.2447 - accuracy: 0.9309 - val_loss: 0.4086 - val_accuracy: 0.8756\n",
            "Epoch 8/20\n",
            "51524/51524 [==============================] - 162s 3ms/step - loss: 0.2069 - accuracy: 0.9423 - val_loss: 0.5614 - val_accuracy: 0.8321\n",
            "Epoch 9/20\n",
            "51524/51524 [==============================] - 162s 3ms/step - loss: 0.1815 - accuracy: 0.9494 - val_loss: 0.7051 - val_accuracy: 0.7897\n",
            "Epoch 10/20\n",
            "51524/51524 [==============================] - 162s 3ms/step - loss: 0.1625 - accuracy: 0.9560 - val_loss: 0.3786 - val_accuracy: 0.8952\n",
            "Epoch 11/20\n",
            "51524/51524 [==============================] - 162s 3ms/step - loss: 0.1497 - accuracy: 0.9589 - val_loss: 0.2787 - val_accuracy: 0.9132\n",
            "Epoch 12/20\n",
            "51524/51524 [==============================] - 162s 3ms/step - loss: 0.1359 - accuracy: 0.9634 - val_loss: 0.3811 - val_accuracy: 0.8869\n",
            "Epoch 13/20\n",
            "51524/51524 [==============================] - 162s 3ms/step - loss: 0.1283 - accuracy: 0.9658 - val_loss: 0.4377 - val_accuracy: 0.8828\n",
            "Epoch 14/20\n",
            "51524/51524 [==============================] - 162s 3ms/step - loss: 0.1196 - accuracy: 0.9681 - val_loss: 0.2816 - val_accuracy: 0.9231\n",
            "Epoch 15/20\n",
            "51524/51524 [==============================] - 162s 3ms/step - loss: 0.1092 - accuracy: 0.9731 - val_loss: 0.3075 - val_accuracy: 0.9110\n",
            "Epoch 16/20\n",
            "51524/51524 [==============================] - 162s 3ms/step - loss: 0.1024 - accuracy: 0.9737 - val_loss: 0.2981 - val_accuracy: 0.9120\n",
            "Epoch 17/20\n",
            "51524/51524 [==============================] - 162s 3ms/step - loss: 0.0806 - accuracy: 0.9824 - val_loss: 0.1738 - val_accuracy: 0.9477\n",
            "Epoch 18/20\n",
            "51524/51524 [==============================] - 162s 3ms/step - loss: 0.0732 - accuracy: 0.9847 - val_loss: 0.1791 - val_accuracy: 0.9472\n",
            "Epoch 19/20\n",
            "51524/51524 [==============================] - 162s 3ms/step - loss: 0.0710 - accuracy: 0.9858 - val_loss: 0.1769 - val_accuracy: 0.9478\n",
            "Epoch 20/20\n",
            "51524/51524 [==============================] - 162s 3ms/step - loss: 0.0691 - accuracy: 0.9865 - val_loss: 0.1765 - val_accuracy: 0.9486\n",
            "[[0.94855303]\n",
            " [0.        ]\n",
            " [0.        ]]\n"
          ],
          "name": "stdout"
        },
        {
          "output_type": "display_data",
          "data": {
            "image/png": "[encoded data removed]",
            "text/plain": [
              "<Figure size 432x288 with 1 Axes>"
            ]
          },
          "metadata": {
            "tags": [],
            "needs_background": "light"
          }
        },
        {
          "output_type": "stream",
          "text": [
            "Train on 51524 samples, validate on 6842 samples\n",
            "Epoch 1/20\n",
            "51524/51524 [==============================] - 165s 3ms/step - loss: 1.4530 - accuracy: 0.6273 - val_loss: 1.3869 - val_accuracy: 0.6269\n",
            "Epoch 2/20\n",
            "51524/51524 [==============================] - 162s 3ms/step - loss: 1.2279 - accuracy: 0.6475 - val_loss: 1.8742 - val_accuracy: 0.4215\n",
            "Epoch 3/20\n",
            "20992/51524 [===========>..................] - ETA: 1:32 - loss: 1.0739 - accuracy: 0.6766"
          ],
          "name": "stdout"
        }
      ]
    },
    {
      "cell_type": "code",
      "metadata": {
        "id": "T6gDNbxi9J3a",
        "colab_type": "code",
        "colab": {}
      },
      "source": [
        "0.94855303"
      ],
      "execution_count": 0,
      "outputs": []
    },
    {
      "cell_type": "code",
      "metadata": {
        "id": "yAdDQ2zs9J0g",
        "colab_type": "code",
        "colab": {}
      },
      "source": [
        ""
      ],
      "execution_count": 0,
      "outputs": []
    },
    {
      "cell_type": "code",
      "metadata": {
        "id": "kd9yszjT9Jy6",
        "colab_type": "code",
        "colab": {}
      },
      "source": [
        ""
      ],
      "execution_count": 0,
      "outputs": []
    },
    {
      "cell_type": "code",
      "metadata": {
        "id": "HXF7-6289Jsy",
        "colab_type": "code",
        "colab": {
          "base_uri": "https://localhost:8080/",
          "height": 766
        },
        "outputId": "f908e37e-ef77-4ce4-f85e-308b3c02fe7a"
      },
      "source": [
        "resnet20 = ResNet(input_shape=(train_x.shape[1],train_x.shape[2],1),classes=len(labels))\n",
        "resnet20.compile(optimizer='adam', loss='categorical_crossentropy', metrics=['accuracy'])\n",
        "history = resnet20.fit(train_X_norm, \n",
        "                        train_y, \n",
        "                        batch_size=128, \n",
        "                        epochs=20, \n",
        "                        class_weight=class_weights,\n",
        "                        validation_data=(valid_X_norm, validation_y),\n",
        "                        callbacks=[lrschedulerResNet1]\n",
        "                        )"
      ],
      "execution_count": 16,
      "outputs": [
        {
          "output_type": "stream",
          "text": [
            "/usr/local/lib/python3.6/dist-packages/ipykernel_launcher.py:20: UserWarning: Update your `Model` call to the Keras 2 API: `Model(inputs=Tensor(\"in..., name=\"ResNet\", outputs=Tensor(\"de...)`\n"
          ],
          "name": "stderr"
        },
        {
          "output_type": "stream",
          "text": [
            "Train on 51524 samples, validate on 6842 samples\n",
            "Epoch 1/20\n",
            "51524/51524 [==============================] - 118s 2ms/step - loss: 1.0439 - accuracy: 0.7431 - val_loss: 14.6757 - val_accuracy: 0.0697\n",
            "Epoch 2/20\n",
            "51524/51524 [==============================] - 107s 2ms/step - loss: 0.5344 - accuracy: 0.8945 - val_loss: 1.0028 - val_accuracy: 0.7483\n",
            "Epoch 3/20\n",
            "51524/51524 [==============================] - 107s 2ms/step - loss: 0.4496 - accuracy: 0.9200 - val_loss: 1.0302 - val_accuracy: 0.7631\n",
            "Epoch 4/20\n",
            "51524/51524 [==============================] - 107s 2ms/step - loss: 0.4092 - accuracy: 0.9286 - val_loss: 0.7470 - val_accuracy: 0.8077\n",
            "Epoch 5/20\n",
            "51524/51524 [==============================] - 107s 2ms/step - loss: 0.3884 - accuracy: 0.9316 - val_loss: 0.5517 - val_accuracy: 0.8756\n",
            "Epoch 6/20\n",
            "51524/51524 [==============================] - 107s 2ms/step - loss: 0.3705 - accuracy: 0.9360 - val_loss: 0.4790 - val_accuracy: 0.8970\n",
            "Epoch 7/20\n",
            "51524/51524 [==============================] - 107s 2ms/step - loss: 0.3523 - accuracy: 0.9390 - val_loss: 0.4575 - val_accuracy: 0.9050\n",
            "Epoch 8/20\n",
            "51524/51524 [==============================] - 107s 2ms/step - loss: 0.3425 - accuracy: 0.9412 - val_loss: 0.8563 - val_accuracy: 0.7815\n",
            "Epoch 9/20\n",
            "51524/51524 [==============================] - 107s 2ms/step - loss: 0.2519 - accuracy: 0.9670 - val_loss: 0.2777 - val_accuracy: 0.9563\n",
            "Epoch 10/20\n",
            "51524/51524 [==============================] - 107s 2ms/step - loss: 0.2121 - accuracy: 0.9738 - val_loss: 0.2888 - val_accuracy: 0.9477\n",
            "Epoch 11/20\n",
            "51524/51524 [==============================] - 107s 2ms/step - loss: 0.1871 - accuracy: 0.9772 - val_loss: 0.2497 - val_accuracy: 0.9545\n",
            "Epoch 12/20\n",
            "51524/51524 [==============================] - 107s 2ms/step - loss: 0.1677 - accuracy: 0.9797 - val_loss: 0.2601 - val_accuracy: 0.9465\n",
            "Epoch 13/20\n",
            "51524/51524 [==============================] - 107s 2ms/step - loss: 0.1549 - accuracy: 0.9805 - val_loss: 0.3338 - val_accuracy: 0.9260\n",
            "Epoch 14/20\n",
            "51524/51524 [==============================] - 107s 2ms/step - loss: 0.1437 - accuracy: 0.9820 - val_loss: 0.2439 - val_accuracy: 0.9493\n",
            "Epoch 15/20\n",
            "51524/51524 [==============================] - 107s 2ms/step - loss: 0.1331 - accuracy: 0.9837 - val_loss: 0.2362 - val_accuracy: 0.9525\n",
            "Epoch 16/20\n",
            "51524/51524 [==============================] - 107s 2ms/step - loss: 0.1158 - accuracy: 0.9893 - val_loss: 0.2176 - val_accuracy: 0.9592\n",
            "Epoch 17/20\n",
            "51524/51524 [==============================] - 107s 2ms/step - loss: 0.1105 - accuracy: 0.9907 - val_loss: 0.2197 - val_accuracy: 0.9579\n",
            "Epoch 18/20\n",
            "51524/51524 [==============================] - 107s 2ms/step - loss: 0.1067 - accuracy: 0.9915 - val_loss: 0.2227 - val_accuracy: 0.9576\n",
            "Epoch 19/20\n",
            "51524/51524 [==============================] - 107s 2ms/step - loss: 0.1047 - accuracy: 0.9918 - val_loss: 0.2252 - val_accuracy: 0.9579\n",
            "Epoch 20/20\n",
            "51524/51524 [==============================] - 107s 2ms/step - loss: 0.1018 - accuracy: 0.9923 - val_loss: 0.2271 - val_accuracy: 0.9583\n"
          ],
          "name": "stdout"
        }
      ]
    },
    {
      "cell_type": "code",
      "metadata": {
        "id": "32LbGs9gWZaw",
        "colab_type": "code",
        "colab": {
          "base_uri": "https://localhost:8080/",
          "height": 52
        },
        "outputId": "5dff23ea-fe0a-47ae-d1fa-922e1fce74a2"
      },
      "source": [
        "resnet20.evaluate(x=test_X_norm, y=test_y, batch_size=64)"
      ],
      "execution_count": 18,
      "outputs": [
        {
          "output_type": "stream",
          "text": [
            "6896/6896 [==============================] - 5s 752us/step\n"
          ],
          "name": "stdout"
        },
        {
          "output_type": "execute_result",
          "data": {
            "text/plain": [
              "[0.2236459396278222, 0.9601218104362488]"
            ]
          },
          "metadata": {
            "tags": []
          },
          "execution_count": 18
        }
      ]
    },
    {
      "cell_type": "code",
      "metadata": {
        "id": "cD5gok5s9Jl9",
        "colab_type": "code",
        "colab": {}
      },
      "source": [
        "def get_confusion_matrix(x, y, model, no_labels=12):\n",
        "    assert x.shape[0] == y.shape[0]\n",
        "    if y.shape[1] != 1: # 0-9 encoding\n",
        "        y = np.argmax(y, axis=1)\n",
        "    else:\n",
        "        y = y.flatten() # one-hot encoding\n",
        "    confusion_matrix = np.zeros((no_labels, no_labels)).astype(int)\n",
        "    pred = np.argmax(model.predict(x), axis=1)\n",
        "    for i in range(pred.shape[0]):\n",
        "        confusion_matrix[pred[i], y[i]] += 1\n",
        "    return confusion_matrix\n",
        "\n"
      ],
      "execution_count": 0,
      "outputs": []
    },
    {
      "cell_type": "code",
      "metadata": {
        "id": "0q08qUEyV8MI",
        "colab_type": "code",
        "colab": {}
      },
      "source": [
        "cm = get_confusion_matrix(test_X_norm, test_y, resnet20, no_labels=12)\n"
      ],
      "execution_count": 0,
      "outputs": []
    },
    {
      "cell_type": "code",
      "metadata": {
        "id": "EYe5sZG5ZJ4O",
        "colab_type": "code",
        "colab": {
          "base_uri": "https://localhost:8080/",
          "height": 434
        },
        "outputId": "0caaa846-546a-4ba7-d7a2-7f05bea45eb1"
      },
      "source": [
        ""
      ],
      "execution_count": 33,
      "outputs": [
        {
          "output_type": "execute_result",
          "data": {
            "text/plain": [
              "array([[ 244,    0,    0,    1,    1,    0,    0,    0,    0,    0,    0,\n",
              "           0],\n",
              "       [   0,  221,    0,    7,    0,    0,    1,    0,    0,    3,    5,\n",
              "           0],\n",
              "       [   1,    2,  251,    0,    0,    0,    0,    2,    3,    2,    8,\n",
              "           0],\n",
              "       [   0,    6,    0,  216,    0,    0,    0,    0,    0,    1,    5,\n",
              "           0],\n",
              "       [   1,    0,    0,    0,  254,    0,    0,    1,    0,    0,    7,\n",
              "           0],\n",
              "       [   0,    0,    0,    0,    1,  232,    0,    0,    0,    0,    9,\n",
              "           0],\n",
              "       [   0,    0,    0,    1,    0,    0,  229,    1,    0,    0,    7,\n",
              "           0],\n",
              "       [   0,    0,    5,    0,    0,    0,    1,  246,    0,    3,    3,\n",
              "           0],\n",
              "       [   0,    0,    1,    0,    0,    0,    0,    0,  236,    1,    4,\n",
              "           0],\n",
              "       [   0,    8,    1,    8,    0,    0,    0,    0,    0,  228,   16,\n",
              "           0],\n",
              "       [  10,   15,   14,   20,   11,   27,   15,   12,   10,   13, 4204,\n",
              "           1],\n",
              "       [   0,    0,    0,    0,    0,    0,    0,    0,    0,    0,    0,\n",
              "          60]])"
            ]
          },
          "metadata": {
            "tags": []
          },
          "execution_count": 33
        }
      ]
    },
    {
      "cell_type": "code",
      "metadata": {
        "id": "-ld5hL9GV8KH",
        "colab_type": "code",
        "colab": {}
      },
      "source": [
        "from tabulate import tabulate"
      ],
      "execution_count": 0,
      "outputs": []
    },
    {
      "cell_type": "code",
      "metadata": {
        "id": "I-83QuvhV8HT",
        "colab_type": "code",
        "colab": {}
      },
      "source": [
        "table = tabulate(cm, headers=labels, tablefmt=\"fancy_grid\")"
      ],
      "execution_count": 0,
      "outputs": []
    },
    {
      "cell_type": "code",
      "metadata": {
        "id": "_dTQLVu2V8D3",
        "colab_type": "code",
        "colab": {
          "base_uri": "https://localhost:8080/",
          "height": 486
        },
        "outputId": "faefba4c-9d2a-4bff-f0dc-e6ba45f1fa19"
      },
      "source": [
        "print(table)"
      ],
      "execution_count": 32,
      "outputs": [
        {
          "output_type": "stream",
          "text": [
            "╒═══════╤══════╤══════╤════════╤════════╤═════════╤══════╤═══════╤════════╤══════╤═══════════╤═══════════╕\n",
            "│   yes │   no │   up │   down │   left │   right │   on │   off │   stop │   go │   unknown │   silence │\n",
            "╞═══════╪══════╪══════╪════════╪════════╪═════════╪══════╪═══════╪════════╪══════╪═══════════╪═══════════╡\n",
            "│   244 │    0 │    0 │      1 │      1 │       0 │    0 │     0 │      0 │    0 │         0 │         0 │\n",
            "├───────┼──────┼──────┼────────┼────────┼─────────┼──────┼───────┼────────┼──────┼───────────┼───────────┤\n",
            "│     0 │  221 │    0 │      7 │      0 │       0 │    1 │     0 │      0 │    3 │         5 │         0 │\n",
            "├───────┼──────┼──────┼────────┼────────┼─────────┼──────┼───────┼────────┼──────┼───────────┼───────────┤\n",
            "│     1 │    2 │  251 │      0 │      0 │       0 │    0 │     2 │      3 │    2 │         8 │         0 │\n",
            "├───────┼──────┼──────┼────────┼────────┼─────────┼──────┼───────┼────────┼──────┼───────────┼───────────┤\n",
            "│     0 │    6 │    0 │    216 │      0 │       0 │    0 │     0 │      0 │    1 │         5 │         0 │\n",
            "├───────┼──────┼──────┼────────┼────────┼─────────┼──────┼───────┼────────┼──────┼───────────┼───────────┤\n",
            "│     1 │    0 │    0 │      0 │    254 │       0 │    0 │     1 │      0 │    0 │         7 │         0 │\n",
            "├───────┼──────┼──────┼────────┼────────┼─────────┼──────┼───────┼────────┼──────┼───────────┼───────────┤\n",
            "│     0 │    0 │    0 │      0 │      1 │     232 │    0 │     0 │      0 │    0 │         9 │         0 │\n",
            "├───────┼──────┼──────┼────────┼────────┼─────────┼──────┼───────┼────────┼──────┼───────────┼───────────┤\n",
            "│     0 │    0 │    0 │      1 │      0 │       0 │  229 │     1 │      0 │    0 │         7 │         0 │\n",
            "├───────┼──────┼──────┼────────┼────────┼─────────┼──────┼───────┼────────┼──────┼───────────┼───────────┤\n",
            "│     0 │    0 │    5 │      0 │      0 │       0 │    1 │   246 │      0 │    3 │         3 │         0 │\n",
            "├───────┼──────┼──────┼────────┼────────┼─────────┼──────┼───────┼────────┼──────┼───────────┼───────────┤\n",
            "│     0 │    0 │    1 │      0 │      0 │       0 │    0 │     0 │    236 │    1 │         4 │         0 │\n",
            "├───────┼──────┼──────┼────────┼────────┼─────────┼──────┼───────┼────────┼──────┼───────────┼───────────┤\n",
            "│     0 │    8 │    1 │      8 │      0 │       0 │    0 │     0 │      0 │  228 │        16 │         0 │\n",
            "├───────┼──────┼──────┼────────┼────────┼─────────┼──────┼───────┼────────┼──────┼───────────┼───────────┤\n",
            "│    10 │   15 │   14 │     20 │     11 │      27 │   15 │    12 │     10 │   13 │      4204 │         1 │\n",
            "├───────┼──────┼──────┼────────┼────────┼─────────┼──────┼───────┼────────┼──────┼───────────┼───────────┤\n",
            "│     0 │    0 │    0 │      0 │      0 │       0 │    0 │     0 │      0 │    0 │         0 │        60 │\n",
            "╘═══════╧══════╧══════╧════════╧════════╧═════════╧══════╧═══════╧════════╧══════╧═══════════╧═══════════╛\n"
          ],
          "name": "stdout"
        }
      ]
    },
    {
      "cell_type": "code",
      "metadata": {
        "id": "ZuecMNLK2eCo",
        "colab_type": "code",
        "colab": {}
      },
      "source": [
        "def create_model():\n",
        "    model = Sequential()\n",
        "    model.add(LSTM(33, return_sequences=True, input_shape=(None, 33)))\n",
        "    model.add(LSTM(128, return_sequences=False))\n",
        "    model.add(Dense(128, activation='relu'))\n",
        "    model.add(Dense(len(labels), activation='softmax'))\n",
        "    model.compile(optimizer='adam',\n",
        "                  loss='categorical_crossentropy',\n",
        "                  metrics=['accuracy'])\n",
        "    print(model.summary())\n",
        "    return model"
      ],
      "execution_count": 0,
      "outputs": []
    },
    {
      "cell_type": "code",
      "metadata": {
        "id": "wIf2VAZFRJGZ",
        "colab_type": "code",
        "colab": {}
      },
      "source": [
        "def create_model2():\n",
        "    model = Sequential()\n",
        "    model.add(LSTM(33, return_sequences=True, input_shape=(None, 33)))\n",
        "    model.add(LSTM(64, return_sequences=True))\n",
        "    model.add(LSTM(128, return_sequences=False))\n",
        "    model.add(Dense(128, activation='relu'))\n",
        "    model.add(Dense(len(labels), activation='softmax'))\n",
        "    model.compile(optimizer='adam',\n",
        "                  loss='categorical_crossentropy',\n",
        "                  metrics=['accuracy'])\n",
        "    print(model.summary())\n",
        "    return model"
      ],
      "execution_count": 0,
      "outputs": []
    },
    {
      "cell_type": "code",
      "metadata": {
        "id": "V-WiXrvF9UHQ",
        "colab_type": "code",
        "outputId": "0111ec1b-5442-4863-e88e-926b820c7684",
        "colab": {
          "base_uri": "https://localhost:8080/",
          "height": 761
        }
      },
      "source": [
        "model = create_model()\n",
        "plot_model(model)"
      ],
      "execution_count": 0,
      "outputs": [
        {
          "output_type": "stream",
          "text": [
            "Model: \"sequential_2\"\n",
            "_________________________________________________________________\n",
            "Layer (type)                 Output Shape              Param #   \n",
            "=================================================================\n",
            "lstm_3 (LSTM)                (None, None, 33)          8844      \n",
            "_________________________________________________________________\n",
            "lstm_4 (LSTM)                (None, 128)               82944     \n",
            "_________________________________________________________________\n",
            "dense_2 (Dense)              (None, 128)               16512     \n",
            "_________________________________________________________________\n",
            "dense_3 (Dense)              (None, 11)                1419      \n",
            "=================================================================\n",
            "Total params: 109,719\n",
            "Trainable params: 109,719\n",
            "Non-trainable params: 0\n",
            "_________________________________________________________________\n",
            "None\n"
          ],
          "name": "stdout"
        },
        {
          "output_type": "execute_result",
          "data": {
            "image/png": "[encoded data removed]",
            "text/plain": [
              "<IPython.core.display.Image object>"
            ]
          },
          "metadata": {
            "tags": []
          },
          "execution_count": 8
        }
      ]
    },
    {
      "cell_type": "code",
      "metadata": {
        "id": "IGdQcMW22eC2",
        "colab_type": "code",
        "outputId": "caa42288-fc38-48a5-ae6e-4eaab35b8ef9",
        "colab": {
          "base_uri": "https://localhost:8080/",
          "height": 1000
        }
      },
      "source": [
        "model = create_model()\n",
        "history = model.fit(train_x, \n",
        "                    train_y, \n",
        "                    batch_size=400, \n",
        "                    epochs=80, \n",
        "                    class_weight=class_weights,\n",
        "                    validation_data=(validation_x, validation_y)\n",
        "                    )"
      ],
      "execution_count": 0,
      "outputs": [
        {
          "output_type": "stream",
          "text": [
            "Model: \"sequential_1\"\n",
            "_________________________________________________________________\n",
            "Layer (type)                 Output Shape              Param #   \n",
            "=================================================================\n",
            "lstm_1 (LSTM)                (None, None, 33)          8844      \n",
            "_________________________________________________________________\n",
            "lstm_2 (LSTM)                (None, 128)               82944     \n",
            "_________________________________________________________________\n",
            "dense_1 (Dense)              (None, 128)               16512     \n",
            "_________________________________________________________________\n",
            "dense_2 (Dense)              (None, 11)                1419      \n",
            "=================================================================\n",
            "Total params: 109,719\n",
            "Trainable params: 109,719\n",
            "Non-trainable params: 0\n",
            "_________________________________________________________________\n",
            "None\n",
            "Train on 51088 samples, validate on 6798 samples\n",
            "Epoch 1/80\n",
            "51088/51088 [==============================] - 31s 600us/step - loss: 4068.9724 - accuracy: 0.4859 - val_loss: 1.7023 - val_accuracy: 0.5432\n",
            "Epoch 2/80\n",
            "51088/51088 [==============================] - 28s 548us/step - loss: 3181.5978 - accuracy: 0.6075 - val_loss: 1.2833 - val_accuracy: 0.6430\n",
            "Epoch 3/80\n",
            "51088/51088 [==============================] - 28s 544us/step - loss: 2615.9833 - accuracy: 0.6420 - val_loss: 1.1482 - val_accuracy: 0.6500\n",
            "Epoch 4/80\n",
            "51088/51088 [==============================] - 28s 555us/step - loss: 2205.9063 - accuracy: 0.6695 - val_loss: 0.9749 - val_accuracy: 0.6871\n",
            "Epoch 5/80\n",
            "51088/51088 [==============================] - 29s 564us/step - loss: 1935.5424 - accuracy: 0.7021 - val_loss: 0.8484 - val_accuracy: 0.7267\n",
            "Epoch 6/80\n",
            "51088/51088 [==============================] - 30s 580us/step - loss: 1731.1725 - accuracy: 0.7314 - val_loss: 0.7589 - val_accuracy: 0.7560\n",
            "Epoch 7/80\n",
            "51088/51088 [==============================] - 29s 572us/step - loss: 1481.4055 - accuracy: 0.7631 - val_loss: 0.7420 - val_accuracy: 0.7527\n",
            "Epoch 8/80\n",
            "51088/51088 [==============================] - 28s 557us/step - loss: 1346.2812 - accuracy: 0.7825 - val_loss: 0.6576 - val_accuracy: 0.7848\n",
            "Epoch 9/80\n",
            "51088/51088 [==============================] - 29s 561us/step - loss: 1227.5137 - accuracy: 0.7992 - val_loss: 0.6194 - val_accuracy: 0.7835\n",
            "Epoch 10/80\n",
            "51088/51088 [==============================] - 29s 572us/step - loss: 1145.3918 - accuracy: 0.8140 - val_loss: 0.5833 - val_accuracy: 0.8077\n",
            "Epoch 11/80\n",
            "51088/51088 [==============================] - 29s 565us/step - loss: 1049.1662 - accuracy: 0.8268 - val_loss: 0.5289 - val_accuracy: 0.8179\n",
            "Epoch 12/80\n",
            "51088/51088 [==============================] - 29s 567us/step - loss: 984.7409 - accuracy: 0.8377 - val_loss: 0.5116 - val_accuracy: 0.8260\n",
            "Epoch 13/80\n",
            "51088/51088 [==============================] - 29s 563us/step - loss: 894.2467 - accuracy: 0.8523 - val_loss: 0.5269 - val_accuracy: 0.8247\n",
            "Epoch 14/80\n",
            "51088/51088 [==============================] - 30s 580us/step - loss: 853.6645 - accuracy: 0.8607 - val_loss: 0.4910 - val_accuracy: 0.8383\n",
            "Epoch 15/80\n",
            "51088/51088 [==============================] - 29s 562us/step - loss: 810.8714 - accuracy: 0.8663 - val_loss: 0.4601 - val_accuracy: 0.8469\n",
            "Epoch 16/80\n",
            "51088/51088 [==============================] - 29s 569us/step - loss: 749.8480 - accuracy: 0.8761 - val_loss: 0.4522 - val_accuracy: 0.8500\n",
            "Epoch 17/80\n",
            "51088/51088 [==============================] - 28s 558us/step - loss: 757.9209 - accuracy: 0.8751 - val_loss: 0.4140 - val_accuracy: 0.8676\n",
            "Epoch 18/80\n",
            "51088/51088 [==============================] - 30s 585us/step - loss: 689.4965 - accuracy: 0.8848 - val_loss: 0.4038 - val_accuracy: 0.8682\n",
            "Epoch 19/80\n",
            "51088/51088 [==============================] - 28s 558us/step - loss: 669.1714 - accuracy: 0.8898 - val_loss: 0.3913 - val_accuracy: 0.8673\n",
            "Epoch 20/80\n",
            "51088/51088 [==============================] - 30s 579us/step - loss: 657.3505 - accuracy: 0.8900 - val_loss: 0.4210 - val_accuracy: 0.8617\n",
            "Epoch 21/80\n",
            "51088/51088 [==============================] - 29s 574us/step - loss: 651.6100 - accuracy: 0.8911 - val_loss: 0.3817 - val_accuracy: 0.8728\n",
            "Epoch 22/80\n",
            "51088/51088 [==============================] - 30s 589us/step - loss: 597.9187 - accuracy: 0.9000 - val_loss: 0.4091 - val_accuracy: 0.8691\n",
            "Epoch 23/80\n",
            "51088/51088 [==============================] - 28s 556us/step - loss: 663.3034 - accuracy: 0.8928 - val_loss: 0.3750 - val_accuracy: 0.8811\n",
            "Epoch 24/80\n",
            "51088/51088 [==============================] - 29s 562us/step - loss: 577.5484 - accuracy: 0.9036 - val_loss: 0.3546 - val_accuracy: 0.8898\n",
            "Epoch 25/80\n",
            "51088/51088 [==============================] - 27s 533us/step - loss: 570.1613 - accuracy: 0.9043 - val_loss: 0.3558 - val_accuracy: 0.8850\n",
            "Epoch 26/80\n",
            "51088/51088 [==============================] - 29s 565us/step - loss: 517.1100 - accuracy: 0.9102 - val_loss: 0.3477 - val_accuracy: 0.8931\n",
            "Epoch 27/80\n",
            "51088/51088 [==============================] - 29s 560us/step - loss: 525.9864 - accuracy: 0.9111 - val_loss: 0.3473 - val_accuracy: 0.8881\n",
            "Epoch 28/80\n",
            "51088/51088 [==============================] - 28s 555us/step - loss: 522.4492 - accuracy: 0.9122 - val_loss: 0.3495 - val_accuracy: 0.8881\n",
            "Epoch 29/80\n",
            "51088/51088 [==============================] - 29s 571us/step - loss: 501.4396 - accuracy: 0.9162 - val_loss: 0.3359 - val_accuracy: 0.8944\n",
            "Epoch 30/80\n",
            "51088/51088 [==============================] - 29s 558us/step - loss: 555.1364 - accuracy: 0.9091 - val_loss: 0.3471 - val_accuracy: 0.8863\n",
            "Epoch 31/80\n",
            "51088/51088 [==============================] - 29s 566us/step - loss: 514.2217 - accuracy: 0.9140 - val_loss: 0.3776 - val_accuracy: 0.8810\n",
            "Epoch 32/80\n",
            "51088/51088 [==============================] - 29s 564us/step - loss: 501.9789 - accuracy: 0.9178 - val_loss: 0.3308 - val_accuracy: 0.8976\n",
            "Epoch 33/80\n",
            "51088/51088 [==============================] - 29s 568us/step - loss: 436.9830 - accuracy: 0.9265 - val_loss: 0.3294 - val_accuracy: 0.8931\n",
            "Epoch 34/80\n",
            "51088/51088 [==============================] - 30s 581us/step - loss: 487.8421 - accuracy: 0.9196 - val_loss: 0.3355 - val_accuracy: 0.8950\n",
            "Epoch 35/80\n",
            "51088/51088 [==============================] - 29s 569us/step - loss: 467.7609 - accuracy: 0.9204 - val_loss: 0.3187 - val_accuracy: 0.8964\n",
            "Epoch 36/80\n",
            "51088/51088 [==============================] - 29s 569us/step - loss: 408.1983 - accuracy: 0.9315 - val_loss: 0.3038 - val_accuracy: 0.9013\n",
            "Epoch 37/80\n",
            "51088/51088 [==============================] - 29s 566us/step - loss: 425.8847 - accuracy: 0.9291 - val_loss: 0.3158 - val_accuracy: 0.9020\n",
            "Epoch 38/80\n",
            "51088/51088 [==============================] - 30s 582us/step - loss: 375.8335 - accuracy: 0.9363 - val_loss: 0.3236 - val_accuracy: 0.8986\n",
            "Epoch 39/80\n",
            "51088/51088 [==============================] - 28s 551us/step - loss: 409.0555 - accuracy: 0.9321 - val_loss: 0.3031 - val_accuracy: 0.9063\n",
            "Epoch 40/80\n",
            "51088/51088 [==============================] - 29s 569us/step - loss: 401.0373 - accuracy: 0.9329 - val_loss: 0.3312 - val_accuracy: 0.8991\n",
            "Epoch 41/80\n",
            "51088/51088 [==============================] - 29s 564us/step - loss: 381.8291 - accuracy: 0.9359 - val_loss: 0.3342 - val_accuracy: 0.8954\n",
            "Epoch 42/80\n",
            "51088/51088 [==============================] - 29s 571us/step - loss: 362.6351 - accuracy: 0.9391 - val_loss: 0.2950 - val_accuracy: 0.9098\n",
            "Epoch 43/80\n",
            "51088/51088 [==============================] - 28s 556us/step - loss: 344.0892 - accuracy: 0.9416 - val_loss: 0.2989 - val_accuracy: 0.9059\n",
            "Epoch 44/80\n",
            "51088/51088 [==============================] - 28s 555us/step - loss: 344.0371 - accuracy: 0.9410 - val_loss: 0.2983 - val_accuracy: 0.9086\n",
            "Epoch 45/80\n",
            "51088/51088 [==============================] - 29s 574us/step - loss: 344.9340 - accuracy: 0.9418 - val_loss: 0.3133 - val_accuracy: 0.9011\n",
            "Epoch 46/80\n",
            "51088/51088 [==============================] - 29s 575us/step - loss: 369.5104 - accuracy: 0.9382 - val_loss: 0.2947 - val_accuracy: 0.9109\n",
            "Epoch 47/80\n",
            "51088/51088 [==============================] - 29s 571us/step - loss: 338.8625 - accuracy: 0.9421 - val_loss: 0.3031 - val_accuracy: 0.9079\n",
            "Epoch 48/80\n",
            "51088/51088 [==============================] - 29s 565us/step - loss: 293.8156 - accuracy: 0.9491 - val_loss: 0.3080 - val_accuracy: 0.9044\n",
            "Epoch 49/80\n",
            "51088/51088 [==============================] - 29s 558us/step - loss: 366.8939 - accuracy: 0.9405 - val_loss: 0.3726 - val_accuracy: 0.8810\n",
            "Epoch 50/80\n",
            "51088/51088 [==============================] - 28s 554us/step - loss: 395.8554 - accuracy: 0.9328 - val_loss: 0.3024 - val_accuracy: 0.9079\n",
            "Epoch 51/80\n",
            "51088/51088 [==============================] - 30s 578us/step - loss: 310.4089 - accuracy: 0.9482 - val_loss: 0.2937 - val_accuracy: 0.9169\n",
            "Epoch 52/80\n",
            "51088/51088 [==============================] - 29s 563us/step - loss: 282.6288 - accuracy: 0.9517 - val_loss: 0.2999 - val_accuracy: 0.9131\n",
            "Epoch 53/80\n",
            "51088/51088 [==============================] - 28s 549us/step - loss: 338.9974 - accuracy: 0.9449 - val_loss: 0.3237 - val_accuracy: 0.9067\n",
            "Epoch 54/80\n",
            "51088/51088 [==============================] - 28s 555us/step - loss: 341.4092 - accuracy: 0.9433 - val_loss: 0.2798 - val_accuracy: 0.9166\n",
            "Epoch 55/80\n",
            "51088/51088 [==============================] - 30s 582us/step - loss: 268.2867 - accuracy: 0.9546 - val_loss: 0.2934 - val_accuracy: 0.9147\n",
            "Epoch 56/80\n",
            "51088/51088 [==============================] - 29s 563us/step - loss: 309.0602 - accuracy: 0.9482 - val_loss: 0.3312 - val_accuracy: 0.9029\n",
            "Epoch 57/80\n",
            "51088/51088 [==============================] - 29s 577us/step - loss: 307.7246 - accuracy: 0.9480 - val_loss: 0.2756 - val_accuracy: 0.9207\n",
            "Epoch 58/80\n",
            "51088/51088 [==============================] - 29s 562us/step - loss: 230.9093 - accuracy: 0.9614 - val_loss: 0.2911 - val_accuracy: 0.9163\n",
            "Epoch 59/80\n",
            "51088/51088 [==============================] - 29s 562us/step - loss: 234.6138 - accuracy: 0.9600 - val_loss: 0.2963 - val_accuracy: 0.9163\n",
            "Epoch 60/80\n",
            "51088/51088 [==============================] - 29s 574us/step - loss: 211.3776 - accuracy: 0.9644 - val_loss: 0.3324 - val_accuracy: 0.9063\n",
            "Epoch 61/80\n",
            "51088/51088 [==============================] - 29s 563us/step - loss: 406.4431 - accuracy: 0.9366 - val_loss: 0.2886 - val_accuracy: 0.9151\n",
            "Epoch 62/80\n",
            "51088/51088 [==============================] - 29s 563us/step - loss: 235.8272 - accuracy: 0.9602 - val_loss: 0.2890 - val_accuracy: 0.9203\n",
            "Epoch 63/80\n",
            "51088/51088 [==============================] - 29s 567us/step - loss: 205.4807 - accuracy: 0.9656 - val_loss: 0.3025 - val_accuracy: 0.9153\n",
            "Epoch 64/80\n",
            "51088/51088 [==============================] - 30s 578us/step - loss: 234.3311 - accuracy: 0.9601 - val_loss: 0.3073 - val_accuracy: 0.9173\n",
            "Epoch 65/80\n",
            "51088/51088 [==============================] - 30s 580us/step - loss: 190.9913 - accuracy: 0.9676 - val_loss: 0.3130 - val_accuracy: 0.9148\n",
            "Epoch 66/80\n",
            "51088/51088 [==============================] - 29s 568us/step - loss: 189.6993 - accuracy: 0.9689 - val_loss: 0.3259 - val_accuracy: 0.9145\n",
            "Epoch 67/80\n",
            "51088/51088 [==============================] - 29s 574us/step - loss: 189.2032 - accuracy: 0.9680 - val_loss: 0.3444 - val_accuracy: 0.9101\n",
            "Epoch 68/80\n",
            "51088/51088 [==============================] - 29s 569us/step - loss: 262.7370 - accuracy: 0.9563 - val_loss: 0.3969 - val_accuracy: 0.8954\n",
            "Epoch 69/80\n",
            "51088/51088 [==============================] - 30s 582us/step - loss: 304.1088 - accuracy: 0.9507 - val_loss: 0.2972 - val_accuracy: 0.9119\n",
            "Epoch 70/80\n",
            "51088/51088 [==============================] - 29s 562us/step - loss: 182.1333 - accuracy: 0.9682 - val_loss: 0.3244 - val_accuracy: 0.9181\n",
            "Epoch 71/80\n",
            "51088/51088 [==============================] - 28s 544us/step - loss: 227.1759 - accuracy: 0.9621 - val_loss: 0.3102 - val_accuracy: 0.9137\n",
            "Epoch 72/80\n",
            "51088/51088 [==============================] - 30s 578us/step - loss: 170.3780 - accuracy: 0.9705 - val_loss: 0.3201 - val_accuracy: 0.9154\n",
            "Epoch 73/80\n",
            "51088/51088 [==============================] - 29s 574us/step - loss: 161.0976 - accuracy: 0.9734 - val_loss: 0.3583 - val_accuracy: 0.9135\n",
            "Epoch 74/80\n",
            "51088/51088 [==============================] - 29s 567us/step - loss: 152.6355 - accuracy: 0.9736 - val_loss: 0.3273 - val_accuracy: 0.9184\n",
            "Epoch 75/80\n",
            "51088/51088 [==============================] - 29s 570us/step - loss: 283.9281 - accuracy: 0.9570 - val_loss: 0.3559 - val_accuracy: 0.8944\n",
            "Epoch 76/80\n",
            "51088/51088 [==============================] - 30s 588us/step - loss: 211.0291 - accuracy: 0.9640 - val_loss: 0.3003 - val_accuracy: 0.9197\n",
            "Epoch 77/80\n",
            "51088/51088 [==============================] - 28s 557us/step - loss: 143.1267 - accuracy: 0.9764 - val_loss: 0.3238 - val_accuracy: 0.9191\n",
            "Epoch 78/80\n",
            "51088/51088 [==============================] - 29s 568us/step - loss: 253.6048 - accuracy: 0.9580 - val_loss: 0.3319 - val_accuracy: 0.9097\n",
            "Epoch 79/80\n",
            "51088/51088 [==============================] - 30s 581us/step - loss: 213.4513 - accuracy: 0.9653 - val_loss: 0.3523 - val_accuracy: 0.9060\n",
            "Epoch 80/80\n",
            "51088/51088 [==============================] - 29s 567us/step - loss: 164.0145 - accuracy: 0.9731 - val_loss: 0.3453 - val_accuracy: 0.9094\n"
          ],
          "name": "stdout"
        }
      ]
    },
    {
      "cell_type": "code",
      "metadata": {
        "id": "gFCfNpDL9TEV",
        "colab_type": "code",
        "colab": {}
      },
      "source": [
        ""
      ],
      "execution_count": 0,
      "outputs": []
    },
    {
      "cell_type": "code",
      "metadata": {
        "id": "SXGriYw7B7pi",
        "colab_type": "code",
        "outputId": "02c4a5ed-50e5-4951-ac8b-8c556b614ac4",
        "colab": {
          "base_uri": "https://localhost:8080/",
          "height": 269
        }
      },
      "source": [
        "plot_accuracy(history)"
      ],
      "execution_count": 0,
      "outputs": [
        {
          "output_type": "display_data",
          "data": {
            "image/png": "[encoded data removed]",
            "text/plain": [
              "<Figure size 432x288 with 1 Axes>"
            ]
          },
          "metadata": {
            "tags": [],
            "needs_background": "light"
          }
        }
      ]
    },
    {
      "cell_type": "code",
      "metadata": {
        "id": "Rz35et5J2eDS",
        "colab_type": "code",
        "outputId": "53d36293-2ecc-4cbb-e61a-add8211e98a7",
        "colab": {
          "base_uri": "https://localhost:8080/",
          "height": 297
        }
      },
      "source": [
        "plot_loss(history)"
      ],
      "execution_count": 0,
      "outputs": [
        {
          "output_type": "display_data",
          "data": {
            "image/png": "[encoded data removed]",
            "text/plain": [
              "<Figure size 432x288 with 2 Axes>"
            ]
          },
          "metadata": {
            "tags": [],
            "needs_background": "light"
          }
        }
      ]
    },
    {
      "cell_type": "code",
      "metadata": {
        "id": "GXv3Z0IF2eDb",
        "colab_type": "code",
        "outputId": "971bf69a-56f7-419e-ca27-00841729e55a",
        "colab": {
          "base_uri": "https://localhost:8080/",
          "height": 1000
        }
      },
      "source": [
        "model = create_model2()\n",
        "history = model.fit(train_x, \n",
        "                    train_y, \n",
        "                    batch_size=400, \n",
        "                    epochs=50, \n",
        "                    class_weight=class_weights,\n",
        "                    validation_data=(validation_x, validation_y)\n",
        "                    )"
      ],
      "execution_count": 0,
      "outputs": [
        {
          "output_type": "stream",
          "text": [
            "Model: \"sequential_3\"\n",
            "_________________________________________________________________\n",
            "Layer (type)                 Output Shape              Param #   \n",
            "=================================================================\n",
            "lstm_6 (LSTM)                (None, None, 33)          8844      \n",
            "_________________________________________________________________\n",
            "lstm_7 (LSTM)                (None, None, 64)          25088     \n",
            "_________________________________________________________________\n",
            "lstm_8 (LSTM)                (None, 128)               98816     \n",
            "_________________________________________________________________\n",
            "dense_3 (Dense)              (None, 128)               16512     \n",
            "_________________________________________________________________\n",
            "dense_4 (Dense)              (None, 11)                1419      \n",
            "=================================================================\n",
            "Total params: 150,679\n",
            "Trainable params: 150,679\n",
            "Non-trainable params: 0\n",
            "_________________________________________________________________\n",
            "None\n",
            "Train on 51088 samples, validate on 6798 samples\n",
            "Epoch 1/50\n",
            "51088/51088 [==============================] - 44s 866us/step - loss: 4435.1014 - accuracy: 0.4442 - val_loss: 1.6699 - val_accuracy: 0.4922\n",
            "Epoch 2/50\n",
            "51088/51088 [==============================] - 44s 860us/step - loss: 3422.3624 - accuracy: 0.5678 - val_loss: 1.5217 - val_accuracy: 0.5625\n",
            "Epoch 3/50\n",
            "51088/51088 [==============================] - 43s 833us/step - loss: 2857.2604 - accuracy: 0.6026 - val_loss: 1.2144 - val_accuracy: 0.6359\n",
            "Epoch 4/50\n",
            "51088/51088 [==============================] - 42s 828us/step - loss: 2517.0280 - accuracy: 0.6410 - val_loss: 1.1032 - val_accuracy: 0.6452\n",
            "Epoch 5/50\n",
            "51088/51088 [==============================] - 43s 834us/step - loss: 2278.3283 - accuracy: 0.6681 - val_loss: 1.0609 - val_accuracy: 0.6620\n",
            "Epoch 6/50\n",
            "51088/51088 [==============================] - 42s 828us/step - loss: 2040.7674 - accuracy: 0.6916 - val_loss: 0.9301 - val_accuracy: 0.6915\n",
            "Epoch 7/50\n",
            "51088/51088 [==============================] - 43s 837us/step - loss: 1903.3891 - accuracy: 0.7070 - val_loss: 0.8473 - val_accuracy: 0.7211\n",
            "Epoch 8/50\n",
            "51088/51088 [==============================] - 42s 816us/step - loss: 1755.0428 - accuracy: 0.7245 - val_loss: 0.8674 - val_accuracy: 0.6984\n",
            "Epoch 9/50\n",
            "51088/51088 [==============================] - 42s 822us/step - loss: 1679.3561 - accuracy: 0.7324 - val_loss: 0.8327 - val_accuracy: 0.7208\n",
            "Epoch 10/50\n",
            "51088/51088 [==============================] - 42s 827us/step - loss: 1585.8957 - accuracy: 0.7456 - val_loss: 0.7730 - val_accuracy: 0.7462\n",
            "Epoch 11/50\n",
            "51088/51088 [==============================] - 42s 823us/step - loss: 1507.3826 - accuracy: 0.7578 - val_loss: 0.7715 - val_accuracy: 0.7398\n",
            "Epoch 12/50\n",
            "51088/51088 [==============================] - 43s 833us/step - loss: 1477.7659 - accuracy: 0.7667 - val_loss: 0.6958 - val_accuracy: 0.7739\n",
            "Epoch 13/50\n",
            "51088/51088 [==============================] - 42s 815us/step - loss: 1391.1342 - accuracy: 0.7793 - val_loss: 0.6726 - val_accuracy: 0.7629\n",
            "Epoch 14/50\n",
            "51088/51088 [==============================] - 41s 811us/step - loss: 1309.8062 - accuracy: 0.7907 - val_loss: 0.6235 - val_accuracy: 0.7899\n",
            "Epoch 15/50\n",
            "51088/51088 [==============================] - 43s 834us/step - loss: 1206.4853 - accuracy: 0.8077 - val_loss: 0.6487 - val_accuracy: 0.7929\n",
            "Epoch 16/50\n",
            "51088/51088 [==============================] - 42s 825us/step - loss: 1167.2049 - accuracy: 0.8131 - val_loss: 0.5439 - val_accuracy: 0.8169\n",
            "Epoch 17/50\n",
            "51088/51088 [==============================] - 41s 811us/step - loss: 1064.2102 - accuracy: 0.8271 - val_loss: 0.5672 - val_accuracy: 0.8217\n",
            "Epoch 18/50\n",
            "51088/51088 [==============================] - 41s 796us/step - loss: 1013.9896 - accuracy: 0.8379 - val_loss: 0.5338 - val_accuracy: 0.8210\n",
            "Epoch 19/50\n",
            "51088/51088 [==============================] - 41s 797us/step - loss: 996.6474 - accuracy: 0.8384 - val_loss: 0.4926 - val_accuracy: 0.8389\n",
            "Epoch 20/50\n",
            "51088/51088 [==============================] - 41s 805us/step - loss: 976.1978 - accuracy: 0.8421 - val_loss: 0.4759 - val_accuracy: 0.8458\n",
            "Epoch 21/50\n",
            "51088/51088 [==============================] - 41s 805us/step - loss: 934.3742 - accuracy: 0.8488 - val_loss: 0.4552 - val_accuracy: 0.8550\n",
            "Epoch 22/50\n",
            "51088/51088 [==============================] - 41s 810us/step - loss: 853.2088 - accuracy: 0.8639 - val_loss: 0.4462 - val_accuracy: 0.8558\n",
            "Epoch 23/50\n",
            "51088/51088 [==============================] - 41s 796us/step - loss: 784.6831 - accuracy: 0.8713 - val_loss: 0.4503 - val_accuracy: 0.8491\n",
            "Epoch 24/50\n",
            "51088/51088 [==============================] - 41s 811us/step - loss: 793.4032 - accuracy: 0.8706 - val_loss: 0.4936 - val_accuracy: 0.8367\n",
            "Epoch 25/50\n",
            "51088/51088 [==============================] - 41s 803us/step - loss: 730.1331 - accuracy: 0.8788 - val_loss: 0.4423 - val_accuracy: 0.8572\n",
            "Epoch 26/50\n",
            "51088/51088 [==============================] - 43s 835us/step - loss: 699.7064 - accuracy: 0.8819 - val_loss: 0.4264 - val_accuracy: 0.8629\n",
            "Epoch 27/50\n",
            "51088/51088 [==============================] - 42s 824us/step - loss: 700.0747 - accuracy: 0.8846 - val_loss: 0.4043 - val_accuracy: 0.8642\n",
            "Epoch 28/50\n",
            "51088/51088 [==============================] - 42s 823us/step - loss: 646.7921 - accuracy: 0.8898 - val_loss: 0.4057 - val_accuracy: 0.8745\n",
            "Epoch 29/50\n",
            "51088/51088 [==============================] - 42s 826us/step - loss: 636.8997 - accuracy: 0.8928 - val_loss: 0.4040 - val_accuracy: 0.8711\n",
            "Epoch 30/50\n",
            "51088/51088 [==============================] - 42s 817us/step - loss: 609.8179 - accuracy: 0.8987 - val_loss: 0.3684 - val_accuracy: 0.8863\n",
            "Epoch 31/50\n",
            "51088/51088 [==============================] - 42s 828us/step - loss: 615.4311 - accuracy: 0.8972 - val_loss: 0.3899 - val_accuracy: 0.8782\n",
            "Epoch 32/50\n",
            "51088/51088 [==============================] - 42s 812us/step - loss: 588.7895 - accuracy: 0.9000 - val_loss: 0.3973 - val_accuracy: 0.8736\n",
            "Epoch 33/50\n",
            "51088/51088 [==============================] - 42s 824us/step - loss: 625.1150 - accuracy: 0.8977 - val_loss: 0.3955 - val_accuracy: 0.8804\n",
            "Epoch 34/50\n",
            "51088/51088 [==============================] - 43s 833us/step - loss: 622.1190 - accuracy: 0.8956 - val_loss: 0.3935 - val_accuracy: 0.8817\n",
            "Epoch 35/50\n",
            "51088/51088 [==============================] - 41s 807us/step - loss: 568.2274 - accuracy: 0.9044 - val_loss: 0.3663 - val_accuracy: 0.8836\n",
            "Epoch 36/50\n",
            "51088/51088 [==============================] - 43s 849us/step - loss: 514.5036 - accuracy: 0.9114 - val_loss: 0.3620 - val_accuracy: 0.8916\n",
            "Epoch 37/50\n",
            "51088/51088 [==============================] - 41s 810us/step - loss: 524.6981 - accuracy: 0.9116 - val_loss: 0.3995 - val_accuracy: 0.8739\n",
            "Epoch 38/50\n",
            "51088/51088 [==============================] - 43s 833us/step - loss: 507.0423 - accuracy: 0.9135 - val_loss: 0.3558 - val_accuracy: 0.8901\n",
            "Epoch 39/50\n",
            "51088/51088 [==============================] - 42s 813us/step - loss: 498.1299 - accuracy: 0.9155 - val_loss: 0.3675 - val_accuracy: 0.8845\n",
            "Epoch 40/50\n",
            "51088/51088 [==============================] - 41s 796us/step - loss: 485.9505 - accuracy: 0.9160 - val_loss: 0.4208 - val_accuracy: 0.8676\n",
            "Epoch 41/50\n",
            "51088/51088 [==============================] - 43s 836us/step - loss: 611.9019 - accuracy: 0.9009 - val_loss: 0.3619 - val_accuracy: 0.8895\n",
            "Epoch 42/50\n",
            "51088/51088 [==============================] - 43s 845us/step - loss: 471.0270 - accuracy: 0.9180 - val_loss: 0.3571 - val_accuracy: 0.8881\n",
            "Epoch 43/50\n",
            "51088/51088 [==============================] - 42s 822us/step - loss: 442.7204 - accuracy: 0.9254 - val_loss: 0.3502 - val_accuracy: 0.8922\n",
            "Epoch 44/50\n",
            "51088/51088 [==============================] - 41s 795us/step - loss: 415.7610 - accuracy: 0.9279 - val_loss: 0.3347 - val_accuracy: 0.8966\n",
            "Epoch 45/50\n",
            "51088/51088 [==============================] - 43s 836us/step - loss: 403.4108 - accuracy: 0.9310 - val_loss: 0.3602 - val_accuracy: 0.8886\n",
            "Epoch 46/50\n",
            "51088/51088 [==============================] - 42s 830us/step - loss: 399.1459 - accuracy: 0.9317 - val_loss: 0.3940 - val_accuracy: 0.8867\n",
            "Epoch 47/50\n",
            "51088/51088 [==============================] - 41s 800us/step - loss: 513.0309 - accuracy: 0.9157 - val_loss: 0.3958 - val_accuracy: 0.8804\n",
            "Epoch 48/50\n",
            "51088/51088 [==============================] - 41s 802us/step - loss: 509.0302 - accuracy: 0.9122 - val_loss: 0.3565 - val_accuracy: 0.8892\n",
            "Epoch 49/50\n",
            "51088/51088 [==============================] - 42s 819us/step - loss: 402.9621 - accuracy: 0.9304 - val_loss: 0.3337 - val_accuracy: 0.8994\n",
            "Epoch 50/50\n",
            "51088/51088 [==============================] - 43s 833us/step - loss: 337.2718 - accuracy: 0.9409 - val_loss: 0.3548 - val_accuracy: 0.8991\n"
          ],
          "name": "stdout"
        }
      ]
    },
    {
      "cell_type": "code",
      "metadata": {
        "id": "CD60l1cb2eDk",
        "colab_type": "code",
        "colab": {}
      },
      "source": [
        ""
      ],
      "execution_count": 0,
      "outputs": []
    }
  ]
}