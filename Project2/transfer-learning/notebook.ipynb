{
 "cells": [
  {
   "cell_type": "code",
   "execution_count": 1,
   "metadata": {},
   "outputs": [
    {
     "name": "stderr",
     "output_type": "stream",
     "text": [
      "Using TensorFlow backend.\n"
     ]
    },
    {
     "name": "stdout",
     "output_type": "stream",
     "text": [
      "Device mapping:\n",
      "/job:localhost/replica:0/task:0/device:GPU:0 -> device: 0, name: GeForce GTX 1060 6GB, pci bus id: 0000:01:00.0, compute capability: 6.1\n",
      "\n"
     ]
    }
   ],
   "source": [
    "import numpy as np\n",
    "import keras\n",
    "from keras import Sequential\n",
    "from keras.layers import Dense, Flatten, Conv2D\n",
    "from keras.preprocessing.image import load_img, img_to_array, ImageDataGenerator\n",
    "from keras.applications.vgg19 import preprocess_input, decode_predictions\n",
    "from keras.callbacks import Callback\n",
    "from keras.optimizers import Adam\n",
    "import pandas as pd\n",
    "import pickle\n",
    "from os import listdir\n",
    "import cv2\n",
    "import matplotlib.pyplot as plt\n",
    "import tensorflow.compat.v1 as tf\n",
    "\n",
    "sess = tf.Session(config=tf.ConfigProto(log_device_placement=True))"
   ]
  },
  {
   "cell_type": "code",
   "execution_count": 2,
   "metadata": {},
   "outputs": [],
   "source": [
    "# Helper functions\n",
    "\n",
    "def normalize(img):\n",
    "    min_val = np.min(img)\n",
    "    max_val = np.max(img)\n",
    "    return (img - min_val) / (max_val - min_val)\n",
    "\n",
    "def shuffle_in_unison(x, y, seed):\n",
    "    assert len(x) == len(y)\n",
    "    np.random.seed(seed)\n",
    "    p = np.random.permutation(len(x))\n",
    "    return x[p], y[p]\n",
    "\n",
    "class WeightsSaver(Callback):\n",
    "    def __init__(self, init_epoch, N, frozen):\n",
    "        self.N = N\n",
    "        self.frozen = frozen\n",
    "        self.epoch = init_epoch\n",
    "    \n",
    "    def on_epoch_end(self, epoch, logs={}):\n",
    "        if self.epoch % self.N == 0:\n",
    "            if self.frozen:\n",
    "                name = 'weights/weights%08d_frozen.h5' % self.epoch\n",
    "            else:\n",
    "                name = 'weights/weights%08d.h5' % self.epoch\n",
    "            self.model.save_weights(name)\n",
    "        self.epoch += 1"
   ]
  },
  {
   "cell_type": "code",
   "execution_count": 3,
   "metadata": {},
   "outputs": [],
   "source": [
    "# Read labels\n",
    "\n",
    "train_df = pd.read_csv('../data/trainLabels.csv', engine='python')"
   ]
  },
  {
   "cell_type": "code",
   "execution_count": 40,
   "metadata": {},
   "outputs": [],
   "source": [
    "# chosen model\n",
    "chosen_model_no = 1\n",
    "resize = False\n",
    "\n",
    "no_examples = 50_000\n",
    "no_classes = 10\n",
    "if resize:\n",
    "    img_height = 32 * 2\n",
    "    img_width = 32 * 2\n",
    "else:\n",
    "    img_height = 32\n",
    "    img_width = 32\n",
    "vgg_height = 224\n",
    "vgg_width = 224\n",
    "img_channels = 3\n",
    "path_to_imgs = '../data/train/'"
   ]
  },
  {
   "cell_type": "code",
   "execution_count": 5,
   "metadata": {},
   "outputs": [],
   "source": [
    "# Read images and append them to train_df\n",
    "\n",
    "img_df = np.zeros((no_examples, img_height, img_width, img_channels))\n",
    "for img_name in listdir(path_to_imgs):\n",
    "    no = int(img_name.split('.')[0]) - 1\n",
    "    img = load_img(path_to_imgs + img_name, target_size=(img_height, img_width))\n",
    "    img = img_to_array(img)\n",
    "    img = preprocess_input(img)\n",
    "    img_df[no] = img\n"
   ]
  },
  {
   "cell_type": "code",
   "execution_count": 6,
   "metadata": {},
   "outputs": [],
   "source": [
    "# Let's replace labels with 0-9 numbers and do one-hot encoding\n",
    "\n",
    "labels_dict = list(pd.unique(train_df['label']))\n",
    "labels_dict = dict(zip(labels_dict, range(no_classes)))\n",
    "labels = np.zeros((no_examples, no_classes))\n",
    "for i, elem in enumerate(train_df['label']):\n",
    "    labels[i][labels_dict[elem]] = 1\n",
    "    \n",
    "# Shuffle datasets\n",
    "img_df, labels = shuffle_in_unison(img_df, labels, seed=1)\n",
    "train_img = img_df[:40000]\n",
    "validation_img = img_df[40000:]\n",
    "train_labels = labels[:40000]\n",
    "validation_labels = labels[40000:]"
   ]
  },
  {
   "cell_type": "code",
   "execution_count": 7,
   "metadata": {},
   "outputs": [],
   "source": [
    "# Data generator to improve data\n",
    "train_gen = ImageDataGenerator(\n",
    "    width_shift_range=0.1,\n",
    "    height_shift_range=0.1,\n",
    "    horizontal_flip=True)\n",
    "\n",
    "validation_gen = ImageDataGenerator(\n",
    "    width_shift_range=0.1,\n",
    "    height_shift_range=0.1,\n",
    "    horizontal_flip=True)\n",
    "\n",
    "train_gen.fit(train_img)\n",
    "validation_gen.fit(validation_img)"
   ]
  },
  {
   "cell_type": "code",
   "execution_count": 41,
   "metadata": {
    "scrolled": true
   },
   "outputs": [
    {
     "name": "stdout",
     "output_type": "stream",
     "text": [
      "Model: \"sequential_8\"\n",
      "_________________________________________________________________\n",
      "Layer (type)                 Output Shape              Param #   \n",
      "=================================================================\n",
      "block1_conv1 (Conv2D)        (None, 32, 32, 64)        1792      \n",
      "_________________________________________________________________\n",
      "block1_conv2 (Conv2D)        (None, 32, 32, 64)        36928     \n",
      "_________________________________________________________________\n",
      "block1_pool (MaxPooling2D)   (None, 16, 16, 64)        0         \n",
      "_________________________________________________________________\n",
      "block2_conv1 (Conv2D)        (None, 16, 16, 128)       73856     \n",
      "_________________________________________________________________\n",
      "block2_conv2 (Conv2D)        (None, 16, 16, 128)       147584    \n",
      "_________________________________________________________________\n",
      "block2_pool (MaxPooling2D)   (None, 8, 8, 128)         0         \n",
      "_________________________________________________________________\n",
      "block3_conv1 (Conv2D)        (None, 8, 8, 256)         295168    \n",
      "_________________________________________________________________\n",
      "block3_conv2 (Conv2D)        (None, 8, 8, 256)         590080    \n",
      "_________________________________________________________________\n",
      "block3_conv3 (Conv2D)        (None, 8, 8, 256)         590080    \n",
      "_________________________________________________________________\n",
      "block3_conv4 (Conv2D)        (None, 8, 8, 256)         590080    \n",
      "_________________________________________________________________\n",
      "block3_pool (MaxPooling2D)   (None, 4, 4, 256)         0         \n",
      "_________________________________________________________________\n",
      "block4_conv1 (Conv2D)        (None, 4, 4, 512)         1180160   \n",
      "_________________________________________________________________\n",
      "block4_conv2 (Conv2D)        (None, 4, 4, 512)         2359808   \n",
      "_________________________________________________________________\n",
      "block4_conv3 (Conv2D)        (None, 4, 4, 512)         2359808   \n",
      "_________________________________________________________________\n",
      "block4_conv4 (Conv2D)        (None, 4, 4, 512)         2359808   \n",
      "_________________________________________________________________\n",
      "block4_pool (MaxPooling2D)   (None, 2, 2, 512)         0         \n",
      "_________________________________________________________________\n",
      "block5_conv1 (Conv2D)        (None, 2, 2, 512)         2359808   \n",
      "_________________________________________________________________\n",
      "block5_conv2 (Conv2D)        (None, 2, 2, 512)         2359808   \n",
      "_________________________________________________________________\n",
      "block5_conv3 (Conv2D)        (None, 2, 2, 512)         2359808   \n",
      "_________________________________________________________________\n",
      "block5_conv4 (Conv2D)        (None, 2, 2, 512)         2359808   \n",
      "_________________________________________________________________\n",
      "block5_pool (MaxPooling2D)   (None, 1, 1, 512)         0         \n",
      "_________________________________________________________________\n",
      "flatten_6 (Flatten)          (None, 512)               0         \n",
      "_________________________________________________________________\n",
      "dense_16 (Dense)             (None, 4096)              2101248   \n",
      "_________________________________________________________________\n",
      "dense_17 (Dense)             (None, 4096)              16781312  \n",
      "_________________________________________________________________\n",
      "dense_18 (Dense)             (None, 10)                40970     \n",
      "=================================================================\n",
      "Total params: 38,947,914\n",
      "Trainable params: 18,923,530\n",
      "Non-trainable params: 20,024,384\n",
      "_________________________________________________________________\n"
     ]
    }
   ],
   "source": [
    "# Let's try to use VGG19 to make predictions on our set.\n",
    "# We replace dense layers in VGG19 with our own\n",
    "\n",
    "vgg19 = keras.applications.vgg19.VGG19(\n",
    "    weights='imagenet',\n",
    "    include_top=False,\n",
    "    input_shape=(img_height, img_width, img_channels))\n",
    "\n",
    "for layer in vgg19.layers:\n",
    "    layer.trainable = False\n",
    "\n",
    "model = Sequential(layers=vgg19.layers)\n",
    "\n",
    "if chosen_model_no == 1:\n",
    "    \n",
    "    model.add(Flatten())\n",
    "    model.add(Dense(4096, activation='relu'))\n",
    "    model.add(Dense(4096, activation='relu'))\n",
    "    model.add(Dense(10, activation='softmax'))\n",
    "    \n",
    "elif chosen_model_no == 2:\n",
    "\n",
    "    model.add(Flatten())\n",
    "    model.add(Dense(1024, activation='relu'))\n",
    "    model.add(Dense(512, activation='relu'))\n",
    "    model.add(Dense(10, activation='softmax'))\n",
    "\n",
    "opt = Adam(learning_rate=0.001, beta_1=0.9)\n",
    "model.compile(\n",
    "    loss='categorical_crossentropy',\n",
    "    optimizer=opt,\n",
    "    metrics=['accuracy'])\n",
    "model.summary()\n",
    "history = {'loss': [], 'val_loss': [], 'accuracy': [], 'val_accuracy': []}\n",
    "\n",
    "load_from_file = True\n",
    "if load_from_file:\n",
    "    model.load_weights('./network_4/weights/weights00000750.h5')\n",
    "    with open('network_4/trainHistory', 'rb') as file:\n",
    "        history = pickle.load(file)"
   ]
  },
  {
   "cell_type": "code",
   "execution_count": 10,
   "metadata": {
    "scrolled": true
   },
   "outputs": [
    {
     "name": "stdout",
     "output_type": "stream",
     "text": [
      "Epoch 1/30\n",
      "2500/2500 [==============================] - 139s 56ms/step - loss: 1.2757 - accuracy: 0.7079 - val_loss: 1.1020 - val_accuracy: 0.7295\n",
      "Epoch 2/30\n",
      "2500/2500 [==============================] - 130s 52ms/step - loss: 0.7316 - accuracy: 0.7622 - val_loss: 0.7227 - val_accuracy: 0.7612\n",
      "Epoch 3/30\n",
      "2500/2500 [==============================] - 125s 50ms/step - loss: 0.6619 - accuracy: 0.7855 - val_loss: 0.2535 - val_accuracy: 0.7615\n",
      "Epoch 4/30\n",
      "2500/2500 [==============================] - 124s 50ms/step - loss: 0.6265 - accuracy: 0.7981 - val_loss: 0.5046 - val_accuracy: 0.7758\n",
      "Epoch 5/30\n",
      "2500/2500 [==============================] - 124s 50ms/step - loss: 0.5866 - accuracy: 0.8124 - val_loss: 1.2140 - val_accuracy: 0.7597\n",
      "Epoch 6/30\n",
      "2500/2500 [==============================] - 127s 51ms/step - loss: 0.5610 - accuracy: 0.8217 - val_loss: 0.9260 - val_accuracy: 0.7849\n",
      "Epoch 7/30\n",
      "2500/2500 [==============================] - 130s 52ms/step - loss: 0.5279 - accuracy: 0.8324 - val_loss: 0.3966 - val_accuracy: 0.7822\n",
      "Epoch 8/30\n",
      "2500/2500 [==============================] - 126s 50ms/step - loss: 0.5027 - accuracy: 0.8410 - val_loss: 0.3831 - val_accuracy: 0.7761\n",
      "Epoch 9/30\n",
      "2500/2500 [==============================] - 128s 51ms/step - loss: 0.4834 - accuracy: 0.8491 - val_loss: 0.2528 - val_accuracy: 0.7889\n",
      "Epoch 10/30\n",
      "2500/2500 [==============================] - 131s 53ms/step - loss: 0.4552 - accuracy: 0.8580 - val_loss: 0.4495 - val_accuracy: 0.7860\n",
      "Epoch 11/30\n",
      "2500/2500 [==============================] - 130s 52ms/step - loss: 0.4374 - accuracy: 0.8650 - val_loss: 1.0397 - val_accuracy: 0.7770\n",
      "Epoch 12/30\n",
      "2500/2500 [==============================] - 129s 52ms/step - loss: 0.4242 - accuracy: 0.8724 - val_loss: 1.0574 - val_accuracy: 0.7914\n",
      "Epoch 13/30\n",
      "2500/2500 [==============================] - 131s 52ms/step - loss: 0.4110 - accuracy: 0.8766 - val_loss: 1.3397 - val_accuracy: 0.7969\n",
      "Epoch 14/30\n",
      "2500/2500 [==============================] - 123s 49ms/step - loss: 0.3865 - accuracy: 0.8850 - val_loss: 0.2000 - val_accuracy: 0.7935\n",
      "Epoch 15/30\n",
      "2500/2500 [==============================] - 123s 49ms/step - loss: 0.3615 - accuracy: 0.8914 - val_loss: 0.7995 - val_accuracy: 0.7810\n",
      "Epoch 16/30\n",
      "2500/2500 [==============================] - 123s 49ms/step - loss: 0.3553 - accuracy: 0.8938 - val_loss: 0.5719 - val_accuracy: 0.7882\n",
      "Epoch 17/30\n",
      "2500/2500 [==============================] - 123s 49ms/step - loss: 0.3483 - accuracy: 0.9005 - val_loss: 1.0724 - val_accuracy: 0.7956\n",
      "Epoch 18/30\n",
      "2500/2500 [==============================] - 125s 50ms/step - loss: 0.3420 - accuracy: 0.9015 - val_loss: 1.3069 - val_accuracy: 0.7951\n",
      "Epoch 19/30\n",
      "2500/2500 [==============================] - 123s 49ms/step - loss: 0.3222 - accuracy: 0.9071 - val_loss: 0.8781 - val_accuracy: 0.7913\n",
      "Epoch 20/30\n",
      "2500/2500 [==============================] - 124s 50ms/step - loss: 0.3183 - accuracy: 0.9126 - val_loss: 0.8208 - val_accuracy: 0.7945\n",
      "Epoch 21/30\n",
      "2500/2500 [==============================] - 126s 50ms/step - loss: 0.3158 - accuracy: 0.9131 - val_loss: 1.2002 - val_accuracy: 0.7936\n",
      "Epoch 22/30\n",
      "2500/2500 [==============================] - 129s 52ms/step - loss: 0.3184 - accuracy: 0.9143 - val_loss: 0.8253 - val_accuracy: 0.7963\n",
      "Epoch 23/30\n",
      "2500/2500 [==============================] - 129s 52ms/step - loss: 0.2987 - accuracy: 0.9172 - val_loss: 0.8349 - val_accuracy: 0.7906\n",
      "Epoch 24/30\n",
      "2500/2500 [==============================] - 127s 51ms/step - loss: 0.2927 - accuracy: 0.9209 - val_loss: 0.9884 - val_accuracy: 0.7921\n",
      "Epoch 25/30\n",
      "2500/2500 [==============================] - 124s 50ms/step - loss: 0.2847 - accuracy: 0.9229 - val_loss: 1.7929 - val_accuracy: 0.7869\n",
      "Epoch 26/30\n",
      "2500/2500 [==============================] - 123s 49ms/step - loss: 0.2816 - accuracy: 0.9243 - val_loss: 1.2060 - val_accuracy: 0.7905\n",
      "Epoch 27/30\n",
      "2500/2500 [==============================] - 123s 49ms/step - loss: 0.2779 - accuracy: 0.9260 - val_loss: 1.4302 - val_accuracy: 0.7836\n",
      "Epoch 28/30\n",
      "2500/2500 [==============================] - 123s 49ms/step - loss: 0.2817 - accuracy: 0.9273 - val_loss: 0.4562 - val_accuracy: 0.8004\n",
      "Epoch 29/30\n",
      "2500/2500 [==============================] - 123s 49ms/step - loss: 0.2656 - accuracy: 0.9300 - val_loss: 1.2466 - val_accuracy: 0.7877\n",
      "Epoch 30/30\n",
      "2500/2500 [==============================] - 123s 49ms/step - loss: 0.2643 - accuracy: 0.9326 - val_loss: 0.6620 - val_accuracy: 0.7965\n"
     ]
    }
   ],
   "source": [
    "# Training frozen model\n",
    "current_history = model.fit_generator(\n",
    "    train_gen.flow(train_img, train_labels, batch_size=16),\n",
    "    validation_data = validation_gen.flow(\n",
    "        validation_img,\n",
    "        validation_labels,\n",
    "        batch_size=16),\n",
    "    validation_steps = 10_000 // 16,\n",
    "    initial_epoch=0,\n",
    "    epochs=30,\n",
    "    callbacks=[WeightsSaver(0, 50, False)])\n",
    "\n",
    "history['val_loss'] += current_history.history['val_loss']\n",
    "history['loss'] += current_history.history['loss']\n",
    "history['val_accuracy'] += current_history.history['val_accuracy']\n",
    "history['accuracy'] += current_history.history['accuracy']\n",
    "history_path = './trainHistory'\n",
    "with open(history_path, 'wb') as hist_file:\n",
    "        pickle.dump(history, hist_file)"
   ]
  },
  {
   "cell_type": "code",
   "execution_count": 32,
   "metadata": {},
   "outputs": [
    {
     "data": {
      "image/png": "[encoded data removed]",
      "text/plain": [
       "<Figure size 432x288 with 1 Axes>"
      ]
     },
     "metadata": {
      "needs_background": "light"
     },
     "output_type": "display_data"
    },
    {
     "data": {
      "image/png": "[encoded data removed]",
      "text/plain": [
       "<Figure size 432x288 with 1 Axes>"
      ]
     },
     "metadata": {
      "needs_background": "light"
     },
     "output_type": "display_data"
    },
    {
     "name": "stdout",
     "output_type": "stream",
     "text": [
      "{'loss': [1.6388405944943427, 1.1918880759000778, 1.1127592220067979, 1.0567858432590962, 1.0186837859272957, 0.985237530708313, 0.946644791418314, 0.9183898434937, 0.8836461424648762, 0.8491479009509086, 0.8238249614179134, 0.7917937982916832, 0.7700229937076568, 0.7505630796909333, 0.7277378197431564, 0.7017176034361124, 0.6895255909830332, 0.6591459463447332, 0.6503058443680405, 0.6367497521877289, 0.6083506468698382, 0.6015356517888606, 0.5850625180482865, 0.5748105888620019, 0.564925491809845, 0.5426873738616705, 0.5343481600955129, 0.5282365966901184, 0.5108596836291254, 0.5039945601459592], 'val_loss': [1.3753129243850708, 0.6271222829818726, 0.7861250638961792, 0.7579721212387085, 0.3664502799510956, 1.6641755104064941, 1.3148823976516724, 1.1078522205352783, 1.000890851020813, 1.4726979732513428, 0.8967150449752808, 1.8111391067504883, 1.1369255781173706, 1.4747602939605713, 1.4549086093902588, 0.633115828037262, 1.5224523544311523, 1.2397961616516113, 1.1980681419372559, 1.5247609615325928, 1.6673327684402466, 1.0708167552947998, 0.49996769428253174, 0.8562505841255188, 1.411808967590332, 1.0393142700195312, 1.3943545818328857, 0.990104079246521, 1.4092872142791748, 0.9775755405426025], 'accuracy': [0.5344, 0.59245, 0.62045, 0.640475, 0.6517, 0.667, 0.67515, 0.68825, 0.698675, 0.7125, 0.7207, 0.733875, 0.74205, 0.74975, 0.758325, 0.7652, 0.771675, 0.781775, 0.786975, 0.788575, 0.798825, 0.803625, 0.809475, 0.812925, 0.819875, 0.823625, 0.8294, 0.8314, 0.836675, 0.843075], 'val_accuracy': [0.560699999332428, 0.5846999883651733, 0.6118999719619751, 0.6119999885559082, 0.600600004196167, 0.6177999973297119, 0.6258000135421753, 0.6288999915122986, 0.6274999976158142, 0.625, 0.6291999816894531, 0.6320000290870667, 0.6277999877929688, 0.631600022315979, 0.6292999982833862, 0.625, 0.6276999711990356, 0.6262999773025513, 0.6194000244140625, 0.629800021648407, 0.6295999884605408, 0.6195999979972839, 0.6273999810218811, 0.6233999729156494, 0.6198999881744385, 0.6223999857902527, 0.6208000183105469, 0.6241999864578247, 0.6180999875068665, 0.6097999811172485]}\n"
     ]
    }
   ],
   "source": [
    "plt.plot(history['loss'], label='train loss')\n",
    "plt.plot(history['val_loss'], label='validation loss')\n",
    "plt.legend()\n",
    "plt.show()\n",
    "\n",
    "plt.plot(history['accuracy'], label='train accuracy')\n",
    "plt.plot(history['val_accuracy'], label='validation accuracy')\n",
    "plt.legend()\n",
    "plt.show()\n",
    "\n",
    "print(history)"
   ]
  },
  {
   "cell_type": "code",
   "execution_count": 42,
   "metadata": {
    "scrolled": true
   },
   "outputs": [
    {
     "name": "stdout",
     "output_type": "stream",
     "text": [
      "Model: \"sequential_9\"\n",
      "_________________________________________________________________\n",
      "Layer (type)                 Output Shape              Param #   \n",
      "=================================================================\n",
      "block1_conv1 (Conv2D)        (None, 32, 32, 64)        1792      \n",
      "_________________________________________________________________\n",
      "block1_conv2 (Conv2D)        (None, 32, 32, 64)        36928     \n",
      "_________________________________________________________________\n",
      "block1_pool (MaxPooling2D)   (None, 16, 16, 64)        0         \n",
      "_________________________________________________________________\n",
      "block2_conv1 (Conv2D)        (None, 16, 16, 128)       73856     \n",
      "_________________________________________________________________\n",
      "block2_conv2 (Conv2D)        (None, 16, 16, 128)       147584    \n",
      "_________________________________________________________________\n",
      "block2_pool (MaxPooling2D)   (None, 8, 8, 128)         0         \n",
      "_________________________________________________________________\n",
      "block3_conv1 (Conv2D)        (None, 8, 8, 256)         295168    \n",
      "_________________________________________________________________\n",
      "block3_conv2 (Conv2D)        (None, 8, 8, 256)         590080    \n",
      "_________________________________________________________________\n",
      "block3_conv3 (Conv2D)        (None, 8, 8, 256)         590080    \n",
      "_________________________________________________________________\n",
      "block3_conv4 (Conv2D)        (None, 8, 8, 256)         590080    \n",
      "_________________________________________________________________\n",
      "block3_pool (MaxPooling2D)   (None, 4, 4, 256)         0         \n",
      "_________________________________________________________________\n",
      "block4_conv1 (Conv2D)        (None, 4, 4, 512)         1180160   \n",
      "_________________________________________________________________\n",
      "block4_conv2 (Conv2D)        (None, 4, 4, 512)         2359808   \n",
      "_________________________________________________________________\n",
      "block4_conv3 (Conv2D)        (None, 4, 4, 512)         2359808   \n",
      "_________________________________________________________________\n",
      "block4_conv4 (Conv2D)        (None, 4, 4, 512)         2359808   \n",
      "_________________________________________________________________\n",
      "block4_pool (MaxPooling2D)   (None, 2, 2, 512)         0         \n",
      "_________________________________________________________________\n",
      "block5_conv1 (Conv2D)        (None, 2, 2, 512)         2359808   \n",
      "_________________________________________________________________\n",
      "block5_conv2 (Conv2D)        (None, 2, 2, 512)         2359808   \n",
      "_________________________________________________________________\n",
      "block5_conv3 (Conv2D)        (None, 2, 2, 512)         2359808   \n",
      "_________________________________________________________________\n",
      "block5_conv4 (Conv2D)        (None, 2, 2, 512)         2359808   \n",
      "_________________________________________________________________\n",
      "block5_pool (MaxPooling2D)   (None, 1, 1, 512)         0         \n",
      "_________________________________________________________________\n",
      "flatten_6 (Flatten)          (None, 512)               0         \n",
      "_________________________________________________________________\n",
      "dense_16 (Dense)             (None, 4096)              2101248   \n",
      "_________________________________________________________________\n",
      "dense_17 (Dense)             (None, 4096)              16781312  \n",
      "_________________________________________________________________\n",
      "dense_18 (Dense)             (None, 10)                40970     \n",
      "=================================================================\n",
      "Total params: 38,947,914\n",
      "Trainable params: 38,947,914\n",
      "Non-trainable params: 0\n",
      "_________________________________________________________________\n"
     ]
    }
   ],
   "source": [
    "# Let's unfreeze vgg layers and train again\n",
    "for layer in vgg19.layers:\n",
    "    layer.trainable = True\n",
    "\n",
    "unfrozen_model = Sequential(layers=model.layers)\n",
    "unfrozen_model.build((None, img_height, img_width, img_channels))\n",
    "opt = Adam(learning_rate=0.00001, beta_1=0.9)\n",
    "unfrozen_model.compile(\n",
    "    loss='categorical_crossentropy',\n",
    "    optimizer=opt,\n",
    "    metrics=['accuracy'])\n",
    "unfrozen_model.summary()"
   ]
  },
  {
   "cell_type": "code",
   "execution_count": 21,
   "metadata": {},
   "outputs": [
    {
     "name": "stdout",
     "output_type": "stream",
     "text": [
      "Epoch 112/151\n",
      "2500/2500 [==============================] - 280s 112ms/step - loss: 0.0188 - accuracy: 0.9948 - val_loss: 1.1482 - val_accuracy: 0.9214\n",
      "Epoch 113/151\n",
      "2500/2500 [==============================] - 278s 111ms/step - loss: 0.0173 - accuracy: 0.9952 - val_loss: 0.0331 - val_accuracy: 0.9181\n",
      "Epoch 114/151\n",
      "2500/2500 [==============================] - 276s 110ms/step - loss: 0.0179 - accuracy: 0.9954 - val_loss: 0.3014 - val_accuracy: 0.9226\n",
      "Epoch 115/151\n",
      "2500/2500 [==============================] - 276s 110ms/step - loss: 0.0172 - accuracy: 0.9950 - val_loss: 0.9027 - val_accuracy: 0.9200\n",
      "Epoch 116/151\n",
      "2500/2500 [==============================] - 276s 110ms/step - loss: 0.0156 - accuracy: 0.9955 - val_loss: 0.5903 - val_accuracy: 0.9213\n",
      "Epoch 117/151\n",
      "2500/2500 [==============================] - 276s 110ms/step - loss: 0.0186 - accuracy: 0.9952 - val_loss: 1.3953 - val_accuracy: 0.9201\n",
      "Epoch 118/151\n",
      "2500/2500 [==============================] - 274s 110ms/step - loss: 0.0218 - accuracy: 0.9939 - val_loss: 0.2514 - val_accuracy: 0.9132\n",
      "Epoch 119/151\n",
      "2500/2500 [==============================] - 274s 110ms/step - loss: 0.0159 - accuracy: 0.9952 - val_loss: 0.1614 - val_accuracy: 0.9230\n",
      "Epoch 120/151\n",
      "2500/2500 [==============================] - 274s 110ms/step - loss: 0.0156 - accuracy: 0.9955 - val_loss: 0.1684 - val_accuracy: 0.9174\n",
      "Epoch 121/151\n",
      "2500/2500 [==============================] - 274s 110ms/step - loss: 0.0129 - accuracy: 0.9959 - val_loss: 0.6925 - val_accuracy: 0.9231\n",
      "Epoch 122/151\n",
      "2500/2500 [==============================] - 274s 110ms/step - loss: 0.0162 - accuracy: 0.9953 - val_loss: 0.1265 - val_accuracy: 0.9181\n",
      "Epoch 123/151\n",
      "2500/2500 [==============================] - 274s 110ms/step - loss: 0.0186 - accuracy: 0.9946 - val_loss: 0.3385 - val_accuracy: 0.9218\n",
      "Epoch 124/151\n",
      "2500/2500 [==============================] - 274s 110ms/step - loss: 0.0141 - accuracy: 0.9962 - val_loss: 1.3909 - val_accuracy: 0.9130\n",
      "Epoch 125/151\n",
      "2500/2500 [==============================] - 274s 110ms/step - loss: 0.0191 - accuracy: 0.9949 - val_loss: 0.3543 - val_accuracy: 0.9136\n",
      "Epoch 126/151\n",
      "2500/2500 [==============================] - 274s 110ms/step - loss: 0.0145 - accuracy: 0.9958 - val_loss: 0.0776 - val_accuracy: 0.9231\n",
      "Epoch 127/151\n",
      "2500/2500 [==============================] - 274s 110ms/step - loss: 0.0166 - accuracy: 0.9952 - val_loss: 0.5493 - val_accuracy: 0.9214\n",
      "Epoch 128/151\n",
      "2500/2500 [==============================] - 274s 110ms/step - loss: 0.0175 - accuracy: 0.9953 - val_loss: 0.2404 - val_accuracy: 0.9193\n",
      "Epoch 129/151\n",
      "2500/2500 [==============================] - 274s 110ms/step - loss: 0.0164 - accuracy: 0.9958 - val_loss: 0.0028 - val_accuracy: 0.9245\n",
      "Epoch 130/151\n",
      "2500/2500 [==============================] - 274s 110ms/step - loss: 0.0164 - accuracy: 0.9953 - val_loss: 0.0987 - val_accuracy: 0.9253\n",
      "Epoch 131/151\n",
      "2500/2500 [==============================] - 275s 110ms/step - loss: 0.0126 - accuracy: 0.9962 - val_loss: 0.0036 - val_accuracy: 0.9238\n",
      "Epoch 132/151\n",
      "2500/2500 [==============================] - 274s 110ms/step - loss: 0.0160 - accuracy: 0.9955 - val_loss: 1.0661e-04 - val_accuracy: 0.9207\n",
      "Epoch 133/151\n",
      "2500/2500 [==============================] - 274s 110ms/step - loss: 0.0159 - accuracy: 0.9957 - val_loss: 4.0085e-04 - val_accuracy: 0.9255\n",
      "Epoch 134/151\n",
      "2500/2500 [==============================] - 274s 110ms/step - loss: 0.0172 - accuracy: 0.9952 - val_loss: 0.2266 - val_accuracy: 0.9157\n",
      "Epoch 135/151\n",
      "2500/2500 [==============================] - 274s 110ms/step - loss: 0.0163 - accuracy: 0.9956 - val_loss: 0.4905 - val_accuracy: 0.9235\n",
      "Epoch 136/151\n",
      "2500/2500 [==============================] - 274s 110ms/step - loss: 0.0177 - accuracy: 0.9958 - val_loss: 0.0071 - val_accuracy: 0.9189\n",
      "Epoch 137/151\n",
      "2500/2500 [==============================] - 274s 110ms/step - loss: 0.0143 - accuracy: 0.9961 - val_loss: 2.0174 - val_accuracy: 0.9277\n",
      "Epoch 138/151\n",
      "2500/2500 [==============================] - 274s 110ms/step - loss: 0.0127 - accuracy: 0.9962 - val_loss: 4.4181e-06 - val_accuracy: 0.9255\n",
      "Epoch 139/151\n",
      "2500/2500 [==============================] - 274s 110ms/step - loss: 0.0180 - accuracy: 0.9953 - val_loss: 0.2098 - val_accuracy: 0.9201\n",
      "Epoch 140/151\n",
      "2500/2500 [==============================] - 274s 110ms/step - loss: 0.0124 - accuracy: 0.9963 - val_loss: 0.1729 - val_accuracy: 0.9217\n",
      "Epoch 141/151\n",
      "2500/2500 [==============================] - 274s 110ms/step - loss: 0.0160 - accuracy: 0.9958 - val_loss: 0.1127 - val_accuracy: 0.9171\n",
      "Epoch 142/151\n",
      "2500/2500 [==============================] - 274s 110ms/step - loss: 0.0128 - accuracy: 0.9966 - val_loss: 2.2707 - val_accuracy: 0.9203\n",
      "Epoch 143/151\n",
      "2500/2500 [==============================] - 274s 110ms/step - loss: 0.0163 - accuracy: 0.9956 - val_loss: 1.8761e-04 - val_accuracy: 0.9236\n",
      "Epoch 144/151\n",
      "2500/2500 [==============================] - 274s 110ms/step - loss: 0.0149 - accuracy: 0.9957 - val_loss: 0.3736 - val_accuracy: 0.9200\n",
      "Epoch 145/151\n",
      "2500/2500 [==============================] - 274s 110ms/step - loss: 0.0136 - accuracy: 0.9966 - val_loss: 1.2733 - val_accuracy: 0.9161\n",
      "Epoch 146/151\n",
      "2500/2500 [==============================] - 274s 110ms/step - loss: 0.0176 - accuracy: 0.9957 - val_loss: 0.7352 - val_accuracy: 0.9185\n",
      "Epoch 147/151\n",
      "2500/2500 [==============================] - 274s 110ms/step - loss: 0.0111 - accuracy: 0.9969 - val_loss: 1.3908e-04 - val_accuracy: 0.9181\n",
      "Epoch 148/151\n",
      "2500/2500 [==============================] - 274s 110ms/step - loss: 0.0161 - accuracy: 0.9956 - val_loss: 0.2492 - val_accuracy: 0.9198\n",
      "Epoch 149/151\n",
      "2500/2500 [==============================] - 275s 110ms/step - loss: 0.0129 - accuracy: 0.9966 - val_loss: 0.9718 - val_accuracy: 0.9195\n",
      "Epoch 150/151\n",
      "2500/2500 [==============================] - 281s 112ms/step - loss: 0.0129 - accuracy: 0.9964 - val_loss: 0.3864 - val_accuracy: 0.9116\n",
      "Epoch 151/151\n",
      "2500/2500 [==============================] - 284s 114ms/step - loss: 0.0162 - accuracy: 0.9958 - val_loss: 2.3812e-04 - val_accuracy: 0.9192\n"
     ]
    }
   ],
   "source": [
    "current_history = unfrozen_model.fit_generator(\n",
    "    train_gen.flow(train_img, train_labels, batch_size=16),\n",
    "    validation_data = validation_gen.flow(\n",
    "        validation_img,\n",
    "        validation_labels,\n",
    "        batch_size=16),\n",
    "    validation_steps = 10_000 // 16,\n",
    "    initial_epoch=111,\n",
    "    epochs=151,\n",
    "    callbacks=[WeightsSaver(111, 50, False)])\n",
    "\n",
    "history['val_loss'] += current_history.history['val_loss']\n",
    "history['loss'] += current_history.history['loss']\n",
    "history['val_accuracy'] += current_history.history['val_accuracy']\n",
    "history['accuracy'] += current_history.history['accuracy']\n",
    "history_path = './trainHistory'\n",
    "with open(history_path, 'wb') as hist_file:\n",
    "        pickle.dump(history, hist_file)"
   ]
  },
  {
   "cell_type": "code",
   "execution_count": 39,
   "metadata": {},
   "outputs": [
    {
     "data": {
      "image/png": "[encoded data removed]",
      "text/plain": [
       "<Figure size 432x288 with 1 Axes>"
      ]
     },
     "metadata": {
      "needs_background": "light"
     },
     "output_type": "display_data"
    },
    {
     "data": {
      "image/png": "[encoded data removed]",
      "text/plain": [
       "<Figure size 432x288 with 1 Axes>"
      ]
     },
     "metadata": {
      "needs_background": "light"
     },
     "output_type": "display_data"
    }
   ],
   "source": [
    "plt.plot(history['loss'], label='train loss')\n",
    "plt.plot(history['val_loss'], label='validation loss')\n",
    "plt.legend()\n",
    "plt.show()\n",
    "\n",
    "plt.plot(history['accuracy'], label='train accuracy')\n",
    "plt.plot(history['val_accuracy'], label='validation accuracy')\n",
    "plt.legend()\n",
    "plt.show()"
   ]
  },
  {
   "cell_type": "code",
   "execution_count": 18,
   "metadata": {},
   "outputs": [],
   "source": []
  },
  {
   "cell_type": "code",
   "execution_count": 43,
   "metadata": {},
   "outputs": [
    {
     "name": "stdout",
     "output_type": "stream",
     "text": [
      "iteration 300000/300000"
     ]
    }
   ],
   "source": [
    "# Check results on test set\n",
    "path_to_imgs_test = '../data/test/'\n",
    "def get_test_predictions(model, path):\n",
    "    no_examples_test = 300_000\n",
    "    predictions = np.zeros((no_examples_test, 1), dtype=int)\n",
    "    i = 0\n",
    "    for img_name in listdir(path):\n",
    "        no = int(img_name.split('.')[0]) - 1\n",
    "        img = load_img(path + img_name, target_size=(img_height, img_width))\n",
    "        img = img_to_array(img)\n",
    "        img = preprocess_input(img)\n",
    "        predictions[no] = np.argmax(model.predict(img[None, :, :, :]), axis=1)\n",
    "        i += 1\n",
    "        if i % 100 == 0:\n",
    "            print(f'\\riteration {i}/{no_examples_test}', end='')\n",
    "    return predictions\n",
    "\n",
    "results = get_test_predictions(unfrozen_model, path_to_imgs_test)"
   ]
  },
  {
   "cell_type": "code",
   "execution_count": 44,
   "metadata": {},
   "outputs": [],
   "source": [
    "# Save results as csv\n",
    "\n",
    "label_decoder = [\n",
    "    'frog',\n",
    "    'truck',\n",
    "    'deer',\n",
    "    'automobile',\n",
    "    'bird',\n",
    "    'horse',\n",
    "    'ship',\n",
    "    'cat',\n",
    "    'dog',\n",
    "    'airplane'\n",
    "]\n",
    "results_encoded = [label_decoder[i] for i in results.flatten()]\n",
    "results_df = pd.DataFrame(results_encoded)\n",
    "results_df.columns = ['label']\n",
    "results_df.index.name = 'id'\n",
    "results_df.index += 1\n",
    "results_df.to_csv('results.csv')"
   ]
  },
  {
   "cell_type": "code",
   "execution_count": 34,
   "metadata": {},
   "outputs": [],
   "source": []
  },
  {
   "cell_type": "code",
   "execution_count": null,
   "metadata": {},
   "outputs": [],
   "source": []
  },
  {
   "cell_type": "code",
   "execution_count": 36,
   "metadata": {},
   "outputs": [],
   "source": []
  },
  {
   "cell_type": "code",
   "execution_count": null,
   "metadata": {},
   "outputs": [],
   "source": []
  },
  {
   "cell_type": "code",
   "execution_count": null,
   "metadata": {},
   "outputs": [],
   "source": []
  }
 ],
 "metadata": {
  "kernelspec": {
   "display_name": "Python 3",
   "language": "python",
   "name": "python3"
  },
  "language_info": {
   "codemirror_mode": {
    "name": "ipython",
    "version": 3
   },
   "file_extension": ".py",
   "mimetype": "text/x-python",
   "name": "python",
   "nbconvert_exporter": "python",
   "pygments_lexer": "ipython3",
   "version": "3.7.5"
  }
 },
 "nbformat": 4,
 "nbformat_minor": 2
}
