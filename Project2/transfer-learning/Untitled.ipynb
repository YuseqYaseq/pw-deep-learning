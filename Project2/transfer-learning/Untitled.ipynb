{
 "cells": [
  {
   "cell_type": "code",
   "execution_count": 1,
   "metadata": {},
   "outputs": [
    {
     "name": "stderr",
     "output_type": "stream",
     "text": [
      "d:\\apps\\python 3.7.2\\lib\\site-packages\\numpy\\core\\__init__.py:29: UserWarning: loaded more than 1 DLL from .libs:\n",
      "d:\\apps\\python 3.7.2\\lib\\site-packages\\numpy\\.libs\\libopenblas.IPBC74C7KURV7CB2PKT5Z5FNR3SIBV4J.gfortran-win_amd64.dll\n",
      "d:\\apps\\python 3.7.2\\lib\\site-packages\\numpy\\.libs\\libopenblas.TXA6YQSD3GCQQC22GEQ54J2UDCXDXHWN.gfortran-win_amd64.dll\n",
      "  stacklevel=1)\n",
      "Using TensorFlow backend.\n"
     ]
    }
   ],
   "source": [
    "import numpy as np\n",
    "import keras\n",
    "from keras import Sequential\n",
    "from keras.layers import Dense, Flatten\n",
    "from keras.preprocessing.image import load_img, img_to_array\n",
    "from keras.applications.vgg19 import preprocess_input, decode_predictions\n",
    "import pandas as pd\n",
    "from os import listdir\n",
    "import cv2\n",
    "import matplotlib.pyplot as plt"
   ]
  },
  {
   "cell_type": "code",
   "execution_count": 2,
   "metadata": {},
   "outputs": [],
   "source": [
    "# Helper functions\n",
    "\n",
    "def normalize(img):\n",
    "    min_val = np.min(img)\n",
    "    max_val = np.max(img)\n",
    "    return (img - min_val) / (max_val - min_val)\n"
   ]
  },
  {
   "cell_type": "code",
   "execution_count": 3,
   "metadata": {},
   "outputs": [],
   "source": [
    "# Read labels\n",
    "\n",
    "train_df = pd.read_csv('../data/trainLabels.csv', engine='python')"
   ]
  },
  {
   "cell_type": "code",
   "execution_count": 4,
   "metadata": {},
   "outputs": [],
   "source": [
    "# Read images and append them to train_df\n",
    "\n",
    "no_examples = 50_000\n",
    "no_classes = 10\n",
    "img_height = 32\n",
    "img_width = 32\n",
    "vgg_height = 224\n",
    "vgg_width = 224\n",
    "img_channels = 3\n",
    "path_to_imgs = '../data/train/'\n",
    "\n",
    "img_df = np.zeros((no_examples, img_height, img_width, img_channels))\n",
    "for img_name in listdir(path_to_imgs):\n",
    "    no = int(img_name.split('.')[0]) - 1\n",
    "    img = load_img(path_to_imgs + img_name, target_size=(img_height, img_width))\n",
    "    img = img_to_array(img)\n",
    "    img = preprocess_input(img)\n",
    "    img_df[no] = img\n"
   ]
  },
  {
   "cell_type": "code",
   "execution_count": 5,
   "metadata": {},
   "outputs": [],
   "source": [
    "# Let's replace labels with 0-9 numbers and do one-hot encoding\n",
    "\n",
    "labels_dict = list(pd.unique(train_df['label']))\n",
    "labels_dict = dict(zip(labels_dict, range(no_classes)))\n",
    "labels = np.zeros((no_examples, no_classes))\n",
    "for i, elem in enumerate(train_df['label']):\n",
    "    labels[i][labels_dict[elem]] = 1"
   ]
  },
  {
   "cell_type": "code",
   "execution_count": 6,
   "metadata": {
    "scrolled": false
   },
   "outputs": [
    {
     "name": "stderr",
     "output_type": "stream",
     "text": [
      "WARNING: Logging before flag parsing goes to stderr.\n",
      "W0413 22:44:58.652997 13540 deprecation_wrapper.py:119] From d:\\apps\\python 3.7.2\\lib\\site-packages\\keras\\backend\\tensorflow_backend.py:74: The name tf.get_default_graph is deprecated. Please use tf.compat.v1.get_default_graph instead.\n",
      "\n",
      "W0413 22:44:59.349771 13540 deprecation_wrapper.py:119] From d:\\apps\\python 3.7.2\\lib\\site-packages\\keras\\backend\\tensorflow_backend.py:517: The name tf.placeholder is deprecated. Please use tf.compat.v1.placeholder instead.\n",
      "\n",
      "W0413 22:44:59.639349 13540 deprecation_wrapper.py:119] From d:\\apps\\python 3.7.2\\lib\\site-packages\\keras\\backend\\tensorflow_backend.py:4138: The name tf.random_uniform is deprecated. Please use tf.random.uniform instead.\n",
      "\n",
      "W0413 22:45:00.057705 13540 deprecation_wrapper.py:119] From d:\\apps\\python 3.7.2\\lib\\site-packages\\keras\\backend\\tensorflow_backend.py:3976: The name tf.nn.max_pool is deprecated. Please use tf.nn.max_pool2d instead.\n",
      "\n",
      "W0413 22:45:00.874514 13540 deprecation_wrapper.py:119] From d:\\apps\\python 3.7.2\\lib\\site-packages\\keras\\backend\\tensorflow_backend.py:174: The name tf.get_default_session is deprecated. Please use tf.compat.v1.get_default_session instead.\n",
      "\n",
      "W0413 22:45:00.875517 13540 deprecation_wrapper.py:119] From d:\\apps\\python 3.7.2\\lib\\site-packages\\keras\\backend\\tensorflow_backend.py:181: The name tf.ConfigProto is deprecated. Please use tf.compat.v1.ConfigProto instead.\n",
      "\n",
      "W0413 22:45:14.940052 13540 deprecation_wrapper.py:119] From d:\\apps\\python 3.7.2\\lib\\site-packages\\keras\\optimizers.py:790: The name tf.train.Optimizer is deprecated. Please use tf.compat.v1.train.Optimizer instead.\n",
      "\n"
     ]
    },
    {
     "name": "stdout",
     "output_type": "stream",
     "text": [
      "_________________________________________________________________\n",
      "Layer (type)                 Output Shape              Param #   \n",
      "=================================================================\n",
      "block1_conv1 (Conv2D)        (None, 32, 32, 64)        1792      \n",
      "_________________________________________________________________\n",
      "block1_conv2 (Conv2D)        (None, 32, 32, 64)        36928     \n",
      "_________________________________________________________________\n",
      "block1_pool (MaxPooling2D)   (None, 16, 16, 64)        0         \n",
      "_________________________________________________________________\n",
      "block2_conv1 (Conv2D)        (None, 16, 16, 128)       73856     \n",
      "_________________________________________________________________\n",
      "block2_conv2 (Conv2D)        (None, 16, 16, 128)       147584    \n",
      "_________________________________________________________________\n",
      "block2_pool (MaxPooling2D)   (None, 8, 8, 128)         0         \n",
      "_________________________________________________________________\n",
      "block3_conv1 (Conv2D)        (None, 8, 8, 256)         295168    \n",
      "_________________________________________________________________\n",
      "block3_conv2 (Conv2D)        (None, 8, 8, 256)         590080    \n",
      "_________________________________________________________________\n",
      "block3_conv3 (Conv2D)        (None, 8, 8, 256)         590080    \n",
      "_________________________________________________________________\n",
      "block3_conv4 (Conv2D)        (None, 8, 8, 256)         590080    \n",
      "_________________________________________________________________\n",
      "block3_pool (MaxPooling2D)   (None, 4, 4, 256)         0         \n",
      "_________________________________________________________________\n",
      "block4_conv1 (Conv2D)        (None, 4, 4, 512)         1180160   \n",
      "_________________________________________________________________\n",
      "block4_conv2 (Conv2D)        (None, 4, 4, 512)         2359808   \n",
      "_________________________________________________________________\n",
      "block4_conv3 (Conv2D)        (None, 4, 4, 512)         2359808   \n",
      "_________________________________________________________________\n",
      "block4_conv4 (Conv2D)        (None, 4, 4, 512)         2359808   \n",
      "_________________________________________________________________\n",
      "block4_pool (MaxPooling2D)   (None, 2, 2, 512)         0         \n",
      "_________________________________________________________________\n",
      "block5_conv1 (Conv2D)        (None, 2, 2, 512)         2359808   \n",
      "_________________________________________________________________\n",
      "block5_conv2 (Conv2D)        (None, 2, 2, 512)         2359808   \n",
      "_________________________________________________________________\n",
      "block5_conv3 (Conv2D)        (None, 2, 2, 512)         2359808   \n",
      "_________________________________________________________________\n",
      "block5_conv4 (Conv2D)        (None, 2, 2, 512)         2359808   \n",
      "_________________________________________________________________\n",
      "block5_pool (MaxPooling2D)   (None, 1, 1, 512)         0         \n",
      "_________________________________________________________________\n",
      "flatten_1 (Flatten)          (None, 512)               0         \n",
      "_________________________________________________________________\n",
      "dense_1 (Dense)              (None, 1024)              525312    \n",
      "_________________________________________________________________\n",
      "dense_2 (Dense)              (None, 512)               524800    \n",
      "_________________________________________________________________\n",
      "dense_3 (Dense)              (None, 10)                5130      \n",
      "=================================================================\n",
      "Total params: 21,079,626\n",
      "Trainable params: 1,055,242\n",
      "Non-trainable params: 20,024,384\n",
      "_________________________________________________________________\n"
     ]
    }
   ],
   "source": [
    "# Let's try to use VGG19 to make predictions on our set.\n",
    "# We replace dense layers in VGG19 with our own\n",
    "\n",
    "vgg19 = keras.applications.vgg19.VGG19(\n",
    "    weights='imagenet',\n",
    "    include_top=False,\n",
    "    input_shape=(img_height, img_width, img_channels))\n",
    "\n",
    "for layer in vgg19.layers:\n",
    "    layer.trainable = False\n",
    "\n",
    "model = Sequential(layers=vgg19.layers)\n",
    "model.add(Flatten())\n",
    "model.add(Dense(1024))\n",
    "model.add(Dense(512))\n",
    "model.add(Dense(10))\n",
    "model.compile(loss='categorical_crossentropy', optimizer='adam')\n",
    "model.summary()\n",
    "#vgg19.summary()\n",
    "#print(model.layers[0].get_weights()[0][0][0][0])\n",
    "#print(vgg19.layers[1].get_weights()[0][0][0][0])"
   ]
  },
  {
   "cell_type": "code",
   "execution_count": null,
   "metadata": {},
   "outputs": [
    {
     "name": "stderr",
     "output_type": "stream",
     "text": [
      "W0413 22:46:06.359293 13540 deprecation.py:323] From d:\\apps\\python 3.7.2\\lib\\site-packages\\tensorflow\\python\\ops\\math_grad.py:1250: add_dispatch_support.<locals>.wrapper (from tensorflow.python.ops.array_ops) is deprecated and will be removed in a future version.\n",
      "Instructions for updating:\n",
      "Use tf.where in 2.0, which has the same broadcast rule as np.where\n"
     ]
    },
    {
     "name": "stdout",
     "output_type": "stream",
     "text": [
      "Train on 45000 samples, validate on 5000 samples\n",
      "Epoch 1/100\n",
      "45000/45000 [==============================] - 29s 643us/step - loss: 8.0867 - val_loss: 7.0012\n",
      "Epoch 2/100\n",
      "45000/45000 [==============================] - 21s 466us/step - loss: 7.9337 - val_loss: 7.8308\n",
      "Epoch 3/100\n",
      "45000/45000 [==============================] - 21s 465us/step - loss: 7.5782 - val_loss: 6.4686\n",
      "Epoch 4/100\n",
      "45000/45000 [==============================] - 21s 471us/step - loss: 7.4369 - val_loss: 8.1143\n",
      "Epoch 5/100\n",
      "45000/45000 [==============================] - 21s 474us/step - loss: 8.6306 - val_loss: 7.9316\n",
      "Epoch 6/100\n",
      "45000/45000 [==============================] - 21s 474us/step - loss: 8.3481 - val_loss: 9.1597\n",
      "Epoch 7/100\n",
      "45000/45000 [==============================] - 21s 469us/step - loss: 8.2399 - val_loss: 7.1349\n",
      "Epoch 8/100\n",
      "45000/45000 [==============================] - 21s 468us/step - loss: 7.6944 - val_loss: 7.1697\n",
      "Epoch 9/100\n",
      "45000/45000 [==============================] - 21s 472us/step - loss: 6.9073 - val_loss: 6.6601\n",
      "Epoch 10/100\n",
      "45000/45000 [==============================] - 21s 469us/step - loss: 6.6662 - val_loss: 5.3166\n",
      "Epoch 11/100\n",
      "45000/45000 [==============================] - 21s 470us/step - loss: 5.8283 - val_loss: 6.1171\n",
      "Epoch 12/100\n",
      "45000/45000 [==============================] - 21s 470us/step - loss: 6.5466 - val_loss: 7.7893\n",
      "Epoch 13/100\n",
      "45000/45000 [==============================] - 21s 471us/step - loss: 7.7930 - val_loss: 6.0329\n",
      "Epoch 14/100\n",
      "45000/45000 [==============================] - 21s 472us/step - loss: 5.6698 - val_loss: 5.4064\n",
      "Epoch 15/100\n",
      "45000/45000 [==============================] - 21s 475us/step - loss: 7.5395 - val_loss: 7.2623\n",
      "Epoch 16/100\n",
      "45000/45000 [==============================] - 21s 476us/step - loss: 7.6350 - val_loss: 6.0403\n",
      "Epoch 17/100\n",
      "45000/45000 [==============================] - 21s 477us/step - loss: 8.1947 - val_loss: 8.9180\n",
      "Epoch 18/100\n",
      "45000/45000 [==============================] - 21s 478us/step - loss: 7.9245 - val_loss: 7.4252\n",
      "Epoch 19/100\n",
      "45000/45000 [==============================] - 22s 481us/step - loss: 8.3291 - val_loss: 8.7505\n",
      "Epoch 20/100\n",
      "45000/45000 [==============================] - 22s 479us/step - loss: 8.1192 - val_loss: 7.6286\n",
      "Epoch 21/100\n",
      "45000/45000 [==============================] - 23s 522us/step - loss: 7.9411 - val_loss: 7.9061\n",
      "Epoch 22/100\n",
      "45000/45000 [==============================] - 23s 506us/step - loss: 8.0446 - val_loss: 8.0385\n",
      "Epoch 23/100\n",
      "45000/45000 [==============================] - 22s 499us/step - loss: 8.0295 - val_loss: 8.5361\n",
      "Epoch 24/100\n",
      "45000/45000 [==============================] - 22s 490us/step - loss: 7.3631 - val_loss: 7.1359\n",
      "Epoch 25/100\n",
      "45000/45000 [==============================] - 22s 485us/step - loss: 8.0005 - val_loss: 8.3820\n",
      "Epoch 26/100\n",
      "45000/45000 [==============================] - 22s 482us/step - loss: 8.2618 - val_loss: 8.7725\n",
      "Epoch 27/100\n",
      "45000/45000 [==============================] - 22s 481us/step - loss: 8.0198 - val_loss: 7.8120\n",
      "Epoch 28/100\n",
      "45000/45000 [==============================] - 22s 483us/step - loss: 0.4457 - val_loss: 1.1921e-07\n",
      "Epoch 29/100\n",
      "45000/45000 [==============================] - 22s 484us/step - loss: 1.1921e-07 - val_loss: 1.1921e-07\n",
      "Epoch 30/100\n",
      "45000/45000 [==============================] - 22s 485us/step - loss: 1.1921e-07 - val_loss: 1.1921e-07\n",
      "Epoch 31/100\n",
      "45000/45000 [==============================] - 22s 483us/step - loss: 1.1921e-07 - val_loss: 1.1921e-07\n",
      "Epoch 32/100\n",
      "45000/45000 [==============================] - 22s 487us/step - loss: 1.1921e-07 - val_loss: 1.1921e-07\n",
      "Epoch 33/100\n",
      "45000/45000 [==============================] - 22s 491us/step - loss: 1.1921e-07 - val_loss: 1.1921e-07\n",
      "Epoch 34/100\n",
      "45000/45000 [==============================] - 22s 491us/step - loss: 1.1921e-07 - val_loss: 1.1921e-07\n",
      "Epoch 35/100\n",
      "45000/45000 [==============================] - 22s 495us/step - loss: 1.1921e-07 - val_loss: 1.1921e-07\n",
      "Epoch 36/100\n",
      "45000/45000 [==============================] - 22s 488us/step - loss: 1.1921e-07 - val_loss: 1.1921e-07\n",
      "Epoch 37/100\n",
      "45000/45000 [==============================] - 22s 487us/step - loss: 1.1921e-07 - val_loss: 1.1921e-07\n",
      "Epoch 38/100\n",
      "14336/45000 [========>.....................] - ETA: 13s - loss: 1.1921e-07"
     ]
    }
   ],
   "source": [
    "# Training\n",
    "\n",
    "history = model.fit(img_df, labels,\n",
    "                    batch_size=256,\n",
    "                    validation_split=0.1,\n",
    "                    epochs=100)"
   ]
  },
  {
   "cell_type": "code",
   "execution_count": 22,
   "metadata": {},
   "outputs": [
    {
     "data": {
      "image/png": "[encoded data removed]",
      "text/plain": [
       "<Figure size 432x288 with 1 Axes>"
      ]
     },
     "metadata": {
      "needs_background": "light"
     },
     "output_type": "display_data"
    }
   ],
   "source": [
    "plt.plot(history.history['loss'], label='train loss')\n",
    "plt.plot(history.history['val_loss'], label='validation loss')\n",
    "plt.legend()\n",
    "plt.show()"
   ]
  },
  {
   "cell_type": "code",
   "execution_count": null,
   "metadata": {},
   "outputs": [],
   "source": []
  },
  {
   "cell_type": "code",
   "execution_count": null,
   "metadata": {},
   "outputs": [],
   "source": []
  },
  {
   "cell_type": "code",
   "execution_count": null,
   "metadata": {},
   "outputs": [],
   "source": []
  },
  {
   "cell_type": "code",
   "execution_count": null,
   "metadata": {},
   "outputs": [],
   "source": []
  }
 ],
 "metadata": {
  "kernelspec": {
   "display_name": "Python 3",
   "language": "python",
   "name": "python3"
  },
  "language_info": {
   "codemirror_mode": {
    "name": "ipython",
    "version": 3
   },
   "file_extension": ".py",
   "mimetype": "text/x-python",
   "name": "python",
   "nbconvert_exporter": "python",
   "pygments_lexer": "ipython3",
   "version": "3.7.3"
  }
 },
 "nbformat": 4,
 "nbformat_minor": 2
}
